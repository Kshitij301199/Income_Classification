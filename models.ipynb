{
 "cells": [
  {
   "cell_type": "code",
   "execution_count": 107,
   "metadata": {},
   "outputs": [],
   "source": [
    "import warnings\n",
    "import numpy as np\n",
    "import pandas as pd\n",
    "import seaborn as sns\n",
    "import matplotlib.pyplot as plt\n",
    "\n",
    "from sklearn.metrics import accuracy_score,recall_score,precision_score,f1_score,confusion_matrix\n",
    "from sklearn.model_selection import train_test_split,GridSearchCV\n",
    "from sklearn.model_selection import cross_val_score\n",
    "\n",
    "from sklearn.linear_model import LogisticRegression\n",
    "from sklearn.tree import DecisionTreeClassifier\n",
    "from sklearn.ensemble import RandomForestClassifier\n",
    "\n",
    "from keras.models import Sequential\n",
    "from keras.layers.core import Dense\n",
    "import tensorflow as tf"
   ]
  },
  {
   "cell_type": "markdown",
   "metadata": {},
   "source": [
    "# Loading the data"
   ]
  },
  {
   "cell_type": "code",
   "execution_count": 108,
   "metadata": {},
   "outputs": [
    {
     "data": {
      "text/html": [
       "<div>\n",
       "<style scoped>\n",
       "    .dataframe tbody tr th:only-of-type {\n",
       "        vertical-align: middle;\n",
       "    }\n",
       "\n",
       "    .dataframe tbody tr th {\n",
       "        vertical-align: top;\n",
       "    }\n",
       "\n",
       "    .dataframe thead th {\n",
       "        text-align: right;\n",
       "    }\n",
       "</style>\n",
       "<table border=\"1\" class=\"dataframe\">\n",
       "  <thead>\n",
       "    <tr style=\"text-align: right;\">\n",
       "      <th></th>\n",
       "      <th>Age</th>\n",
       "      <th>Employment_Type</th>\n",
       "      <th>Weighing_Factor</th>\n",
       "      <th>Education_Level</th>\n",
       "      <th>Schooling</th>\n",
       "      <th>Marital_Status</th>\n",
       "      <th>Employment_Area</th>\n",
       "      <th>Partnership</th>\n",
       "      <th>Ethnicity</th>\n",
       "      <th>Gender</th>\n",
       "      <th>Gains_FA</th>\n",
       "      <th>Loss_FA</th>\n",
       "      <th>Working_Time</th>\n",
       "      <th>Country_of_Birth</th>\n",
       "      <th>Income</th>\n",
       "    </tr>\n",
       "  </thead>\n",
       "  <tbody>\n",
       "    <tr>\n",
       "      <th>0</th>\n",
       "      <td>3.688879</td>\n",
       "      <td>State-gov</td>\n",
       "      <td>11.258253</td>\n",
       "      <td>Bachelors</td>\n",
       "      <td>1.135322</td>\n",
       "      <td>Never-married</td>\n",
       "      <td>Adm-clerical</td>\n",
       "      <td>Not-in-family</td>\n",
       "      <td>White</td>\n",
       "      <td>Male</td>\n",
       "      <td>7.684784</td>\n",
       "      <td>0.0</td>\n",
       "      <td>-0.035080</td>\n",
       "      <td>United-States</td>\n",
       "      <td>&lt;=50K</td>\n",
       "    </tr>\n",
       "    <tr>\n",
       "      <th>1</th>\n",
       "      <td>3.931826</td>\n",
       "      <td>Self-emp-not-inc</td>\n",
       "      <td>11.330348</td>\n",
       "      <td>Bachelors</td>\n",
       "      <td>1.135322</td>\n",
       "      <td>Married-civ-spouse</td>\n",
       "      <td>Exec-managerial</td>\n",
       "      <td>Husband</td>\n",
       "      <td>White</td>\n",
       "      <td>Male</td>\n",
       "      <td>0.000000</td>\n",
       "      <td>0.0</td>\n",
       "      <td>-2.227904</td>\n",
       "      <td>United-States</td>\n",
       "      <td>&lt;=50K</td>\n",
       "    </tr>\n",
       "    <tr>\n",
       "      <th>2</th>\n",
       "      <td>3.663562</td>\n",
       "      <td>Private</td>\n",
       "      <td>12.281398</td>\n",
       "      <td>HS-grad</td>\n",
       "      <td>-0.419772</td>\n",
       "      <td>Divorced</td>\n",
       "      <td>Handlers-cleaners</td>\n",
       "      <td>Not-in-family</td>\n",
       "      <td>White</td>\n",
       "      <td>Male</td>\n",
       "      <td>0.000000</td>\n",
       "      <td>0.0</td>\n",
       "      <td>-0.035080</td>\n",
       "      <td>United-States</td>\n",
       "      <td>&lt;=50K</td>\n",
       "    </tr>\n",
       "    <tr>\n",
       "      <th>3</th>\n",
       "      <td>3.988984</td>\n",
       "      <td>Private</td>\n",
       "      <td>12.366157</td>\n",
       "      <td>11th</td>\n",
       "      <td>-1.197318</td>\n",
       "      <td>Married-civ-spouse</td>\n",
       "      <td>Handlers-cleaners</td>\n",
       "      <td>Husband</td>\n",
       "      <td>Black</td>\n",
       "      <td>Male</td>\n",
       "      <td>0.000000</td>\n",
       "      <td>0.0</td>\n",
       "      <td>-0.035080</td>\n",
       "      <td>United-States</td>\n",
       "      <td>&lt;=50K</td>\n",
       "    </tr>\n",
       "    <tr>\n",
       "      <th>4</th>\n",
       "      <td>3.367296</td>\n",
       "      <td>Private</td>\n",
       "      <td>12.732013</td>\n",
       "      <td>Bachelors</td>\n",
       "      <td>1.135322</td>\n",
       "      <td>Married-civ-spouse</td>\n",
       "      <td>Prof-specialty</td>\n",
       "      <td>Wife</td>\n",
       "      <td>Black</td>\n",
       "      <td>Female</td>\n",
       "      <td>0.000000</td>\n",
       "      <td>0.0</td>\n",
       "      <td>-0.035080</td>\n",
       "      <td>Cuba</td>\n",
       "      <td>&lt;=50K</td>\n",
       "    </tr>\n",
       "  </tbody>\n",
       "</table>\n",
       "</div>"
      ],
      "text/plain": [
       "        Age    Employment_Type  Weighing_Factor Education_Level  Schooling  \\\n",
       "0  3.688879          State-gov        11.258253       Bachelors   1.135322   \n",
       "1  3.931826   Self-emp-not-inc        11.330348       Bachelors   1.135322   \n",
       "2  3.663562            Private        12.281398         HS-grad  -0.419772   \n",
       "3  3.988984            Private        12.366157            11th  -1.197318   \n",
       "4  3.367296            Private        12.732013       Bachelors   1.135322   \n",
       "\n",
       "        Marital_Status     Employment_Area     Partnership Ethnicity   Gender  \\\n",
       "0        Never-married        Adm-clerical   Not-in-family     White     Male   \n",
       "1   Married-civ-spouse     Exec-managerial         Husband     White     Male   \n",
       "2             Divorced   Handlers-cleaners   Not-in-family     White     Male   \n",
       "3   Married-civ-spouse   Handlers-cleaners         Husband     Black     Male   \n",
       "4   Married-civ-spouse      Prof-specialty            Wife     Black   Female   \n",
       "\n",
       "   Gains_FA  Loss_FA  Working_Time Country_of_Birth  Income  \n",
       "0  7.684784      0.0     -0.035080    United-States   <=50K  \n",
       "1  0.000000      0.0     -2.227904    United-States   <=50K  \n",
       "2  0.000000      0.0     -0.035080    United-States   <=50K  \n",
       "3  0.000000      0.0     -0.035080    United-States   <=50K  \n",
       "4  0.000000      0.0     -0.035080             Cuba   <=50K  "
      ]
     },
     "execution_count": 108,
     "metadata": {},
     "output_type": "execute_result"
    }
   ],
   "source": [
    "data = pd.read_csv(\"./data/data.csv\")\n",
    "data.drop(columns=[\"Unnamed: 0\"],inplace=True)\n",
    "data.head()"
   ]
  },
  {
   "cell_type": "code",
   "execution_count": 109,
   "metadata": {},
   "outputs": [
    {
     "data": {
      "text/html": [
       "<div>\n",
       "<style scoped>\n",
       "    .dataframe tbody tr th:only-of-type {\n",
       "        vertical-align: middle;\n",
       "    }\n",
       "\n",
       "    .dataframe tbody tr th {\n",
       "        vertical-align: top;\n",
       "    }\n",
       "\n",
       "    .dataframe thead th {\n",
       "        text-align: right;\n",
       "    }\n",
       "</style>\n",
       "<table border=\"1\" class=\"dataframe\">\n",
       "  <thead>\n",
       "    <tr style=\"text-align: right;\">\n",
       "      <th></th>\n",
       "      <th>Age</th>\n",
       "      <th>Employment_Type</th>\n",
       "      <th>Weighing_Factor</th>\n",
       "      <th>Education_Level</th>\n",
       "      <th>Schooling</th>\n",
       "      <th>Marital_Status</th>\n",
       "      <th>Employment_Area</th>\n",
       "      <th>Partnership</th>\n",
       "      <th>Ethnicity</th>\n",
       "      <th>Gender</th>\n",
       "      <th>Gains_FA</th>\n",
       "      <th>Loss_FA</th>\n",
       "      <th>Working_Time</th>\n",
       "      <th>Income</th>\n",
       "    </tr>\n",
       "  </thead>\n",
       "  <tbody>\n",
       "    <tr>\n",
       "      <th>0</th>\n",
       "      <td>3.688879</td>\n",
       "      <td>5</td>\n",
       "      <td>11.258253</td>\n",
       "      <td>9</td>\n",
       "      <td>1.135322</td>\n",
       "      <td>4</td>\n",
       "      <td>0</td>\n",
       "      <td>1</td>\n",
       "      <td>4</td>\n",
       "      <td>1</td>\n",
       "      <td>7.684784</td>\n",
       "      <td>0.0</td>\n",
       "      <td>-0.035080</td>\n",
       "      <td>0</td>\n",
       "    </tr>\n",
       "    <tr>\n",
       "      <th>1</th>\n",
       "      <td>3.931826</td>\n",
       "      <td>4</td>\n",
       "      <td>11.330348</td>\n",
       "      <td>9</td>\n",
       "      <td>1.135322</td>\n",
       "      <td>2</td>\n",
       "      <td>3</td>\n",
       "      <td>0</td>\n",
       "      <td>4</td>\n",
       "      <td>1</td>\n",
       "      <td>0.000000</td>\n",
       "      <td>0.0</td>\n",
       "      <td>-2.227904</td>\n",
       "      <td>0</td>\n",
       "    </tr>\n",
       "    <tr>\n",
       "      <th>2</th>\n",
       "      <td>3.663562</td>\n",
       "      <td>2</td>\n",
       "      <td>12.281398</td>\n",
       "      <td>11</td>\n",
       "      <td>-0.419772</td>\n",
       "      <td>0</td>\n",
       "      <td>5</td>\n",
       "      <td>1</td>\n",
       "      <td>4</td>\n",
       "      <td>1</td>\n",
       "      <td>0.000000</td>\n",
       "      <td>0.0</td>\n",
       "      <td>-0.035080</td>\n",
       "      <td>0</td>\n",
       "    </tr>\n",
       "    <tr>\n",
       "      <th>3</th>\n",
       "      <td>3.988984</td>\n",
       "      <td>2</td>\n",
       "      <td>12.366157</td>\n",
       "      <td>1</td>\n",
       "      <td>-1.197318</td>\n",
       "      <td>2</td>\n",
       "      <td>5</td>\n",
       "      <td>0</td>\n",
       "      <td>2</td>\n",
       "      <td>1</td>\n",
       "      <td>0.000000</td>\n",
       "      <td>0.0</td>\n",
       "      <td>-0.035080</td>\n",
       "      <td>0</td>\n",
       "    </tr>\n",
       "    <tr>\n",
       "      <th>4</th>\n",
       "      <td>3.367296</td>\n",
       "      <td>2</td>\n",
       "      <td>12.732013</td>\n",
       "      <td>9</td>\n",
       "      <td>1.135322</td>\n",
       "      <td>2</td>\n",
       "      <td>9</td>\n",
       "      <td>5</td>\n",
       "      <td>2</td>\n",
       "      <td>0</td>\n",
       "      <td>0.000000</td>\n",
       "      <td>0.0</td>\n",
       "      <td>-0.035080</td>\n",
       "      <td>0</td>\n",
       "    </tr>\n",
       "  </tbody>\n",
       "</table>\n",
       "</div>"
      ],
      "text/plain": [
       "        Age  Employment_Type  Weighing_Factor  Education_Level  Schooling  \\\n",
       "0  3.688879                5        11.258253                9   1.135322   \n",
       "1  3.931826                4        11.330348                9   1.135322   \n",
       "2  3.663562                2        12.281398               11  -0.419772   \n",
       "3  3.988984                2        12.366157                1  -1.197318   \n",
       "4  3.367296                2        12.732013                9   1.135322   \n",
       "\n",
       "   Marital_Status  Employment_Area  Partnership  Ethnicity  Gender  Gains_FA  \\\n",
       "0               4                0            1          4       1  7.684784   \n",
       "1               2                3            0          4       1  0.000000   \n",
       "2               0                5            1          4       1  0.000000   \n",
       "3               2                5            0          2       1  0.000000   \n",
       "4               2                9            5          2       0  0.000000   \n",
       "\n",
       "   Loss_FA  Working_Time  Income  \n",
       "0      0.0     -0.035080       0  \n",
       "1      0.0     -2.227904       0  \n",
       "2      0.0     -0.035080       0  \n",
       "3      0.0     -0.035080       0  \n",
       "4      0.0     -0.035080       0  "
      ]
     },
     "execution_count": 109,
     "metadata": {},
     "output_type": "execute_result"
    }
   ],
   "source": [
    "final_df_training = pd.read_csv(\"./data/final_df_training.csv\",index_col=\"Unnamed: 0\")\n",
    "final_df_training.head()"
   ]
  },
  {
   "cell_type": "code",
   "execution_count": 110,
   "metadata": {},
   "outputs": [
    {
     "data": {
      "text/html": [
       "<div>\n",
       "<style scoped>\n",
       "    .dataframe tbody tr th:only-of-type {\n",
       "        vertical-align: middle;\n",
       "    }\n",
       "\n",
       "    .dataframe tbody tr th {\n",
       "        vertical-align: top;\n",
       "    }\n",
       "\n",
       "    .dataframe thead th {\n",
       "        text-align: right;\n",
       "    }\n",
       "</style>\n",
       "<table border=\"1\" class=\"dataframe\">\n",
       "  <thead>\n",
       "    <tr style=\"text-align: right;\">\n",
       "      <th></th>\n",
       "      <th>Age</th>\n",
       "      <th>Employment_Type</th>\n",
       "      <th>Weighing_Factor</th>\n",
       "      <th>Education_Level</th>\n",
       "      <th>Schooling</th>\n",
       "      <th>Marital_Status</th>\n",
       "      <th>Employment_Area</th>\n",
       "      <th>Partnership</th>\n",
       "      <th>Ethnicity</th>\n",
       "      <th>Gender</th>\n",
       "      <th>Gains_FA</th>\n",
       "      <th>Loss_FA</th>\n",
       "      <th>Working_Time</th>\n",
       "    </tr>\n",
       "  </thead>\n",
       "  <tbody>\n",
       "    <tr>\n",
       "      <th>5000</th>\n",
       "      <td>3.871201</td>\n",
       "      <td>4</td>\n",
       "      <td>11.285121</td>\n",
       "      <td>14</td>\n",
       "      <td>1.912869</td>\n",
       "      <td>0</td>\n",
       "      <td>9</td>\n",
       "      <td>1</td>\n",
       "      <td>4</td>\n",
       "      <td>1</td>\n",
       "      <td>10.233834</td>\n",
       "      <td>0.000000</td>\n",
       "      <td>0.777077</td>\n",
       "    </tr>\n",
       "    <tr>\n",
       "      <th>5001</th>\n",
       "      <td>4.025352</td>\n",
       "      <td>3</td>\n",
       "      <td>11.928176</td>\n",
       "      <td>9</td>\n",
       "      <td>1.135322</td>\n",
       "      <td>4</td>\n",
       "      <td>12</td>\n",
       "      <td>2</td>\n",
       "      <td>4</td>\n",
       "      <td>0</td>\n",
       "      <td>0.000000</td>\n",
       "      <td>7.372118</td>\n",
       "      <td>-0.197511</td>\n",
       "    </tr>\n",
       "    <tr>\n",
       "      <th>5002</th>\n",
       "      <td>3.295837</td>\n",
       "      <td>3</td>\n",
       "      <td>11.795560</td>\n",
       "      <td>11</td>\n",
       "      <td>-0.419772</td>\n",
       "      <td>2</td>\n",
       "      <td>3</td>\n",
       "      <td>5</td>\n",
       "      <td>4</td>\n",
       "      <td>0</td>\n",
       "      <td>8.519989</td>\n",
       "      <td>0.000000</td>\n",
       "      <td>-0.035080</td>\n",
       "    </tr>\n",
       "    <tr>\n",
       "      <th>5003</th>\n",
       "      <td>3.367296</td>\n",
       "      <td>3</td>\n",
       "      <td>11.993343</td>\n",
       "      <td>11</td>\n",
       "      <td>-0.419772</td>\n",
       "      <td>4</td>\n",
       "      <td>6</td>\n",
       "      <td>4</td>\n",
       "      <td>4</td>\n",
       "      <td>0</td>\n",
       "      <td>0.000000</td>\n",
       "      <td>0.000000</td>\n",
       "      <td>-0.035080</td>\n",
       "    </tr>\n",
       "    <tr>\n",
       "      <th>5004</th>\n",
       "      <td>3.610918</td>\n",
       "      <td>3</td>\n",
       "      <td>11.040471</td>\n",
       "      <td>11</td>\n",
       "      <td>-0.419772</td>\n",
       "      <td>2</td>\n",
       "      <td>2</td>\n",
       "      <td>0</td>\n",
       "      <td>2</td>\n",
       "      <td>1</td>\n",
       "      <td>0.000000</td>\n",
       "      <td>0.000000</td>\n",
       "      <td>-0.035080</td>\n",
       "    </tr>\n",
       "  </tbody>\n",
       "</table>\n",
       "</div>"
      ],
      "text/plain": [
       "           Age  Employment_Type  Weighing_Factor  Education_Level  Schooling  \\\n",
       "5000  3.871201                4        11.285121               14   1.912869   \n",
       "5001  4.025352                3        11.928176                9   1.135322   \n",
       "5002  3.295837                3        11.795560               11  -0.419772   \n",
       "5003  3.367296                3        11.993343               11  -0.419772   \n",
       "5004  3.610918                3        11.040471               11  -0.419772   \n",
       "\n",
       "      Marital_Status  Employment_Area  Partnership  Ethnicity  Gender  \\\n",
       "5000               0                9            1          4       1   \n",
       "5001               4               12            2          4       0   \n",
       "5002               2                3            5          4       0   \n",
       "5003               4                6            4          4       0   \n",
       "5004               2                2            0          2       1   \n",
       "\n",
       "       Gains_FA   Loss_FA  Working_Time  \n",
       "5000  10.233834  0.000000      0.777077  \n",
       "5001   0.000000  7.372118     -0.197511  \n",
       "5002   8.519989  0.000000     -0.035080  \n",
       "5003   0.000000  0.000000     -0.035080  \n",
       "5004   0.000000  0.000000     -0.035080  "
      ]
     },
     "execution_count": 110,
     "metadata": {},
     "output_type": "execute_result"
    }
   ],
   "source": [
    "final_df_prediction = pd.read_csv(\"./data/final_df_prediction.csv\",index_col=\"Unnamed: 0\")\n",
    "final_df_prediction.head()"
   ]
  },
  {
   "cell_type": "code",
   "execution_count": 111,
   "metadata": {},
   "outputs": [
    {
     "name": "stdout",
     "output_type": "stream",
     "text": [
      "30000\n",
      "5000\n",
      "25000\n"
     ]
    }
   ],
   "source": [
    "print(len(data))\n",
    "print(len(final_df_training))\n",
    "print(len(final_df_prediction))"
   ]
  },
  {
   "cell_type": "code",
   "execution_count": 112,
   "metadata": {},
   "outputs": [],
   "source": [
    "# Creating an evaluation function that prints evaluation metrics for provided target feature and predicted feature\n",
    "\n",
    "def evaluation(test_y:np.ndarray,pred_y:np.ndarray):\n",
    "    from sklearn.metrics import accuracy_score,recall_score,precision_score,f1_score,confusion_matrix\n",
    "\n",
    "    print(f\"Accuracy Score : {np.round(accuracy_score(test_y,pred_y)*100,2)}%\")\n",
    "    print(f\"Recall Score : {np.round(recall_score(test_y,pred_y)*100,2)}%\")\n",
    "    print(f\"Precision Score : {np.round(precision_score(test_y,pred_y)*100,2)}%\")\n",
    "    print(f\"F1 Score : {np.round(f1_score(test_y,pred_y)*100,2)}%\")\n",
    "\n",
    "    print(\"\\n\")\n",
    "\n",
    "    cm = confusion_matrix(test_y, pred_y)\n",
    "\n",
    "    print(f\"Confusion Matrix : \\n{cm}\")"
   ]
  },
  {
   "cell_type": "code",
   "execution_count": 113,
   "metadata": {},
   "outputs": [],
   "source": [
    "X = final_df_training.drop(columns=['Income'],axis=1)\n",
    "y = final_df_training[\"Income\"]"
   ]
  },
  {
   "cell_type": "code",
   "execution_count": 114,
   "metadata": {},
   "outputs": [],
   "source": [
    "# Performing a train test split with 20% of the data being held out for testing\n",
    "\n",
    "X_train,X_test,y_train,y_test = train_test_split(X,y,test_size=0.20,random_state=101,shuffle=True)"
   ]
  },
  {
   "cell_type": "code",
   "execution_count": 115,
   "metadata": {},
   "outputs": [
    {
     "data": {
      "text/html": [
       "<div>\n",
       "<style scoped>\n",
       "    .dataframe tbody tr th:only-of-type {\n",
       "        vertical-align: middle;\n",
       "    }\n",
       "\n",
       "    .dataframe tbody tr th {\n",
       "        vertical-align: top;\n",
       "    }\n",
       "\n",
       "    .dataframe thead th {\n",
       "        text-align: right;\n",
       "    }\n",
       "</style>\n",
       "<table border=\"1\" class=\"dataframe\">\n",
       "  <thead>\n",
       "    <tr style=\"text-align: right;\">\n",
       "      <th></th>\n",
       "      <th>Age</th>\n",
       "      <th>Employment_Type</th>\n",
       "      <th>Weighing_Factor</th>\n",
       "      <th>Education_Level</th>\n",
       "      <th>Schooling</th>\n",
       "      <th>Marital_Status</th>\n",
       "      <th>Employment_Area</th>\n",
       "      <th>Partnership</th>\n",
       "      <th>Ethnicity</th>\n",
       "      <th>Gender</th>\n",
       "      <th>Gains_FA</th>\n",
       "      <th>Loss_FA</th>\n",
       "      <th>Working_Time</th>\n",
       "    </tr>\n",
       "  </thead>\n",
       "  <tbody>\n",
       "    <tr>\n",
       "      <th>3413</th>\n",
       "      <td>3.555348</td>\n",
       "      <td>2</td>\n",
       "      <td>12.739465</td>\n",
       "      <td>9</td>\n",
       "      <td>1.135322</td>\n",
       "      <td>2</td>\n",
       "      <td>11</td>\n",
       "      <td>0</td>\n",
       "      <td>4</td>\n",
       "      <td>1</td>\n",
       "      <td>8.895493</td>\n",
       "      <td>0.0</td>\n",
       "      <td>1.589234</td>\n",
       "    </tr>\n",
       "    <tr>\n",
       "      <th>1610</th>\n",
       "      <td>4.077537</td>\n",
       "      <td>4</td>\n",
       "      <td>12.262207</td>\n",
       "      <td>2</td>\n",
       "      <td>-0.808545</td>\n",
       "      <td>0</td>\n",
       "      <td>11</td>\n",
       "      <td>1</td>\n",
       "      <td>4</td>\n",
       "      <td>0</td>\n",
       "      <td>0.000000</td>\n",
       "      <td>0.0</td>\n",
       "      <td>0.939509</td>\n",
       "    </tr>\n",
       "    <tr>\n",
       "      <th>3459</th>\n",
       "      <td>3.091042</td>\n",
       "      <td>7</td>\n",
       "      <td>12.784855</td>\n",
       "      <td>11</td>\n",
       "      <td>-0.419772</td>\n",
       "      <td>4</td>\n",
       "      <td>14</td>\n",
       "      <td>4</td>\n",
       "      <td>4</td>\n",
       "      <td>0</td>\n",
       "      <td>0.000000</td>\n",
       "      <td>0.0</td>\n",
       "      <td>-0.035080</td>\n",
       "    </tr>\n",
       "    <tr>\n",
       "      <th>4293</th>\n",
       "      <td>3.526361</td>\n",
       "      <td>2</td>\n",
       "      <td>12.238119</td>\n",
       "      <td>15</td>\n",
       "      <td>-0.030998</td>\n",
       "      <td>0</td>\n",
       "      <td>9</td>\n",
       "      <td>1</td>\n",
       "      <td>4</td>\n",
       "      <td>1</td>\n",
       "      <td>0.000000</td>\n",
       "      <td>0.0</td>\n",
       "      <td>-0.035080</td>\n",
       "    </tr>\n",
       "    <tr>\n",
       "      <th>1039</th>\n",
       "      <td>3.555348</td>\n",
       "      <td>7</td>\n",
       "      <td>12.009510</td>\n",
       "      <td>1</td>\n",
       "      <td>-1.197318</td>\n",
       "      <td>2</td>\n",
       "      <td>14</td>\n",
       "      <td>5</td>\n",
       "      <td>4</td>\n",
       "      <td>0</td>\n",
       "      <td>0.000000</td>\n",
       "      <td>0.0</td>\n",
       "      <td>-2.633982</td>\n",
       "    </tr>\n",
       "  </tbody>\n",
       "</table>\n",
       "</div>"
      ],
      "text/plain": [
       "           Age  Employment_Type  Weighing_Factor  Education_Level  Schooling  \\\n",
       "3413  3.555348                2        12.739465                9   1.135322   \n",
       "1610  4.077537                4        12.262207                2  -0.808545   \n",
       "3459  3.091042                7        12.784855               11  -0.419772   \n",
       "4293  3.526361                2        12.238119               15  -0.030998   \n",
       "1039  3.555348                7        12.009510                1  -1.197318   \n",
       "\n",
       "      Marital_Status  Employment_Area  Partnership  Ethnicity  Gender  \\\n",
       "3413               2               11            0          4       1   \n",
       "1610               0               11            1          4       0   \n",
       "3459               4               14            4          4       0   \n",
       "4293               0                9            1          4       1   \n",
       "1039               2               14            5          4       0   \n",
       "\n",
       "      Gains_FA  Loss_FA  Working_Time  \n",
       "3413  8.895493      0.0      1.589234  \n",
       "1610  0.000000      0.0      0.939509  \n",
       "3459  0.000000      0.0     -0.035080  \n",
       "4293  0.000000      0.0     -0.035080  \n",
       "1039  0.000000      0.0     -2.633982  "
      ]
     },
     "execution_count": 115,
     "metadata": {},
     "output_type": "execute_result"
    }
   ],
   "source": [
    "X_train[0:5]"
   ]
  },
  {
   "attachments": {},
   "cell_type": "markdown",
   "metadata": {},
   "source": [
    "# Logistic Regression"
   ]
  },
  {
   "cell_type": "code",
   "execution_count": 116,
   "metadata": {},
   "outputs": [
    {
     "name": "stdout",
     "output_type": "stream",
     "text": [
      "Accuracy Score : 79.8%\n",
      "Recall Score : 39.59%\n",
      "Precision Score : 64.24%\n",
      "F1 Score : 48.99%\n",
      "\n",
      "\n",
      "Confusion Matrix : \n",
      "[[701  54]\n",
      " [148  97]]\n"
     ]
    },
    {
     "name": "stderr",
     "output_type": "stream",
     "text": [
      "c:\\Users\\kshit\\AppData\\Local\\Programs\\Python\\Python39\\lib\\site-packages\\sklearn\\linear_model\\_logistic.py:814: ConvergenceWarning: lbfgs failed to converge (status=1):\n",
      "STOP: TOTAL NO. of ITERATIONS REACHED LIMIT.\n",
      "\n",
      "Increase the number of iterations (max_iter) or scale the data as shown in:\n",
      "    https://scikit-learn.org/stable/modules/preprocessing.html\n",
      "Please also refer to the documentation for alternative solver options:\n",
      "    https://scikit-learn.org/stable/modules/linear_model.html#logistic-regression\n",
      "  n_iter_i = _check_optimize_result(\n"
     ]
    }
   ],
   "source": [
    "LR = LogisticRegression()\n",
    "\n",
    "LR.fit(X_train,y_train)\n",
    "\n",
    "y_pred = LR.predict(X_test)\n",
    "evaluation(y_test,y_pred)"
   ]
  },
  {
   "cell_type": "code",
   "execution_count": 117,
   "metadata": {},
   "outputs": [],
   "source": [
    "y_pred_wo_income_LR = LR.predict(final_df_prediction)"
   ]
  },
  {
   "cell_type": "code",
   "execution_count": 118,
   "metadata": {},
   "outputs": [
    {
     "name": "stdout",
     "output_type": "stream",
     "text": [
      "Income\n",
      " <=50K    21259\n",
      " >50K      3741\n",
      "dtype: int64\n"
     ]
    },
    {
     "data": {
      "image/png": "[encoded data removed]",
      "text/plain": [
       "<Figure size 432x288 with 1 Axes>"
      ]
     },
     "metadata": {
      "needs_background": "light"
     },
     "output_type": "display_data"
    }
   ],
   "source": [
    "print(pd.DataFrame(y_pred_wo_income_LR,columns=[\"Income\"]).replace({0:\" <=50K\",1:\" >50K\"}).value_counts())\n",
    "sns.histplot(pd.DataFrame(y_pred_wo_income_LR,columns=[\"Income\"]).replace({0:\" <=50K\",1:\" >50K\"})[\"Income\"]);"
   ]
  },
  {
   "attachments": {},
   "cell_type": "markdown",
   "metadata": {},
   "source": [
    "## Tuning the LR model"
   ]
  },
  {
   "cell_type": "code",
   "execution_count": 85,
   "metadata": {},
   "outputs": [
    {
     "name": "stdout",
     "output_type": "stream",
     "text": [
      "Best Hyperparameters: {'C': 0.1, 'max_iter': 300, 'penalty': 'l1', 'solver': 'saga'}\n",
      "Best Score: 0.8147500000000001\n",
      "Accuracy Score : 79.8%\n",
      "Recall Score : 38.37%\n",
      "Precision Score : 64.83%\n",
      "F1 Score : 48.21%\n",
      "\n",
      "\n",
      "Confusion Matrix : \n",
      "[[704  51]\n",
      " [151  94]]\n"
     ]
    }
   ],
   "source": [
    "clf_LR = LogisticRegression()\n",
    "params_LR = {\n",
    "    'penalty': ['l1', 'l2', 'elasticnet'],\n",
    "    'C': [0.1, 1.0, 10.0],\n",
    "    'solver': ['lbfgs', 'liblinear', 'newton-cholesky', 'saga'],\n",
    "    'max_iter': [100,200,300,500]\n",
    "    # 'multi_class': ['auto', 'ovr', 'multinomial']\n",
    "}\n",
    "\n",
    "with warnings.catch_warnings():\n",
    "    warnings.filterwarnings(\"ignore\")\n",
    "    # Fit the classifier\n",
    "    \n",
    "    grid_search_LR = GridSearchCV(clf_LR,params_LR);\n",
    "    grid_search_LR.fit(X_train,y_train)\n",
    "\n",
    "print(\"Best Hyperparameters:\", grid_search_LR.best_params_)\n",
    "print(\"Best Score:\", grid_search_LR.best_score_)\n",
    "\n",
    "best_model_LR = grid_search_LR.best_estimator_\n",
    "\n",
    "y_pred_LR2 = best_model_LR.predict(X_test)\n",
    "evaluation(y_test,y_pred_LR2)"
   ]
  },
  {
   "cell_type": "code",
   "execution_count": 86,
   "metadata": {},
   "outputs": [
    {
     "name": "stdout",
     "output_type": "stream",
     "text": [
      "Accuracy Score : 80.3%\n",
      "Recall Score : 40.41%\n",
      "Precision Score : 66.0%\n",
      "F1 Score : 50.13%\n",
      "\n",
      "\n",
      "Confusion Matrix : \n",
      "[[704  51]\n",
      " [146  99]]\n"
     ]
    },
    {
     "name": "stderr",
     "output_type": "stream",
     "text": [
      "c:\\Users\\kshit\\AppData\\Local\\Programs\\Python\\Python39\\lib\\site-packages\\sklearn\\linear_model\\_sag.py:352: ConvergenceWarning: The max_iter was reached which means the coef_ did not converge\n",
      "  warnings.warn(\n"
     ]
    }
   ],
   "source": [
    "LR2 = LogisticRegression(penalty=\"l2\",solver=\"saga\",max_iter=500)\n",
    "LR2.fit(X_train,y_train)\n",
    "y_pred_LR2 = LR2.predict(X_test)\n",
    "evaluation(y_test,y_pred_LR2)"
   ]
  },
  {
   "cell_type": "code",
   "execution_count": 88,
   "metadata": {},
   "outputs": [
    {
     "name": "stdout",
     "output_type": "stream",
     "text": [
      "Income\n",
      " <=50K    21259\n",
      " >50K      3741\n",
      "dtype: int64\n",
      "\n",
      "\n",
      "Income\n",
      " <=50K    21449\n",
      " >50K      3551\n",
      "dtype: int64\n"
     ]
    },
    {
     "data": {
      "image/png": "[encoded data removed]",
      "text/plain": [
       "<Figure size 432x288 with 1 Axes>"
      ]
     },
     "metadata": {
      "needs_background": "light"
     },
     "output_type": "display_data"
    }
   ],
   "source": [
    "y_pred_wo_income_LR2 = best_model_LR.predict(final_df_prediction)\n",
    "\n",
    "print(pd.DataFrame(y_pred_wo_income_LR,columns=[\"Income\"]).replace({0:\" <=50K\",1:\" >50K\"}).value_counts())\n",
    "print(\"\\n\")\n",
    "print(pd.DataFrame(y_pred_wo_income_LR2,columns=[\"Income\"]).replace({0:\" <=50K\",1:\" >50K\"}).value_counts())\n",
    "sns.histplot(pd.DataFrame(y_pred_wo_income_LR,columns=[\"Income\"]).replace({0:\" <=50K\",1:\" >50K\"})[\"Income\"],color=\"r\",label=\"Default Model\");\n",
    "sns.histplot(pd.DataFrame(y_pred_wo_income_LR2,columns=[\"Income\"]).replace({0:\" <=50K\",1:\" >50K\"})[\"Income\"],color=\"b\",alpha=0.5,label=\"Tuned Model\");\n",
    "plt.legend(loc=\"best\");"
   ]
  },
  {
   "attachments": {},
   "cell_type": "markdown",
   "metadata": {},
   "source": [
    "# Decision Trees\n"
   ]
  },
  {
   "cell_type": "code",
   "execution_count": 31,
   "metadata": {},
   "outputs": [
    {
     "name": "stdout",
     "output_type": "stream",
     "text": [
      "Accuracy Score : 80.1%\n",
      "Recall Score : 58.37%\n",
      "Precision Score : 59.58%\n",
      "F1 Score : 58.97%\n",
      "\n",
      "\n",
      "Confusion Matrix : \n",
      "[[658  97]\n",
      " [102 143]]\n"
     ]
    }
   ],
   "source": [
    "DT = DecisionTreeClassifier()\n",
    "\n",
    "DT.fit(X_train,y_train)\n",
    "\n",
    "y_pred_DT = DT.predict(X_test)\n",
    "evaluation(y_test,y_pred_DT)"
   ]
  },
  {
   "cell_type": "code",
   "execution_count": 32,
   "metadata": {},
   "outputs": [
    {
     "name": "stdout",
     "output_type": "stream",
     "text": [
      "Income\n",
      " <=50K    18688\n",
      " >50K      6312\n",
      "dtype: int64\n"
     ]
    },
    {
     "data": {
      "image/png": "[encoded data removed]",
      "text/plain": [
       "<Figure size 432x288 with 1 Axes>"
      ]
     },
     "metadata": {
      "needs_background": "light"
     },
     "output_type": "display_data"
    }
   ],
   "source": [
    "y_pred_wo_income_DT = DT.predict(final_df_prediction)\n",
    "\n",
    "print(pd.DataFrame(y_pred_wo_income_DT,columns=[\"Income\"]).replace({0:\" <=50K\",1:\" >50K\"}).value_counts())\n",
    "sns.histplot(pd.DataFrame(y_pred_wo_income_DT,columns=[\"Income\"]).replace({0:\" <=50K\",1:\" >50K\"})[\"Income\"]);"
   ]
  },
  {
   "attachments": {},
   "cell_type": "markdown",
   "metadata": {},
   "source": [
    "## Tuning the DT model"
   ]
  },
  {
   "cell_type": "code",
   "execution_count": 33,
   "metadata": {},
   "outputs": [
    {
     "name": "stdout",
     "output_type": "stream",
     "text": [
      "Best Hyperparameters: {'criterion': 'gini', 'max_depth': 5, 'max_features': None, 'min_samples_leaf': 1, 'min_samples_split': 2, 'splitter': 'best'}\n",
      "Best Score: 0.84375\n",
      "Accuracy Score : 83.1%\n",
      "Recall Score : 48.16%\n",
      "Precision Score : 73.75%\n",
      "F1 Score : 58.27%\n",
      "\n",
      "\n",
      "Confusion Matrix : \n",
      "[[713  42]\n",
      " [127 118]]\n"
     ]
    }
   ],
   "source": [
    "clf_DT = DecisionTreeClassifier()\n",
    "\n",
    "params_DT = {\n",
    "    'max_depth': [3, 4, 5, 6, 7, 8, None],\n",
    "    'min_samples_split': [2, 3, 4],\n",
    "    'min_samples_leaf': [1, 2, 3],\n",
    "    'max_features': [None, 'sqrt', 'log2','auto'],\n",
    "    'criterion': ['gini', 'entropy'],\n",
    "    'splitter': ['best', 'random']\n",
    "}\n",
    "\n",
    "grid_search_DT = GridSearchCV(clf_DT,params_DT);\n",
    "grid_search_DT.fit(X_train,y_train)\n",
    "\n",
    "print(\"Best Hyperparameters:\", grid_search_DT.best_params_)\n",
    "print(\"Best Score:\", grid_search_DT.best_score_)\n",
    "\n",
    "best_model_DT = grid_search_DT.best_estimator_\n",
    "\n",
    "y_pred_DT2 = best_model_DT.predict(X_test)\n",
    "evaluation(y_test,y_pred_DT2)"
   ]
  },
  {
   "cell_type": "code",
   "execution_count": 91,
   "metadata": {},
   "outputs": [
    {
     "name": "stdout",
     "output_type": "stream",
     "text": [
      "Income\n",
      " <=50K    18688\n",
      " >50K      6312\n",
      "dtype: int64\n",
      "\n",
      "\n",
      "Income\n",
      " <=50K    20678\n",
      " >50K      4322\n",
      "dtype: int64\n"
     ]
    },
    {
     "data": {
      "image/png": "[encoded data removed]",
      "text/plain": [
       "<Figure size 432x288 with 1 Axes>"
      ]
     },
     "metadata": {
      "needs_background": "light"
     },
     "output_type": "display_data"
    }
   ],
   "source": [
    "y_pred_wo_income_DT2 = best_model_DT.predict(final_df_prediction)\n",
    "\n",
    "print(pd.DataFrame(y_pred_wo_income_DT,columns=[\"Income\"]).replace({0:\" <=50K\",1:\" >50K\"}).value_counts())\n",
    "print(\"\\n\")\n",
    "print(pd.DataFrame(y_pred_wo_income_DT2,columns=[\"Income\"]).replace({0:\" <=50K\",1:\" >50K\"}).value_counts())\n",
    "sns.histplot(pd.DataFrame(y_pred_wo_income_DT,columns=[\"Income\"]).replace({0:\" <=50K\",1:\" >50K\"})[\"Income\"],color=\"r\",label=\"Default Model\");\n",
    "sns.histplot(pd.DataFrame(y_pred_wo_income_DT2,columns=[\"Income\"]).replace({0:\" <=50K\",1:\" >50K\"})[\"Income\"],color=\"b\",alpha=0.5,label=\"Tuned Model\");\n",
    "plt.legend(loc=\"best\");"
   ]
  },
  {
   "attachments": {},
   "cell_type": "markdown",
   "metadata": {},
   "source": [
    "# Random Forest"
   ]
  },
  {
   "cell_type": "code",
   "execution_count": 34,
   "metadata": {},
   "outputs": [
    {
     "name": "stdout",
     "output_type": "stream",
     "text": [
      "Accuracy Score : 83.2%\n",
      "Recall Score : 55.1%\n",
      "Precision Score : 69.95%\n",
      "F1 Score : 61.64%\n",
      "\n",
      "\n",
      "Confusion Matrix : \n",
      "[[697  58]\n",
      " [110 135]]\n"
     ]
    }
   ],
   "source": [
    "RF = RandomForestClassifier()\n",
    "\n",
    "RF.fit(X_train,y_train)\n",
    "\n",
    "y_pred_RF = RF.predict(X_test)\n",
    "evaluation(y_test,y_pred_RF)"
   ]
  },
  {
   "cell_type": "code",
   "execution_count": 35,
   "metadata": {},
   "outputs": [
    {
     "name": "stdout",
     "output_type": "stream",
     "text": [
      "Income\n",
      " <=50K    19865\n",
      " >50K      5135\n",
      "dtype: int64\n"
     ]
    },
    {
     "data": {
      "image/png": "[encoded data removed]",
      "text/plain": [
       "<Figure size 432x288 with 1 Axes>"
      ]
     },
     "metadata": {
      "needs_background": "light"
     },
     "output_type": "display_data"
    }
   ],
   "source": [
    "y_pred_wo_income_RF = RF.predict(final_df_prediction)\n",
    "\n",
    "print(pd.DataFrame(y_pred_wo_income_RF,columns=[\"Income\"]).replace({0:\" <=50K\",1:\" >50K\"}).value_counts())\n",
    "sns.histplot(pd.DataFrame(y_pred_wo_income_RF,columns=[\"Income\"]).replace({0:\" <=50K\",1:\" >50K\"})[\"Income\"]);"
   ]
  },
  {
   "attachments": {},
   "cell_type": "markdown",
   "metadata": {},
   "source": [
    "## Tuning RandomForest"
   ]
  },
  {
   "cell_type": "code",
   "execution_count": 36,
   "metadata": {},
   "outputs": [
    {
     "name": "stdout",
     "output_type": "stream",
     "text": [
      "Best Hyperparameters: {'criterion': 'entropy', 'max_depth': None, 'max_features': 'sqrt', 'min_samples_leaf': 1, 'min_samples_split': 10, 'n_estimators': 300}\n",
      "Best Score: 0.8550000000000001\n",
      "Accuracy Score : 83.6%\n",
      "Recall Score : 55.1%\n",
      "Precision Score : 71.43%\n",
      "F1 Score : 62.21%\n",
      "\n",
      "\n",
      "Confusion Matrix : \n",
      "[[701  54]\n",
      " [110 135]]\n"
     ]
    }
   ],
   "source": [
    "clf_RF = RandomForestClassifier()\n",
    "params_RF = {\n",
    "    'n_estimators': [50,100,300],\n",
    "    'criterion': [\"gini\",\"entropy\"],\n",
    "    'max_depth': [3, 5, None],\n",
    "    'min_samples_split': [2, 5, 10],\n",
    "    'min_samples_leaf': [1, 2, 4],\n",
    "    'max_features': ['sqrt', 'log2']\n",
    "}\n",
    "\n",
    "grid_search_RF = GridSearchCV(clf_RF,params_RF)\n",
    "grid_search_RF.fit(X_train,y_train)\n",
    "\n",
    "print(\"Best Hyperparameters:\", grid_search_RF.best_params_)\n",
    "print(\"Best Score:\", grid_search_RF.best_score_)\n",
    "\n",
    "best_model_RF = grid_search_RF.best_estimator_\n",
    "\n",
    "y_pred_RF2 = best_model_RF.predict(X_test)\n",
    "evaluation(y_test,y_pred_RF2)"
   ]
  },
  {
   "cell_type": "code",
   "execution_count": 106,
   "metadata": {},
   "outputs": [
    {
     "name": "stdout",
     "output_type": "stream",
     "text": [
      "Cross-Validation Results (Accuracy):\n",
      "[0.8575  0.85125 0.8475  0.83625 0.85375]\n",
      "Mean Accuracy: 0.85\n",
      "Standard Deviation: 0.01\n"
     ]
    }
   ],
   "source": [
    "cv_scores = cross_val_score(best_model_RF, X_train, y_train, cv=5, scoring='accuracy')\n",
    "print(\"Cross-Validation Results (Accuracy):\")\n",
    "print(cv_scores)\n",
    "print(f\"Mean Accuracy: {np.mean(cv_scores):.2f}\")\n",
    "print(f\"Standard Deviation: {np.std(cv_scores):.2f}\")"
   ]
  },
  {
   "cell_type": "code",
   "execution_count": 37,
   "metadata": {},
   "outputs": [
    {
     "name": "stdout",
     "output_type": "stream",
     "text": [
      "Income\n",
      " <=50K    19865\n",
      " >50K      5135\n",
      "dtype: int64\n",
      "\n",
      "\n",
      "Income\n",
      " <=50K    19934\n",
      " >50K      5066\n",
      "dtype: int64\n"
     ]
    },
    {
     "data": {
      "image/png": "[encoded data removed]",
      "text/plain": [
       "<Figure size 432x288 with 1 Axes>"
      ]
     },
     "metadata": {
      "needs_background": "light"
     },
     "output_type": "display_data"
    }
   ],
   "source": [
    "y_pred_wo_income_RF2 = best_model_RF.predict(final_df_prediction)\n",
    "\n",
    "print(pd.DataFrame(y_pred_wo_income_RF,columns=[\"Income\"]).replace({0:\" <=50K\",1:\" >50K\"}).value_counts())\n",
    "print(\"\\n\")\n",
    "print(pd.DataFrame(y_pred_wo_income_RF2,columns=[\"Income\"]).replace({0:\" <=50K\",1:\" >50K\"}).value_counts())\n",
    "sns.histplot(pd.DataFrame(y_pred_wo_income_RF,columns=[\"Income\"]).replace({0:\" <=50K\",1:\" >50K\"})[\"Income\"],color=\"r\",label=\"Default Model\");\n",
    "sns.histplot(pd.DataFrame(y_pred_wo_income_RF2,columns=[\"Income\"]).replace({0:\" <=50K\",1:\" >50K\"})[\"Income\"],color=\"b\",alpha=0.5,label=\"Tuned Model\");\n",
    "plt.legend(loc=\"best\");"
   ]
  },
  {
   "attachments": {},
   "cell_type": "markdown",
   "metadata": {},
   "source": [
    "# Neural Network"
   ]
  },
  {
   "cell_type": "code",
   "execution_count": 38,
   "metadata": {},
   "outputs": [
    {
     "data": {
      "text/html": [
       "<div>\n",
       "<style scoped>\n",
       "    .dataframe tbody tr th:only-of-type {\n",
       "        vertical-align: middle;\n",
       "    }\n",
       "\n",
       "    .dataframe tbody tr th {\n",
       "        vertical-align: top;\n",
       "    }\n",
       "\n",
       "    .dataframe thead th {\n",
       "        text-align: right;\n",
       "    }\n",
       "</style>\n",
       "<table border=\"1\" class=\"dataframe\">\n",
       "  <thead>\n",
       "    <tr style=\"text-align: right;\">\n",
       "      <th></th>\n",
       "      <th>Age</th>\n",
       "      <th>Employment_Type</th>\n",
       "      <th>Weighing_Factor</th>\n",
       "      <th>Education_Level</th>\n",
       "      <th>Schooling</th>\n",
       "      <th>Marital_Status</th>\n",
       "      <th>Employment_Area</th>\n",
       "      <th>Partnership</th>\n",
       "      <th>Ethnicity</th>\n",
       "      <th>Gender</th>\n",
       "      <th>Gains_FA</th>\n",
       "      <th>Loss_FA</th>\n",
       "      <th>Working_Time</th>\n",
       "    </tr>\n",
       "  </thead>\n",
       "  <tbody>\n",
       "    <tr>\n",
       "      <th>3413</th>\n",
       "      <td>3.555348</td>\n",
       "      <td>2</td>\n",
       "      <td>12.739465</td>\n",
       "      <td>9</td>\n",
       "      <td>1.135322</td>\n",
       "      <td>2</td>\n",
       "      <td>11</td>\n",
       "      <td>0</td>\n",
       "      <td>4</td>\n",
       "      <td>1</td>\n",
       "      <td>8.895493</td>\n",
       "      <td>0.0</td>\n",
       "      <td>1.589234</td>\n",
       "    </tr>\n",
       "    <tr>\n",
       "      <th>1610</th>\n",
       "      <td>4.077537</td>\n",
       "      <td>4</td>\n",
       "      <td>12.262207</td>\n",
       "      <td>2</td>\n",
       "      <td>-0.808545</td>\n",
       "      <td>0</td>\n",
       "      <td>11</td>\n",
       "      <td>1</td>\n",
       "      <td>4</td>\n",
       "      <td>0</td>\n",
       "      <td>0.000000</td>\n",
       "      <td>0.0</td>\n",
       "      <td>0.939509</td>\n",
       "    </tr>\n",
       "    <tr>\n",
       "      <th>3459</th>\n",
       "      <td>3.091042</td>\n",
       "      <td>7</td>\n",
       "      <td>12.784855</td>\n",
       "      <td>11</td>\n",
       "      <td>-0.419772</td>\n",
       "      <td>4</td>\n",
       "      <td>14</td>\n",
       "      <td>4</td>\n",
       "      <td>4</td>\n",
       "      <td>0</td>\n",
       "      <td>0.000000</td>\n",
       "      <td>0.0</td>\n",
       "      <td>-0.035080</td>\n",
       "    </tr>\n",
       "    <tr>\n",
       "      <th>4293</th>\n",
       "      <td>3.526361</td>\n",
       "      <td>2</td>\n",
       "      <td>12.238119</td>\n",
       "      <td>15</td>\n",
       "      <td>-0.030998</td>\n",
       "      <td>0</td>\n",
       "      <td>9</td>\n",
       "      <td>1</td>\n",
       "      <td>4</td>\n",
       "      <td>1</td>\n",
       "      <td>0.000000</td>\n",
       "      <td>0.0</td>\n",
       "      <td>-0.035080</td>\n",
       "    </tr>\n",
       "    <tr>\n",
       "      <th>1039</th>\n",
       "      <td>3.555348</td>\n",
       "      <td>7</td>\n",
       "      <td>12.009510</td>\n",
       "      <td>1</td>\n",
       "      <td>-1.197318</td>\n",
       "      <td>2</td>\n",
       "      <td>14</td>\n",
       "      <td>5</td>\n",
       "      <td>4</td>\n",
       "      <td>0</td>\n",
       "      <td>0.000000</td>\n",
       "      <td>0.0</td>\n",
       "      <td>-2.633982</td>\n",
       "    </tr>\n",
       "  </tbody>\n",
       "</table>\n",
       "</div>"
      ],
      "text/plain": [
       "           Age  Employment_Type  Weighing_Factor  Education_Level  Schooling  \\\n",
       "3413  3.555348                2        12.739465                9   1.135322   \n",
       "1610  4.077537                4        12.262207                2  -0.808545   \n",
       "3459  3.091042                7        12.784855               11  -0.419772   \n",
       "4293  3.526361                2        12.238119               15  -0.030998   \n",
       "1039  3.555348                7        12.009510                1  -1.197318   \n",
       "\n",
       "      Marital_Status  Employment_Area  Partnership  Ethnicity  Gender  \\\n",
       "3413               2               11            0          4       1   \n",
       "1610               0               11            1          4       0   \n",
       "3459               4               14            4          4       0   \n",
       "4293               0                9            1          4       1   \n",
       "1039               2               14            5          4       0   \n",
       "\n",
       "      Gains_FA  Loss_FA  Working_Time  \n",
       "3413  8.895493      0.0      1.589234  \n",
       "1610  0.000000      0.0      0.939509  \n",
       "3459  0.000000      0.0     -0.035080  \n",
       "4293  0.000000      0.0     -0.035080  \n",
       "1039  0.000000      0.0     -2.633982  "
      ]
     },
     "execution_count": 38,
     "metadata": {},
     "output_type": "execute_result"
    }
   ],
   "source": [
    "X_train.head()"
   ]
  },
  {
   "cell_type": "code",
   "execution_count": 39,
   "metadata": {},
   "outputs": [
    {
     "data": {
      "text/plain": [
       "3413    1\n",
       "1610    0\n",
       "3459    0\n",
       "4293    0\n",
       "1039    0\n",
       "Name: Income, dtype: int64"
      ]
     },
     "execution_count": 39,
     "metadata": {},
     "output_type": "execute_result"
    }
   ],
   "source": [
    "y_train.head()"
   ]
  },
  {
   "cell_type": "code",
   "execution_count": 40,
   "metadata": {},
   "outputs": [],
   "source": [
    "X_train_nn = X_train.to_numpy()\n",
    "# y_train_nn = tf.keras.utils.to_categorical(y_train.replace({-1:2,1:1}))\n",
    "y_train_nn = y_train.to_numpy()"
   ]
  },
  {
   "cell_type": "code",
   "execution_count": 41,
   "metadata": {},
   "outputs": [
    {
     "data": {
      "text/plain": [
       "array([[ 3.55534806,  2.        , 12.73946472,  9.        ,  1.13532183,\n",
       "         2.        , 11.        ,  0.        ,  4.        ,  1.        ,\n",
       "         8.89549263,  0.        ,  1.5892344 ],\n",
       "       [ 4.07753744,  4.        , 12.2622072 ,  2.        , -0.80854488,\n",
       "         0.        , 11.        ,  1.        ,  4.        ,  0.        ,\n",
       "         0.        ,  0.        ,  0.93950873],\n",
       "       [ 3.09104245,  7.        , 12.784855  , 11.        , -0.41977154,\n",
       "         4.        , 14.        ,  4.        ,  4.        ,  0.        ,\n",
       "         0.        ,  0.        , -0.03507977],\n",
       "       [ 3.52636052,  2.        , 12.23811864, 15.        , -0.03099819,\n",
       "         0.        ,  9.        ,  1.        ,  4.        ,  1.        ,\n",
       "         0.        ,  0.        , -0.03507977],\n",
       "       [ 3.55534806,  7.        , 12.00951017,  1.        , -1.19731822,\n",
       "         2.        , 14.        ,  5.        ,  4.        ,  0.        ,\n",
       "         0.        ,  0.        , -2.63398245]])"
      ]
     },
     "execution_count": 41,
     "metadata": {},
     "output_type": "execute_result"
    }
   ],
   "source": [
    "X_train_nn[0:5]"
   ]
  },
  {
   "cell_type": "code",
   "execution_count": 42,
   "metadata": {},
   "outputs": [
    {
     "data": {
      "text/plain": [
       "array([1, 0, 0, 0, 0], dtype=int64)"
      ]
     },
     "execution_count": 42,
     "metadata": {},
     "output_type": "execute_result"
    }
   ],
   "source": [
    "y_train_nn[0:5]"
   ]
  },
  {
   "cell_type": "code",
   "execution_count": 43,
   "metadata": {},
   "outputs": [
    {
     "name": "stdout",
     "output_type": "stream",
     "text": [
      "(4000, 13)\n",
      "(4000,)\n"
     ]
    }
   ],
   "source": [
    "print(X_train_nn.shape)\n",
    "print(y_train_nn.shape)"
   ]
  },
  {
   "cell_type": "code",
   "execution_count": 98,
   "metadata": {},
   "outputs": [],
   "source": [
    "model = Sequential()\n",
    "\n",
    "model.add(tf.keras.Input(X_train_nn.shape[1]))\n",
    "model.add(Dense(64,activation='relu',input_shape = (13,)))\n",
    "model.add(Dense(32,activation='relu',input_shape = (64,)))\n",
    "model.add(Dense(1,activation=\"sigmoid\",input_shape = (32,)))\n",
    "\n",
    "model.compile(optimizer=\"adam\",loss=\"binary_crossentropy\",metrics=[\"accuracy\"])"
   ]
  },
  {
   "cell_type": "code",
   "execution_count": 99,
   "metadata": {},
   "outputs": [
    {
     "name": "stdout",
     "output_type": "stream",
     "text": [
      "Model: \"sequential_3\"\n",
      "_________________________________________________________________\n",
      " Layer (type)                Output Shape              Param #   \n",
      "=================================================================\n",
      " dense_9 (Dense)             (None, 64)                896       \n",
      "                                                                 \n",
      " dense_10 (Dense)            (None, 32)                2080      \n",
      "                                                                 \n",
      " dense_11 (Dense)            (None, 1)                 33        \n",
      "                                                                 \n",
      "=================================================================\n",
      "Total params: 3,009\n",
      "Trainable params: 3,009\n",
      "Non-trainable params: 0\n",
      "_________________________________________________________________\n"
     ]
    }
   ],
   "source": [
    "model.summary()"
   ]
  },
  {
   "cell_type": "code",
   "execution_count": 100,
   "metadata": {},
   "outputs": [
    {
     "name": "stdout",
     "output_type": "stream",
     "text": [
      "Epoch 1/30\n"
     ]
    },
    {
     "name": "stdout",
     "output_type": "stream",
     "text": [
      "1000/1000 [==============================] - 3s 2ms/step - loss: 0.4476 - accuracy: 0.7983\n",
      "Epoch 2/30\n",
      "1000/1000 [==============================] - 2s 2ms/step - loss: 0.4073 - accuracy: 0.8135\n",
      "Epoch 3/30\n",
      "1000/1000 [==============================] - 2s 2ms/step - loss: 0.3901 - accuracy: 0.8190\n",
      "Epoch 4/30\n",
      "1000/1000 [==============================] - 2s 2ms/step - loss: 0.3790 - accuracy: 0.8190\n",
      "Epoch 5/30\n",
      "1000/1000 [==============================] - 2s 2ms/step - loss: 0.3618 - accuracy: 0.8245\n",
      "Epoch 6/30\n",
      "1000/1000 [==============================] - 2s 2ms/step - loss: 0.3606 - accuracy: 0.8248\n",
      "Epoch 7/30\n",
      "1000/1000 [==============================] - 2s 2ms/step - loss: 0.3559 - accuracy: 0.8263\n",
      "Epoch 8/30\n",
      "1000/1000 [==============================] - 2s 2ms/step - loss: 0.3501 - accuracy: 0.8310\n",
      "Epoch 9/30\n",
      "1000/1000 [==============================] - 2s 2ms/step - loss: 0.3489 - accuracy: 0.8290\n",
      "Epoch 10/30\n",
      "1000/1000 [==============================] - 2s 2ms/step - loss: 0.3455 - accuracy: 0.8305\n",
      "Epoch 11/30\n",
      "1000/1000 [==============================] - 2s 2ms/step - loss: 0.3410 - accuracy: 0.8328\n",
      "Epoch 12/30\n",
      "1000/1000 [==============================] - 2s 2ms/step - loss: 0.3389 - accuracy: 0.8322\n",
      "Epoch 13/30\n",
      "1000/1000 [==============================] - 2s 2ms/step - loss: 0.3368 - accuracy: 0.8355\n",
      "Epoch 14/30\n",
      "1000/1000 [==============================] - 2s 2ms/step - loss: 0.3340 - accuracy: 0.8330\n",
      "Epoch 15/30\n",
      "1000/1000 [==============================] - 2s 2ms/step - loss: 0.3302 - accuracy: 0.8360\n",
      "Epoch 16/30\n",
      "1000/1000 [==============================] - 2s 2ms/step - loss: 0.3310 - accuracy: 0.8403\n",
      "Epoch 17/30\n",
      "1000/1000 [==============================] - 2s 2ms/step - loss: 0.3249 - accuracy: 0.8382\n",
      "Epoch 18/30\n",
      "1000/1000 [==============================] - 2s 2ms/step - loss: 0.3257 - accuracy: 0.8410\n",
      "Epoch 19/30\n",
      "1000/1000 [==============================] - 2s 2ms/step - loss: 0.3226 - accuracy: 0.8468\n",
      "Epoch 20/30\n",
      "1000/1000 [==============================] - 2s 2ms/step - loss: 0.3239 - accuracy: 0.8382\n",
      "Epoch 21/30\n",
      "1000/1000 [==============================] - 2s 2ms/step - loss: 0.3197 - accuracy: 0.8445\n",
      "Epoch 22/30\n",
      "1000/1000 [==============================] - 2s 2ms/step - loss: 0.3172 - accuracy: 0.8440\n",
      "Epoch 23/30\n",
      "1000/1000 [==============================] - 2s 2ms/step - loss: 0.3137 - accuracy: 0.8462\n",
      "Epoch 24/30\n",
      "1000/1000 [==============================] - 2s 2ms/step - loss: 0.3122 - accuracy: 0.8487\n",
      "Epoch 25/30\n",
      "1000/1000 [==============================] - 2s 2ms/step - loss: 0.3110 - accuracy: 0.8475\n",
      "Epoch 26/30\n",
      "1000/1000 [==============================] - 2s 2ms/step - loss: 0.3118 - accuracy: 0.8472\n",
      "Epoch 27/30\n",
      "1000/1000 [==============================] - 2s 2ms/step - loss: 0.3106 - accuracy: 0.8490\n",
      "Epoch 28/30\n",
      "1000/1000 [==============================] - 2s 2ms/step - loss: 0.3059 - accuracy: 0.8487\n",
      "Epoch 29/30\n",
      "1000/1000 [==============================] - 2s 2ms/step - loss: 0.3054 - accuracy: 0.8490\n",
      "Epoch 30/30\n",
      "1000/1000 [==============================] - 2s 2ms/step - loss: 0.3050 - accuracy: 0.8497\n"
     ]
    },
    {
     "data": {
      "text/plain": [
       "<keras.callbacks.History at 0x191a64a5070>"
      ]
     },
     "execution_count": 100,
     "metadata": {},
     "output_type": "execute_result"
    }
   ],
   "source": [
    "model.fit(X_train_nn,y_train_nn,epochs=30,batch_size=4)"
   ]
  },
  {
   "cell_type": "code",
   "execution_count": 101,
   "metadata": {},
   "outputs": [
    {
     "name": "stdout",
     "output_type": "stream",
     "text": [
      "32/32 [==============================] - 0s 4ms/step - loss: 0.4174 - accuracy: 0.8160\n",
      "Test Loss: 0.4174\n",
      "Test Accuracy: 81.60%\n"
     ]
    }
   ],
   "source": [
    "test_loss, test_accuracy = model.evaluate(X_test, y_test)\n",
    "\n",
    "print(f\"Test Loss: {test_loss:.4f}\")\n",
    "print(f\"Test Accuracy: {test_accuracy * 100:.2f}%\")"
   ]
  },
  {
   "cell_type": "code",
   "execution_count": 50,
   "metadata": {},
   "outputs": [],
   "source": [
    "from sklearn.metrics import classification_report"
   ]
  },
  {
   "cell_type": "code",
   "execution_count": 51,
   "metadata": {},
   "outputs": [
    {
     "data": {
      "text/html": [
       "<div>\n",
       "<style scoped>\n",
       "    .dataframe tbody tr th:only-of-type {\n",
       "        vertical-align: middle;\n",
       "    }\n",
       "\n",
       "    .dataframe tbody tr th {\n",
       "        vertical-align: top;\n",
       "    }\n",
       "\n",
       "    .dataframe thead th {\n",
       "        text-align: right;\n",
       "    }\n",
       "</style>\n",
       "<table border=\"1\" class=\"dataframe\">\n",
       "  <thead>\n",
       "    <tr style=\"text-align: right;\">\n",
       "      <th></th>\n",
       "      <th>Age</th>\n",
       "      <th>Employment_Type</th>\n",
       "      <th>Weighing_Factor</th>\n",
       "      <th>Education_Level</th>\n",
       "      <th>Schooling</th>\n",
       "      <th>Marital_Status</th>\n",
       "      <th>Employment_Area</th>\n",
       "      <th>Partnership</th>\n",
       "      <th>Ethnicity</th>\n",
       "      <th>Gender</th>\n",
       "      <th>Gains_FA</th>\n",
       "      <th>Loss_FA</th>\n",
       "      <th>Working_Time</th>\n",
       "    </tr>\n",
       "  </thead>\n",
       "  <tbody>\n",
       "    <tr>\n",
       "      <th>1718</th>\n",
       "      <td>3.583519</td>\n",
       "      <td>2</td>\n",
       "      <td>10.321606</td>\n",
       "      <td>9</td>\n",
       "      <td>1.135322</td>\n",
       "      <td>2</td>\n",
       "      <td>11</td>\n",
       "      <td>0</td>\n",
       "      <td>4</td>\n",
       "      <td>1</td>\n",
       "      <td>0.0</td>\n",
       "      <td>0.0</td>\n",
       "      <td>0.370999</td>\n",
       "    </tr>\n",
       "    <tr>\n",
       "      <th>2511</th>\n",
       "      <td>4.262680</td>\n",
       "      <td>2</td>\n",
       "      <td>12.477420</td>\n",
       "      <td>15</td>\n",
       "      <td>-0.030998</td>\n",
       "      <td>4</td>\n",
       "      <td>0</td>\n",
       "      <td>1</td>\n",
       "      <td>4</td>\n",
       "      <td>0</td>\n",
       "      <td>0.0</td>\n",
       "      <td>0.0</td>\n",
       "      <td>-2.796414</td>\n",
       "    </tr>\n",
       "    <tr>\n",
       "      <th>345</th>\n",
       "      <td>3.784190</td>\n",
       "      <td>4</td>\n",
       "      <td>12.396263</td>\n",
       "      <td>9</td>\n",
       "      <td>1.135322</td>\n",
       "      <td>4</td>\n",
       "      <td>11</td>\n",
       "      <td>1</td>\n",
       "      <td>4</td>\n",
       "      <td>1</td>\n",
       "      <td>0.0</td>\n",
       "      <td>0.0</td>\n",
       "      <td>0.127352</td>\n",
       "    </tr>\n",
       "    <tr>\n",
       "      <th>2521</th>\n",
       "      <td>4.007333</td>\n",
       "      <td>7</td>\n",
       "      <td>12.042294</td>\n",
       "      <td>12</td>\n",
       "      <td>1.524095</td>\n",
       "      <td>4</td>\n",
       "      <td>14</td>\n",
       "      <td>1</td>\n",
       "      <td>4</td>\n",
       "      <td>0</td>\n",
       "      <td>0.0</td>\n",
       "      <td>0.0</td>\n",
       "      <td>-0.035080</td>\n",
       "    </tr>\n",
       "    <tr>\n",
       "      <th>54</th>\n",
       "      <td>3.871201</td>\n",
       "      <td>3</td>\n",
       "      <td>11.606716</td>\n",
       "      <td>11</td>\n",
       "      <td>-0.419772</td>\n",
       "      <td>0</td>\n",
       "      <td>3</td>\n",
       "      <td>1</td>\n",
       "      <td>4</td>\n",
       "      <td>1</td>\n",
       "      <td>0.0</td>\n",
       "      <td>0.0</td>\n",
       "      <td>1.589234</td>\n",
       "    </tr>\n",
       "  </tbody>\n",
       "</table>\n",
       "</div>"
      ],
      "text/plain": [
       "           Age  Employment_Type  Weighing_Factor  Education_Level  Schooling  \\\n",
       "1718  3.583519                2        10.321606                9   1.135322   \n",
       "2511  4.262680                2        12.477420               15  -0.030998   \n",
       "345   3.784190                4        12.396263                9   1.135322   \n",
       "2521  4.007333                7        12.042294               12   1.524095   \n",
       "54    3.871201                3        11.606716               11  -0.419772   \n",
       "\n",
       "      Marital_Status  Employment_Area  Partnership  Ethnicity  Gender  \\\n",
       "1718               2               11            0          4       1   \n",
       "2511               4                0            1          4       0   \n",
       "345                4               11            1          4       1   \n",
       "2521               4               14            1          4       0   \n",
       "54                 0                3            1          4       1   \n",
       "\n",
       "      Gains_FA  Loss_FA  Working_Time  \n",
       "1718       0.0      0.0      0.370999  \n",
       "2511       0.0      0.0     -2.796414  \n",
       "345        0.0      0.0      0.127352  \n",
       "2521       0.0      0.0     -0.035080  \n",
       "54         0.0      0.0      1.589234  "
      ]
     },
     "execution_count": 51,
     "metadata": {},
     "output_type": "execute_result"
    }
   ],
   "source": [
    "X_test.head()"
   ]
  },
  {
   "cell_type": "code",
   "execution_count": 52,
   "metadata": {},
   "outputs": [
    {
     "data": {
      "text/plain": [
       "1718    1\n",
       "2511    0\n",
       "345     0\n",
       "2521    0\n",
       "54      0\n",
       "Name: Income, dtype: int64"
      ]
     },
     "execution_count": 52,
     "metadata": {},
     "output_type": "execute_result"
    }
   ],
   "source": [
    "y_test.head()"
   ]
  },
  {
   "cell_type": "code",
   "execution_count": 60,
   "metadata": {},
   "outputs": [
    {
     "data": {
      "text/plain": [
       "array([1, 0, 0, 0, 0, 0, 0, 0, 1, 0, 0, 1, 0, 1, 1, 0, 0, 1, 0, 0, 1, 0,\n",
       "       0, 1, 0, 0, 0, 0, 0, 0, 0, 0, 1, 0, 0, 1, 1, 0, 1, 0, 0, 0, 0, 0,\n",
       "       0, 0, 0, 0, 0, 0, 0, 0, 0, 0, 1, 0, 1, 0, 0, 0, 0, 1, 0, 0, 0, 0,\n",
       "       0, 0, 1, 0, 0, 0, 0, 0, 0, 0, 0, 1, 0, 0, 0, 0, 1, 0, 0, 0, 0, 0,\n",
       "       0, 0, 0, 0, 0, 0, 0, 0, 0, 0, 1, 0, 0, 1, 0, 0, 0, 0, 0, 0, 0, 0,\n",
       "       0, 1, 0, 0, 0, 0, 1, 1, 0, 0, 0, 1, 0, 0, 1, 1, 0, 0, 0, 0, 0, 0,\n",
       "       0, 0, 1, 0, 0, 0, 0, 1, 0, 0, 0, 1, 1, 1, 0, 0, 0, 0, 1, 0, 0, 0,\n",
       "       0, 0, 0, 0, 0, 1, 1, 1, 1, 0, 0, 0, 0, 0, 0, 0, 0, 0, 1, 1, 0, 0,\n",
       "       0, 0, 0, 0, 0, 0, 1, 0, 0, 0, 0, 0, 0, 0, 0, 0, 0, 0, 1, 0, 0, 0,\n",
       "       0, 0, 1, 0, 0, 1, 0, 1, 1, 1, 1, 0, 0, 1, 1, 1, 0, 0, 0, 0, 1, 0,\n",
       "       0, 0, 0, 0, 0, 1, 1, 0, 1, 0, 0, 0, 0, 0, 1, 0, 0, 0, 0, 0, 0, 0,\n",
       "       0, 0, 1, 0, 0, 0, 1, 0, 0, 0, 1, 1, 0, 0, 0, 1, 1, 0, 0, 0, 1, 1,\n",
       "       0, 1, 1, 0, 0, 0, 1, 0, 0, 0, 1, 0, 0, 0, 0, 0, 0, 0, 0, 0, 0, 0,\n",
       "       0, 0, 1, 0, 1, 0, 0, 1, 0, 0, 0, 1, 0, 1, 0, 0, 0, 0, 0, 0, 0, 1,\n",
       "       0, 1, 0, 0, 1, 0, 1, 0, 0, 0, 1, 0, 0, 0, 0, 0, 0, 0, 0, 0, 0, 0,\n",
       "       1, 0, 0, 1, 0, 0, 0, 0, 0, 1, 0, 0, 0, 0, 0, 0, 0, 1, 0, 0, 0, 0,\n",
       "       1, 0, 0, 1, 0, 1, 0, 0, 1, 1, 1, 0, 1, 0, 1, 0, 0, 1, 1, 0, 0, 1,\n",
       "       0, 0, 0, 0, 0, 0, 0, 0, 0, 0, 0, 0, 1, 0, 0, 0, 1, 0, 0, 0, 0, 0,\n",
       "       0, 0, 1, 0, 1, 0, 1, 1, 0, 0, 1, 1, 0, 0, 0, 0, 0, 0, 1, 0, 1, 0,\n",
       "       0, 0, 0, 0, 0, 0, 0, 1, 1, 0, 0, 0, 1, 1, 0, 0, 0, 1, 0, 0, 0, 1,\n",
       "       0, 1, 0, 0, 1, 0, 1, 0, 0, 0, 1, 1, 0, 0, 0, 1, 1, 0, 0, 1, 0, 0,\n",
       "       1, 0, 1, 1, 0, 0, 0, 0, 0, 0, 0, 1, 0, 0, 0, 1, 0, 1, 0, 0, 1, 0,\n",
       "       0, 0, 0, 0, 0, 1, 0, 0, 0, 0, 0, 0, 0, 0, 0, 0, 0, 0, 0, 1, 0, 0,\n",
       "       0, 0, 0, 1, 1, 0, 0, 0, 0, 0, 0, 1, 1, 0, 0, 0, 0, 0, 1, 0, 0, 1,\n",
       "       0, 0, 1, 0, 0, 0, 0, 0, 0, 0, 0, 1, 0, 0, 0, 0, 0, 0, 1, 0, 0, 0,\n",
       "       0, 0, 0, 0, 0, 0, 1, 0, 0, 1, 0, 0, 0, 0, 0, 0, 0, 0, 0, 0, 0, 0,\n",
       "       1, 1, 0, 0, 1, 1, 0, 0, 0, 0, 0, 0, 1, 0, 0, 0, 1, 1, 0, 1, 0, 0,\n",
       "       0, 0, 0, 0, 0, 0, 0, 0, 1, 0, 0, 1, 1, 0, 0, 1, 0, 0, 0, 0, 0, 0,\n",
       "       1, 1, 0, 1, 1, 0, 1, 0, 0, 0, 1, 0, 1, 0, 0, 0, 0, 0, 0, 0, 1, 1,\n",
       "       1, 0, 0, 0, 1, 0, 0, 0, 1, 0, 1, 0, 0, 0, 0, 0, 1, 0, 0, 1, 0, 1,\n",
       "       1, 1, 0, 0, 0, 1, 0, 0, 0, 0, 0, 0, 0, 0, 0, 0, 0, 0, 0, 1, 0, 0,\n",
       "       0, 0, 0, 0, 0, 1, 0, 0, 1, 0, 1, 0, 0, 0, 0, 0, 1, 1, 1, 0, 1, 0,\n",
       "       0, 1, 1, 0, 0, 0, 0, 0, 0, 0, 0, 0, 0, 0, 0, 1, 0, 0, 1, 0, 0, 0,\n",
       "       1, 1, 0, 0, 1, 0, 0, 0, 0, 1, 0, 1, 0, 0, 0, 0, 1, 0, 0, 0, 0, 1,\n",
       "       0, 0, 0, 0, 0, 1, 1, 0, 1, 0, 0, 0, 1, 0, 0, 0, 0, 0, 1, 0, 1, 1,\n",
       "       0, 0, 0, 0, 0, 0, 0, 0, 0, 0, 0, 0, 0, 0, 0, 0, 0, 0, 0, 0, 0, 0,\n",
       "       1, 0, 0, 0, 0, 1, 0, 0, 0, 0, 1, 0, 0, 1, 0, 1, 0, 0, 0, 0, 0, 1,\n",
       "       0, 0, 1, 0, 1, 0, 1, 1, 0, 0, 1, 0, 1, 0, 0, 0, 0, 0, 0, 0, 0, 0,\n",
       "       0, 0, 1, 0, 1, 0, 1, 0, 0, 0, 1, 0, 0, 1, 0, 0, 0, 1, 0, 0, 0, 1,\n",
       "       0, 0, 0, 1, 1, 0, 1, 0, 0, 0, 1, 1, 1, 0, 0, 0, 0, 0, 1, 1, 1, 0,\n",
       "       0, 0, 0, 0, 0, 0, 0, 0, 1, 0, 0, 1, 0, 0, 1, 0, 0, 1, 0, 0, 0, 1,\n",
       "       1, 0, 0, 0, 0, 0, 0, 1, 0, 1, 0, 0, 0, 0, 0, 0, 0, 0, 0, 0, 1, 0,\n",
       "       0, 1, 0, 1, 0, 1, 0, 0, 1, 0, 0, 0, 0, 0, 0, 0, 0, 0, 0, 0, 0, 0,\n",
       "       0, 0, 1, 1, 1, 0, 0, 0, 1, 0, 0, 0, 0, 1, 0, 0, 0, 1, 0, 0, 0, 0,\n",
       "       0, 0, 0, 0, 0, 1, 1, 0, 0, 0, 0, 0, 0, 1, 0, 0, 0, 0, 0, 0, 1, 0,\n",
       "       1, 0, 0, 0, 0, 1, 0, 0, 0, 0], dtype=int64)"
      ]
     },
     "execution_count": 60,
     "metadata": {},
     "output_type": "execute_result"
    }
   ],
   "source": [
    "y_test.to_numpy()"
   ]
  },
  {
   "cell_type": "code",
   "execution_count": 61,
   "metadata": {},
   "outputs": [
    {
     "name": "stdout",
     "output_type": "stream",
     "text": [
      "              precision    recall  f1-score   support\n",
      "\n",
      "           0       0.85      0.92      0.88       755\n",
      "           1       0.67      0.50      0.57       245\n",
      "\n",
      "    accuracy                           0.82      1000\n",
      "   macro avg       0.76      0.71      0.73      1000\n",
      "weighted avg       0.81      0.82      0.81      1000\n",
      "\n"
     ]
    }
   ],
   "source": [
    "prediction = model.predict(X_test.to_numpy())\n",
    "print(classification_report(y_test.to_numpy(),np.round(prediction)))"
   ]
  },
  {
   "cell_type": "code",
   "execution_count": 77,
   "metadata": {},
   "outputs": [
    {
     "data": {
      "text/plain": [
       "array([1., 0., 1., ..., 0., 0., 0.], dtype=float32)"
      ]
     },
     "execution_count": 77,
     "metadata": {},
     "output_type": "execute_result"
    }
   ],
   "source": [
    "predict_incomes = model.predict(final_df_prediction)\n",
    "np.round(np.max(predict_incomes,axis=1))"
   ]
  },
  {
   "cell_type": "code",
   "execution_count": 78,
   "metadata": {},
   "outputs": [
    {
     "name": "stdout",
     "output_type": "stream",
     "text": [
      " <=50K    20814\n",
      " >50K      4186\n",
      "dtype: int64\n"
     ]
    },
    {
     "data": {
      "image/png": "[encoded data removed]",
      "text/plain": [
       "<Figure size 432x288 with 1 Axes>"
      ]
     },
     "metadata": {
      "needs_background": "light"
     },
     "output_type": "display_data"
    }
   ],
   "source": [
    "sns.histplot(pd.Series(np.round(np.max(predict_incomes,axis=1))).replace({1.:\" >50K\",0.: \" <=50K\"}));\n",
    "print(pd.Series(np.round(np.max(predict_incomes,axis=1))).replace({1.:\" >50K\",0.: \" <=50K\"}).value_counts())"
   ]
  },
  {
   "cell_type": "code",
   "execution_count": 102,
   "metadata": {},
   "outputs": [
    {
     "data": {
      "image/png": "[encoded data removed]",
      "text/plain": [
       "<Figure size 1152x288 with 4 Axes>"
      ]
     },
     "metadata": {
      "needs_background": "light"
     },
     "output_type": "display_data"
    }
   ],
   "source": [
    "fig,axes = plt.subplots(nrows=1,ncols=4,sharey=True,figsize=(16,4))\n",
    "\n",
    "sns.histplot(pd.DataFrame(y_pred_wo_income_LR,columns=[\"Income\"]).replace({0:\" <=50K\",1:\" >50K\"})[\"Income\"],color=\"r\",label=\"Default Model\",ax=axes[0]);\n",
    "sns.histplot(pd.DataFrame(y_pred_wo_income_LR2,columns=[\"Income\"]).replace({0:\" <=50K\",1:\" >50K\"})[\"Income\"],color=\"b\",alpha=0.5,label=\"Tuned Model\",ax=axes[0]);\n",
    "axes[0].legend(loc=\"best\");\n",
    "axes[0].set_title(\"Logestic Regression\",fontsize=10,fontweight='bold');\n",
    "\n",
    "sns.histplot(pd.DataFrame(y_pred_wo_income_DT,columns=[\"Income\"]).replace({0:\" <=50K\",1:\" >50K\"})[\"Income\"],color=\"r\",label=\"Default Model\",ax=axes[1]);\n",
    "sns.histplot(pd.DataFrame(y_pred_wo_income_DT2,columns=[\"Income\"]).replace({0:\" <=50K\",1:\" >50K\"})[\"Income\"],color=\"b\",alpha=0.5,label=\"Tuned Model\",ax=axes[1]);\n",
    "axes[1].legend(loc=\"best\");\n",
    "axes[1].set_title(\"Decision Tree Classifier\",fontsize=10,fontweight='bold');\n",
    "\n",
    "sns.histplot(pd.DataFrame(y_pred_wo_income_RF,columns=[\"Income\"]).replace({0:\" <=50K\",1:\" >50K\"})[\"Income\"],color=\"r\",label=\"Default Model\",ax=axes[2]);\n",
    "sns.histplot(pd.DataFrame(y_pred_wo_income_RF2,columns=[\"Income\"]).replace({0:\" <=50K\",1:\" >50K\"})[\"Income\"],color=\"b\",alpha=0.5,label=\"Tuned Model\",ax=axes[2]);\n",
    "axes[2].legend(loc=\"best\");\n",
    "axes[2].set_title(\"Random Forest Classifier\",fontsize=10,fontweight='bold');\n",
    "\n",
    "sns.histplot(pd.Series(np.round(np.max(predict_incomes,axis=1))).replace({1.:\" >50K\",0.: \" <=50K\"}),ax=axes[3]);\n",
    "axes[3].set_title(\"Neural Network\",fontsize=10,fontweight='bold');\n",
    "\n",
    "plt.tight_layout()"
   ]
  },
  {
   "cell_type": "code",
   "execution_count": null,
   "metadata": {},
   "outputs": [],
   "source": []
  }
 ],
 "metadata": {
  "kernelspec": {
   "display_name": "Python 3",
   "language": "python",
   "name": "python3"
  },
  "language_info": {
   "codemirror_mode": {
    "name": "ipython",
    "version": 3
   },
   "file_extension": ".py",
   "mimetype": "text/x-python",
   "name": "python",
   "nbconvert_exporter": "python",
   "pygments_lexer": "ipython3",
   "version": "3.9.5"
  },
  "orig_nbformat": 4
 },
 "nbformat": 4,
 "nbformat_minor": 2
}
