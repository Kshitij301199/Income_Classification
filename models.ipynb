{
 "cells": [
  {
   "cell_type": "code",
   "execution_count": 1,
   "metadata": {},
   "outputs": [],
   "source": [
    "import numpy as np\n",
    "import pandas as pd\n",
    "import seaborn as sns\n",
    "import matplotlib.pyplot as plt"
   ]
  },
  {
   "cell_type": "code",
   "execution_count": 2,
   "metadata": {},
   "outputs": [
    {
     "data": {
      "text/html": [
       "<div>\n",
       "<style scoped>\n",
       "    .dataframe tbody tr th:only-of-type {\n",
       "        vertical-align: middle;\n",
       "    }\n",
       "\n",
       "    .dataframe tbody tr th {\n",
       "        vertical-align: top;\n",
       "    }\n",
       "\n",
       "    .dataframe thead th {\n",
       "        text-align: right;\n",
       "    }\n",
       "</style>\n",
       "<table border=\"1\" class=\"dataframe\">\n",
       "  <thead>\n",
       "    <tr style=\"text-align: right;\">\n",
       "      <th></th>\n",
       "      <th>Unnamed: 0</th>\n",
       "      <th>Age</th>\n",
       "      <th>Employment_Type</th>\n",
       "      <th>Weighing_Factor</th>\n",
       "      <th>Education_Level</th>\n",
       "      <th>Schooling</th>\n",
       "      <th>Marital_Status</th>\n",
       "      <th>Employment_Area</th>\n",
       "      <th>Partnership</th>\n",
       "      <th>Ethnicity</th>\n",
       "      <th>Gender</th>\n",
       "      <th>Gains_FA</th>\n",
       "      <th>Loss_FA</th>\n",
       "      <th>Working_Time</th>\n",
       "      <th>Country_of_Birth</th>\n",
       "      <th>Income</th>\n",
       "    </tr>\n",
       "  </thead>\n",
       "  <tbody>\n",
       "    <tr>\n",
       "      <th>0</th>\n",
       "      <td>0</td>\n",
       "      <td>3.688879</td>\n",
       "      <td>State-gov</td>\n",
       "      <td>11.258253</td>\n",
       "      <td>Bachelors</td>\n",
       "      <td>1.135322</td>\n",
       "      <td>Never-married</td>\n",
       "      <td>Adm-clerical</td>\n",
       "      <td>Not-in-family</td>\n",
       "      <td>White</td>\n",
       "      <td>Male</td>\n",
       "      <td>7.684784</td>\n",
       "      <td>0.0</td>\n",
       "      <td>-0.035080</td>\n",
       "      <td>United-States</td>\n",
       "      <td>&lt;=50K</td>\n",
       "    </tr>\n",
       "    <tr>\n",
       "      <th>1</th>\n",
       "      <td>1</td>\n",
       "      <td>3.931826</td>\n",
       "      <td>Self-emp-not-inc</td>\n",
       "      <td>11.330348</td>\n",
       "      <td>Bachelors</td>\n",
       "      <td>1.135322</td>\n",
       "      <td>Married-civ-spouse</td>\n",
       "      <td>Exec-managerial</td>\n",
       "      <td>Husband</td>\n",
       "      <td>White</td>\n",
       "      <td>Male</td>\n",
       "      <td>0.000000</td>\n",
       "      <td>0.0</td>\n",
       "      <td>-2.227904</td>\n",
       "      <td>United-States</td>\n",
       "      <td>&lt;=50K</td>\n",
       "    </tr>\n",
       "    <tr>\n",
       "      <th>2</th>\n",
       "      <td>2</td>\n",
       "      <td>3.663562</td>\n",
       "      <td>Private</td>\n",
       "      <td>12.281398</td>\n",
       "      <td>HS-grad</td>\n",
       "      <td>-0.419772</td>\n",
       "      <td>Divorced</td>\n",
       "      <td>Handlers-cleaners</td>\n",
       "      <td>Not-in-family</td>\n",
       "      <td>White</td>\n",
       "      <td>Male</td>\n",
       "      <td>0.000000</td>\n",
       "      <td>0.0</td>\n",
       "      <td>-0.035080</td>\n",
       "      <td>United-States</td>\n",
       "      <td>&lt;=50K</td>\n",
       "    </tr>\n",
       "    <tr>\n",
       "      <th>3</th>\n",
       "      <td>3</td>\n",
       "      <td>3.988984</td>\n",
       "      <td>Private</td>\n",
       "      <td>12.366157</td>\n",
       "      <td>11th</td>\n",
       "      <td>-1.197318</td>\n",
       "      <td>Married-civ-spouse</td>\n",
       "      <td>Handlers-cleaners</td>\n",
       "      <td>Husband</td>\n",
       "      <td>Black</td>\n",
       "      <td>Male</td>\n",
       "      <td>0.000000</td>\n",
       "      <td>0.0</td>\n",
       "      <td>-0.035080</td>\n",
       "      <td>United-States</td>\n",
       "      <td>&lt;=50K</td>\n",
       "    </tr>\n",
       "    <tr>\n",
       "      <th>4</th>\n",
       "      <td>4</td>\n",
       "      <td>3.367296</td>\n",
       "      <td>Private</td>\n",
       "      <td>12.732013</td>\n",
       "      <td>Bachelors</td>\n",
       "      <td>1.135322</td>\n",
       "      <td>Married-civ-spouse</td>\n",
       "      <td>Prof-specialty</td>\n",
       "      <td>Wife</td>\n",
       "      <td>Black</td>\n",
       "      <td>Female</td>\n",
       "      <td>0.000000</td>\n",
       "      <td>0.0</td>\n",
       "      <td>-0.035080</td>\n",
       "      <td>Cuba</td>\n",
       "      <td>&lt;=50K</td>\n",
       "    </tr>\n",
       "  </tbody>\n",
       "</table>\n",
       "</div>"
      ],
      "text/plain": [
       "   Unnamed: 0       Age    Employment_Type  Weighing_Factor Education_Level  \\\n",
       "0           0  3.688879          State-gov        11.258253       Bachelors   \n",
       "1           1  3.931826   Self-emp-not-inc        11.330348       Bachelors   \n",
       "2           2  3.663562            Private        12.281398         HS-grad   \n",
       "3           3  3.988984            Private        12.366157            11th   \n",
       "4           4  3.367296            Private        12.732013       Bachelors   \n",
       "\n",
       "   Schooling       Marital_Status     Employment_Area     Partnership  \\\n",
       "0   1.135322        Never-married        Adm-clerical   Not-in-family   \n",
       "1   1.135322   Married-civ-spouse     Exec-managerial         Husband   \n",
       "2  -0.419772             Divorced   Handlers-cleaners   Not-in-family   \n",
       "3  -1.197318   Married-civ-spouse   Handlers-cleaners         Husband   \n",
       "4   1.135322   Married-civ-spouse      Prof-specialty            Wife   \n",
       "\n",
       "  Ethnicity   Gender  Gains_FA  Loss_FA  Working_Time Country_of_Birth  Income  \n",
       "0     White     Male  7.684784      0.0     -0.035080    United-States   <=50K  \n",
       "1     White     Male  0.000000      0.0     -2.227904    United-States   <=50K  \n",
       "2     White     Male  0.000000      0.0     -0.035080    United-States   <=50K  \n",
       "3     Black     Male  0.000000      0.0     -0.035080    United-States   <=50K  \n",
       "4     Black   Female  0.000000      0.0     -0.035080             Cuba   <=50K  "
      ]
     },
     "execution_count": 2,
     "metadata": {},
     "output_type": "execute_result"
    }
   ],
   "source": [
    "data = pd.read_csv(\"./data/data.csv\")\n",
    "data.head()"
   ]
  },
  {
   "cell_type": "code",
   "execution_count": 3,
   "metadata": {},
   "outputs": [
    {
     "data": {
      "text/html": [
       "<div>\n",
       "<style scoped>\n",
       "    .dataframe tbody tr th:only-of-type {\n",
       "        vertical-align: middle;\n",
       "    }\n",
       "\n",
       "    .dataframe tbody tr th {\n",
       "        vertical-align: top;\n",
       "    }\n",
       "\n",
       "    .dataframe thead th {\n",
       "        text-align: right;\n",
       "    }\n",
       "</style>\n",
       "<table border=\"1\" class=\"dataframe\">\n",
       "  <thead>\n",
       "    <tr style=\"text-align: right;\">\n",
       "      <th></th>\n",
       "      <th>Unnamed: 0</th>\n",
       "      <th>Age</th>\n",
       "      <th>Weighing_Factor</th>\n",
       "      <th>Gains_FA</th>\n",
       "      <th>Loss_FA</th>\n",
       "      <th>Schooling</th>\n",
       "      <th>Working_Time</th>\n",
       "      <th>Employment_Type_ Federal-gov</th>\n",
       "      <th>Employment_Type_ Local-gov</th>\n",
       "      <th>Employment_Type_ Never-worked</th>\n",
       "      <th>...</th>\n",
       "      <th>Partnership_ Unmarried</th>\n",
       "      <th>Partnership_ Wife</th>\n",
       "      <th>Ethnicity_ Amer-Indian-Eskimo</th>\n",
       "      <th>Ethnicity_ Asian-Pac-Islander</th>\n",
       "      <th>Ethnicity_ Black</th>\n",
       "      <th>Ethnicity_ Other</th>\n",
       "      <th>Ethnicity_ White</th>\n",
       "      <th>Gender_ Female</th>\n",
       "      <th>Gender_ Male</th>\n",
       "      <th>Income</th>\n",
       "    </tr>\n",
       "  </thead>\n",
       "  <tbody>\n",
       "    <tr>\n",
       "      <th>0</th>\n",
       "      <td>0</td>\n",
       "      <td>3.688879</td>\n",
       "      <td>11.258253</td>\n",
       "      <td>7.684784</td>\n",
       "      <td>0.0</td>\n",
       "      <td>1.135322</td>\n",
       "      <td>-0.035080</td>\n",
       "      <td>0</td>\n",
       "      <td>0</td>\n",
       "      <td>0</td>\n",
       "      <td>...</td>\n",
       "      <td>0</td>\n",
       "      <td>0</td>\n",
       "      <td>0</td>\n",
       "      <td>0</td>\n",
       "      <td>0</td>\n",
       "      <td>0</td>\n",
       "      <td>1</td>\n",
       "      <td>0</td>\n",
       "      <td>1</td>\n",
       "      <td>-1.0</td>\n",
       "    </tr>\n",
       "    <tr>\n",
       "      <th>1</th>\n",
       "      <td>1</td>\n",
       "      <td>3.931826</td>\n",
       "      <td>11.330348</td>\n",
       "      <td>0.000000</td>\n",
       "      <td>0.0</td>\n",
       "      <td>1.135322</td>\n",
       "      <td>-2.227904</td>\n",
       "      <td>0</td>\n",
       "      <td>0</td>\n",
       "      <td>0</td>\n",
       "      <td>...</td>\n",
       "      <td>0</td>\n",
       "      <td>0</td>\n",
       "      <td>0</td>\n",
       "      <td>0</td>\n",
       "      <td>0</td>\n",
       "      <td>0</td>\n",
       "      <td>1</td>\n",
       "      <td>0</td>\n",
       "      <td>1</td>\n",
       "      <td>-1.0</td>\n",
       "    </tr>\n",
       "    <tr>\n",
       "      <th>2</th>\n",
       "      <td>2</td>\n",
       "      <td>3.663562</td>\n",
       "      <td>12.281398</td>\n",
       "      <td>0.000000</td>\n",
       "      <td>0.0</td>\n",
       "      <td>-0.419772</td>\n",
       "      <td>-0.035080</td>\n",
       "      <td>0</td>\n",
       "      <td>0</td>\n",
       "      <td>0</td>\n",
       "      <td>...</td>\n",
       "      <td>0</td>\n",
       "      <td>0</td>\n",
       "      <td>0</td>\n",
       "      <td>0</td>\n",
       "      <td>0</td>\n",
       "      <td>0</td>\n",
       "      <td>1</td>\n",
       "      <td>0</td>\n",
       "      <td>1</td>\n",
       "      <td>-1.0</td>\n",
       "    </tr>\n",
       "    <tr>\n",
       "      <th>3</th>\n",
       "      <td>3</td>\n",
       "      <td>3.988984</td>\n",
       "      <td>12.366157</td>\n",
       "      <td>0.000000</td>\n",
       "      <td>0.0</td>\n",
       "      <td>-1.197318</td>\n",
       "      <td>-0.035080</td>\n",
       "      <td>0</td>\n",
       "      <td>0</td>\n",
       "      <td>0</td>\n",
       "      <td>...</td>\n",
       "      <td>0</td>\n",
       "      <td>0</td>\n",
       "      <td>0</td>\n",
       "      <td>0</td>\n",
       "      <td>1</td>\n",
       "      <td>0</td>\n",
       "      <td>0</td>\n",
       "      <td>0</td>\n",
       "      <td>1</td>\n",
       "      <td>-1.0</td>\n",
       "    </tr>\n",
       "    <tr>\n",
       "      <th>4</th>\n",
       "      <td>4</td>\n",
       "      <td>3.367296</td>\n",
       "      <td>12.732013</td>\n",
       "      <td>0.000000</td>\n",
       "      <td>0.0</td>\n",
       "      <td>1.135322</td>\n",
       "      <td>-0.035080</td>\n",
       "      <td>0</td>\n",
       "      <td>0</td>\n",
       "      <td>0</td>\n",
       "      <td>...</td>\n",
       "      <td>0</td>\n",
       "      <td>1</td>\n",
       "      <td>0</td>\n",
       "      <td>0</td>\n",
       "      <td>1</td>\n",
       "      <td>0</td>\n",
       "      <td>0</td>\n",
       "      <td>1</td>\n",
       "      <td>0</td>\n",
       "      <td>-1.0</td>\n",
       "    </tr>\n",
       "  </tbody>\n",
       "</table>\n",
       "<p>5 rows × 66 columns</p>\n",
       "</div>"
      ],
      "text/plain": [
       "   Unnamed: 0       Age  Weighing_Factor  Gains_FA  Loss_FA  Schooling  \\\n",
       "0           0  3.688879        11.258253  7.684784      0.0   1.135322   \n",
       "1           1  3.931826        11.330348  0.000000      0.0   1.135322   \n",
       "2           2  3.663562        12.281398  0.000000      0.0  -0.419772   \n",
       "3           3  3.988984        12.366157  0.000000      0.0  -1.197318   \n",
       "4           4  3.367296        12.732013  0.000000      0.0   1.135322   \n",
       "\n",
       "   Working_Time  Employment_Type_ Federal-gov  Employment_Type_ Local-gov  \\\n",
       "0     -0.035080                             0                           0   \n",
       "1     -2.227904                             0                           0   \n",
       "2     -0.035080                             0                           0   \n",
       "3     -0.035080                             0                           0   \n",
       "4     -0.035080                             0                           0   \n",
       "\n",
       "   Employment_Type_ Never-worked  ...  Partnership_ Unmarried  \\\n",
       "0                              0  ...                       0   \n",
       "1                              0  ...                       0   \n",
       "2                              0  ...                       0   \n",
       "3                              0  ...                       0   \n",
       "4                              0  ...                       0   \n",
       "\n",
       "   Partnership_ Wife  Ethnicity_ Amer-Indian-Eskimo  \\\n",
       "0                  0                              0   \n",
       "1                  0                              0   \n",
       "2                  0                              0   \n",
       "3                  0                              0   \n",
       "4                  1                              0   \n",
       "\n",
       "   Ethnicity_ Asian-Pac-Islander  Ethnicity_ Black  Ethnicity_ Other  \\\n",
       "0                              0                 0                 0   \n",
       "1                              0                 0                 0   \n",
       "2                              0                 0                 0   \n",
       "3                              0                 1                 0   \n",
       "4                              0                 1                 0   \n",
       "\n",
       "   Ethnicity_ White  Gender_ Female  Gender_ Male  Income  \n",
       "0                 1               0             1    -1.0  \n",
       "1                 1               0             1    -1.0  \n",
       "2                 1               0             1    -1.0  \n",
       "3                 0               0             1    -1.0  \n",
       "4                 0               1             0    -1.0  \n",
       "\n",
       "[5 rows x 66 columns]"
      ]
     },
     "execution_count": 3,
     "metadata": {},
     "output_type": "execute_result"
    }
   ],
   "source": [
    "final_df_training = pd.read_csv(\"./data/final_df_training.csv\")\n",
    "final_df_training.head()"
   ]
  },
  {
   "cell_type": "code",
   "execution_count": 6,
   "metadata": {},
   "outputs": [
    {
     "data": {
      "text/html": [
       "<div>\n",
       "<style scoped>\n",
       "    .dataframe tbody tr th:only-of-type {\n",
       "        vertical-align: middle;\n",
       "    }\n",
       "\n",
       "    .dataframe tbody tr th {\n",
       "        vertical-align: top;\n",
       "    }\n",
       "\n",
       "    .dataframe thead th {\n",
       "        text-align: right;\n",
       "    }\n",
       "</style>\n",
       "<table border=\"1\" class=\"dataframe\">\n",
       "  <thead>\n",
       "    <tr style=\"text-align: right;\">\n",
       "      <th></th>\n",
       "      <th>Unnamed: 0</th>\n",
       "      <th>Age</th>\n",
       "      <th>Weighing_Factor</th>\n",
       "      <th>Gains_FA</th>\n",
       "      <th>Loss_FA</th>\n",
       "      <th>Schooling</th>\n",
       "      <th>Working_Time</th>\n",
       "      <th>Employment_Type_ Federal-gov</th>\n",
       "      <th>Employment_Type_ Local-gov</th>\n",
       "      <th>Employment_Type_ Never-worked</th>\n",
       "      <th>...</th>\n",
       "      <th>Partnership_ Unmarried</th>\n",
       "      <th>Partnership_ Wife</th>\n",
       "      <th>Ethnicity_ Amer-Indian-Eskimo</th>\n",
       "      <th>Ethnicity_ Asian-Pac-Islander</th>\n",
       "      <th>Ethnicity_ Black</th>\n",
       "      <th>Ethnicity_ Other</th>\n",
       "      <th>Ethnicity_ White</th>\n",
       "      <th>Gender_ Female</th>\n",
       "      <th>Gender_ Male</th>\n",
       "      <th>Income</th>\n",
       "    </tr>\n",
       "  </thead>\n",
       "  <tbody>\n",
       "    <tr>\n",
       "      <th>0</th>\n",
       "      <td>5000</td>\n",
       "      <td>3.871201</td>\n",
       "      <td>11.285121</td>\n",
       "      <td>10.233834</td>\n",
       "      <td>0.000000</td>\n",
       "      <td>1.912869</td>\n",
       "      <td>0.777077</td>\n",
       "      <td>0</td>\n",
       "      <td>0</td>\n",
       "      <td>0</td>\n",
       "      <td>...</td>\n",
       "      <td>0</td>\n",
       "      <td>0</td>\n",
       "      <td>0</td>\n",
       "      <td>0</td>\n",
       "      <td>0</td>\n",
       "      <td>0</td>\n",
       "      <td>1</td>\n",
       "      <td>0</td>\n",
       "      <td>1</td>\n",
       "      <td>NaN</td>\n",
       "    </tr>\n",
       "    <tr>\n",
       "      <th>1</th>\n",
       "      <td>5001</td>\n",
       "      <td>4.025352</td>\n",
       "      <td>11.928176</td>\n",
       "      <td>0.000000</td>\n",
       "      <td>7.372118</td>\n",
       "      <td>1.135322</td>\n",
       "      <td>-0.197511</td>\n",
       "      <td>0</td>\n",
       "      <td>0</td>\n",
       "      <td>0</td>\n",
       "      <td>...</td>\n",
       "      <td>0</td>\n",
       "      <td>0</td>\n",
       "      <td>0</td>\n",
       "      <td>0</td>\n",
       "      <td>0</td>\n",
       "      <td>0</td>\n",
       "      <td>1</td>\n",
       "      <td>1</td>\n",
       "      <td>0</td>\n",
       "      <td>NaN</td>\n",
       "    </tr>\n",
       "    <tr>\n",
       "      <th>2</th>\n",
       "      <td>5002</td>\n",
       "      <td>3.295837</td>\n",
       "      <td>11.795560</td>\n",
       "      <td>8.519989</td>\n",
       "      <td>0.000000</td>\n",
       "      <td>-0.419772</td>\n",
       "      <td>-0.035080</td>\n",
       "      <td>0</td>\n",
       "      <td>0</td>\n",
       "      <td>0</td>\n",
       "      <td>...</td>\n",
       "      <td>0</td>\n",
       "      <td>1</td>\n",
       "      <td>0</td>\n",
       "      <td>0</td>\n",
       "      <td>0</td>\n",
       "      <td>0</td>\n",
       "      <td>1</td>\n",
       "      <td>1</td>\n",
       "      <td>0</td>\n",
       "      <td>NaN</td>\n",
       "    </tr>\n",
       "    <tr>\n",
       "      <th>3</th>\n",
       "      <td>5003</td>\n",
       "      <td>3.367296</td>\n",
       "      <td>11.993343</td>\n",
       "      <td>0.000000</td>\n",
       "      <td>0.000000</td>\n",
       "      <td>-0.419772</td>\n",
       "      <td>-0.035080</td>\n",
       "      <td>0</td>\n",
       "      <td>0</td>\n",
       "      <td>0</td>\n",
       "      <td>...</td>\n",
       "      <td>1</td>\n",
       "      <td>0</td>\n",
       "      <td>0</td>\n",
       "      <td>0</td>\n",
       "      <td>0</td>\n",
       "      <td>0</td>\n",
       "      <td>1</td>\n",
       "      <td>1</td>\n",
       "      <td>0</td>\n",
       "      <td>NaN</td>\n",
       "    </tr>\n",
       "    <tr>\n",
       "      <th>4</th>\n",
       "      <td>5004</td>\n",
       "      <td>3.610918</td>\n",
       "      <td>11.040471</td>\n",
       "      <td>0.000000</td>\n",
       "      <td>0.000000</td>\n",
       "      <td>-0.419772</td>\n",
       "      <td>-0.035080</td>\n",
       "      <td>0</td>\n",
       "      <td>0</td>\n",
       "      <td>0</td>\n",
       "      <td>...</td>\n",
       "      <td>0</td>\n",
       "      <td>0</td>\n",
       "      <td>0</td>\n",
       "      <td>0</td>\n",
       "      <td>1</td>\n",
       "      <td>0</td>\n",
       "      <td>0</td>\n",
       "      <td>0</td>\n",
       "      <td>1</td>\n",
       "      <td>NaN</td>\n",
       "    </tr>\n",
       "  </tbody>\n",
       "</table>\n",
       "<p>5 rows × 66 columns</p>\n",
       "</div>"
      ],
      "text/plain": [
       "   Unnamed: 0       Age  Weighing_Factor   Gains_FA   Loss_FA  Schooling  \\\n",
       "0        5000  3.871201        11.285121  10.233834  0.000000   1.912869   \n",
       "1        5001  4.025352        11.928176   0.000000  7.372118   1.135322   \n",
       "2        5002  3.295837        11.795560   8.519989  0.000000  -0.419772   \n",
       "3        5003  3.367296        11.993343   0.000000  0.000000  -0.419772   \n",
       "4        5004  3.610918        11.040471   0.000000  0.000000  -0.419772   \n",
       "\n",
       "   Working_Time  Employment_Type_ Federal-gov  Employment_Type_ Local-gov  \\\n",
       "0      0.777077                             0                           0   \n",
       "1     -0.197511                             0                           0   \n",
       "2     -0.035080                             0                           0   \n",
       "3     -0.035080                             0                           0   \n",
       "4     -0.035080                             0                           0   \n",
       "\n",
       "   Employment_Type_ Never-worked  ...  Partnership_ Unmarried  \\\n",
       "0                              0  ...                       0   \n",
       "1                              0  ...                       0   \n",
       "2                              0  ...                       0   \n",
       "3                              0  ...                       1   \n",
       "4                              0  ...                       0   \n",
       "\n",
       "   Partnership_ Wife  Ethnicity_ Amer-Indian-Eskimo  \\\n",
       "0                  0                              0   \n",
       "1                  0                              0   \n",
       "2                  1                              0   \n",
       "3                  0                              0   \n",
       "4                  0                              0   \n",
       "\n",
       "   Ethnicity_ Asian-Pac-Islander  Ethnicity_ Black  Ethnicity_ Other  \\\n",
       "0                              0                 0                 0   \n",
       "1                              0                 0                 0   \n",
       "2                              0                 0                 0   \n",
       "3                              0                 0                 0   \n",
       "4                              0                 1                 0   \n",
       "\n",
       "   Ethnicity_ White  Gender_ Female  Gender_ Male  Income  \n",
       "0                 1               0             1     NaN  \n",
       "1                 1               1             0     NaN  \n",
       "2                 1               1             0     NaN  \n",
       "3                 1               1             0     NaN  \n",
       "4                 0               0             1     NaN  \n",
       "\n",
       "[5 rows x 66 columns]"
      ]
     },
     "execution_count": 6,
     "metadata": {},
     "output_type": "execute_result"
    }
   ],
   "source": [
    "final_df_prediction = pd.read_csv(\"./data/final_df_prediction.csv\")\n",
    "final_df_prediction.head()"
   ]
  },
  {
   "cell_type": "code",
   "execution_count": 7,
   "metadata": {},
   "outputs": [
    {
     "name": "stdout",
     "output_type": "stream",
     "text": [
      "30000\n",
      "5000\n",
      "25000\n"
     ]
    }
   ],
   "source": [
    "print(len(data))\n",
    "print(len(final_df_training))\n",
    "print(len(final_df_prediction))"
   ]
  },
  {
   "cell_type": "code",
   "execution_count": 107,
   "metadata": {},
   "outputs": [],
   "source": [
    "from sklearn.metrics import accuracy_score,recall_score,precision_score,f1_score,confusion_matrix\n",
    "\n",
    "def evaulation(test_y:np.ndarray,pred_y:np.ndarray):\n",
    "    from sklearn.metrics import accuracy_score,recall_score,precision_score,f1_score,confusion_matrix\n",
    "\n",
    "    print(f\"Accuracy Score : {np.round(accuracy_score(test_y,pred_y)*100,2)}%\")\n",
    "    print(f\"Recall Score : {np.round(recall_score(test_y,pred_y)*100,2)}%\")\n",
    "    print(f\"Precision Score : {np.round(precision_score(test_y,pred_y)*100,2)}%\")\n",
    "    print(f\"F1 Score : {np.round(f1_score(test_y,pred_y)*100,2)}%\")\n",
    "\n",
    "    print(\"\\n\")\n",
    "\n",
    "    cm = confusion_matrix(test_y, pred_y)\n",
    "\n",
    "    print(f\"Confusion Matrix : \\n{cm}\")\n",
    "\n",
    "    # return accuracy_score(test_y,pred_y)"
   ]
  },
  {
   "cell_type": "code",
   "execution_count": 56,
   "metadata": {},
   "outputs": [],
   "source": [
    "X = final_df_training.drop(columns=['Unnamed: 0','Income'],axis=1)\n",
    "y = final_df_training[\"Income\"]"
   ]
  },
  {
   "cell_type": "code",
   "execution_count": 64,
   "metadata": {},
   "outputs": [],
   "source": [
    "from sklearn.model_selection import train_test_split\n",
    "\n",
    "X_train,X_test,y_train,y_test = train_test_split(X,y,test_size=0.20,random_state=101,shuffle=True)\n",
    "X_pred = final_df_prediction.drop(columns=['Unnamed: 0','Income'],axis=1)"
   ]
  },
  {
   "cell_type": "code",
   "execution_count": 65,
   "metadata": {},
   "outputs": [
    {
     "data": {
      "text/html": [
       "<div>\n",
       "<style scoped>\n",
       "    .dataframe tbody tr th:only-of-type {\n",
       "        vertical-align: middle;\n",
       "    }\n",
       "\n",
       "    .dataframe tbody tr th {\n",
       "        vertical-align: top;\n",
       "    }\n",
       "\n",
       "    .dataframe thead th {\n",
       "        text-align: right;\n",
       "    }\n",
       "</style>\n",
       "<table border=\"1\" class=\"dataframe\">\n",
       "  <thead>\n",
       "    <tr style=\"text-align: right;\">\n",
       "      <th></th>\n",
       "      <th>Age</th>\n",
       "      <th>Weighing_Factor</th>\n",
       "      <th>Gains_FA</th>\n",
       "      <th>Loss_FA</th>\n",
       "      <th>Schooling</th>\n",
       "      <th>Working_Time</th>\n",
       "      <th>Employment_Type_ Federal-gov</th>\n",
       "      <th>Employment_Type_ Local-gov</th>\n",
       "      <th>Employment_Type_ Never-worked</th>\n",
       "      <th>Employment_Type_ Private</th>\n",
       "      <th>...</th>\n",
       "      <th>Partnership_ Own-child</th>\n",
       "      <th>Partnership_ Unmarried</th>\n",
       "      <th>Partnership_ Wife</th>\n",
       "      <th>Ethnicity_ Amer-Indian-Eskimo</th>\n",
       "      <th>Ethnicity_ Asian-Pac-Islander</th>\n",
       "      <th>Ethnicity_ Black</th>\n",
       "      <th>Ethnicity_ Other</th>\n",
       "      <th>Ethnicity_ White</th>\n",
       "      <th>Gender_ Female</th>\n",
       "      <th>Gender_ Male</th>\n",
       "    </tr>\n",
       "  </thead>\n",
       "  <tbody>\n",
       "    <tr>\n",
       "      <th>3413</th>\n",
       "      <td>3.555348</td>\n",
       "      <td>12.739465</td>\n",
       "      <td>8.895493</td>\n",
       "      <td>0.0</td>\n",
       "      <td>1.135322</td>\n",
       "      <td>1.589234</td>\n",
       "      <td>0</td>\n",
       "      <td>0</td>\n",
       "      <td>0</td>\n",
       "      <td>1</td>\n",
       "      <td>...</td>\n",
       "      <td>0</td>\n",
       "      <td>0</td>\n",
       "      <td>0</td>\n",
       "      <td>0</td>\n",
       "      <td>0</td>\n",
       "      <td>0</td>\n",
       "      <td>0</td>\n",
       "      <td>1</td>\n",
       "      <td>0</td>\n",
       "      <td>1</td>\n",
       "    </tr>\n",
       "    <tr>\n",
       "      <th>1610</th>\n",
       "      <td>4.077537</td>\n",
       "      <td>12.262207</td>\n",
       "      <td>0.000000</td>\n",
       "      <td>0.0</td>\n",
       "      <td>-0.808545</td>\n",
       "      <td>0.939509</td>\n",
       "      <td>0</td>\n",
       "      <td>0</td>\n",
       "      <td>0</td>\n",
       "      <td>0</td>\n",
       "      <td>...</td>\n",
       "      <td>0</td>\n",
       "      <td>0</td>\n",
       "      <td>0</td>\n",
       "      <td>0</td>\n",
       "      <td>0</td>\n",
       "      <td>0</td>\n",
       "      <td>0</td>\n",
       "      <td>1</td>\n",
       "      <td>1</td>\n",
       "      <td>0</td>\n",
       "    </tr>\n",
       "    <tr>\n",
       "      <th>3459</th>\n",
       "      <td>3.091042</td>\n",
       "      <td>12.784855</td>\n",
       "      <td>0.000000</td>\n",
       "      <td>0.0</td>\n",
       "      <td>-0.419772</td>\n",
       "      <td>-0.035080</td>\n",
       "      <td>0</td>\n",
       "      <td>0</td>\n",
       "      <td>0</td>\n",
       "      <td>0</td>\n",
       "      <td>...</td>\n",
       "      <td>0</td>\n",
       "      <td>1</td>\n",
       "      <td>0</td>\n",
       "      <td>0</td>\n",
       "      <td>0</td>\n",
       "      <td>0</td>\n",
       "      <td>0</td>\n",
       "      <td>1</td>\n",
       "      <td>1</td>\n",
       "      <td>0</td>\n",
       "    </tr>\n",
       "    <tr>\n",
       "      <th>4293</th>\n",
       "      <td>3.526361</td>\n",
       "      <td>12.238119</td>\n",
       "      <td>0.000000</td>\n",
       "      <td>0.0</td>\n",
       "      <td>-0.030998</td>\n",
       "      <td>-0.035080</td>\n",
       "      <td>0</td>\n",
       "      <td>0</td>\n",
       "      <td>0</td>\n",
       "      <td>1</td>\n",
       "      <td>...</td>\n",
       "      <td>0</td>\n",
       "      <td>0</td>\n",
       "      <td>0</td>\n",
       "      <td>0</td>\n",
       "      <td>0</td>\n",
       "      <td>0</td>\n",
       "      <td>0</td>\n",
       "      <td>1</td>\n",
       "      <td>0</td>\n",
       "      <td>1</td>\n",
       "    </tr>\n",
       "    <tr>\n",
       "      <th>1039</th>\n",
       "      <td>3.555348</td>\n",
       "      <td>12.009510</td>\n",
       "      <td>0.000000</td>\n",
       "      <td>0.0</td>\n",
       "      <td>-1.197318</td>\n",
       "      <td>-2.633982</td>\n",
       "      <td>0</td>\n",
       "      <td>0</td>\n",
       "      <td>0</td>\n",
       "      <td>0</td>\n",
       "      <td>...</td>\n",
       "      <td>0</td>\n",
       "      <td>0</td>\n",
       "      <td>1</td>\n",
       "      <td>0</td>\n",
       "      <td>0</td>\n",
       "      <td>0</td>\n",
       "      <td>0</td>\n",
       "      <td>1</td>\n",
       "      <td>1</td>\n",
       "      <td>0</td>\n",
       "    </tr>\n",
       "  </tbody>\n",
       "</table>\n",
       "<p>5 rows × 64 columns</p>\n",
       "</div>"
      ],
      "text/plain": [
       "           Age  Weighing_Factor  Gains_FA  Loss_FA  Schooling  Working_Time  \\\n",
       "3413  3.555348        12.739465  8.895493      0.0   1.135322      1.589234   \n",
       "1610  4.077537        12.262207  0.000000      0.0  -0.808545      0.939509   \n",
       "3459  3.091042        12.784855  0.000000      0.0  -0.419772     -0.035080   \n",
       "4293  3.526361        12.238119  0.000000      0.0  -0.030998     -0.035080   \n",
       "1039  3.555348        12.009510  0.000000      0.0  -1.197318     -2.633982   \n",
       "\n",
       "      Employment_Type_ Federal-gov  Employment_Type_ Local-gov  \\\n",
       "3413                             0                           0   \n",
       "1610                             0                           0   \n",
       "3459                             0                           0   \n",
       "4293                             0                           0   \n",
       "1039                             0                           0   \n",
       "\n",
       "      Employment_Type_ Never-worked  Employment_Type_ Private  ...  \\\n",
       "3413                              0                         1  ...   \n",
       "1610                              0                         0  ...   \n",
       "3459                              0                         0  ...   \n",
       "4293                              0                         1  ...   \n",
       "1039                              0                         0  ...   \n",
       "\n",
       "      Partnership_ Own-child  Partnership_ Unmarried  Partnership_ Wife  \\\n",
       "3413                       0                       0                  0   \n",
       "1610                       0                       0                  0   \n",
       "3459                       0                       1                  0   \n",
       "4293                       0                       0                  0   \n",
       "1039                       0                       0                  1   \n",
       "\n",
       "      Ethnicity_ Amer-Indian-Eskimo  Ethnicity_ Asian-Pac-Islander  \\\n",
       "3413                              0                              0   \n",
       "1610                              0                              0   \n",
       "3459                              0                              0   \n",
       "4293                              0                              0   \n",
       "1039                              0                              0   \n",
       "\n",
       "      Ethnicity_ Black  Ethnicity_ Other  Ethnicity_ White  Gender_ Female  \\\n",
       "3413                 0                 0                 1               0   \n",
       "1610                 0                 0                 1               1   \n",
       "3459                 0                 0                 1               1   \n",
       "4293                 0                 0                 1               0   \n",
       "1039                 0                 0                 1               1   \n",
       "\n",
       "      Gender_ Male  \n",
       "3413             1  \n",
       "1610             0  \n",
       "3459             0  \n",
       "4293             1  \n",
       "1039             0  \n",
       "\n",
       "[5 rows x 64 columns]"
      ]
     },
     "execution_count": 65,
     "metadata": {},
     "output_type": "execute_result"
    }
   ],
   "source": [
    "X_train[0:5]"
   ]
  },
  {
   "attachments": {},
   "cell_type": "markdown",
   "metadata": {},
   "source": [
    "# Logistic Regression"
   ]
  },
  {
   "cell_type": "code",
   "execution_count": 66,
   "metadata": {},
   "outputs": [],
   "source": [
    "from sklearn.linear_model import LogisticRegression\n",
    "\n",
    "LR = LogisticRegression()"
   ]
  },
  {
   "cell_type": "code",
   "execution_count": 67,
   "metadata": {},
   "outputs": [
    {
     "name": "stderr",
     "output_type": "stream",
     "text": [
      "c:\\Users\\kshit\\AppData\\Local\\Programs\\Python\\Python39\\lib\\site-packages\\sklearn\\linear_model\\_logistic.py:814: ConvergenceWarning: lbfgs failed to converge (status=1):\n",
      "STOP: TOTAL NO. of ITERATIONS REACHED LIMIT.\n",
      "\n",
      "Increase the number of iterations (max_iter) or scale the data as shown in:\n",
      "    https://scikit-learn.org/stable/modules/preprocessing.html\n",
      "Please also refer to the documentation for alternative solver options:\n",
      "    https://scikit-learn.org/stable/modules/linear_model.html#logistic-regression\n",
      "  n_iter_i = _check_optimize_result(\n"
     ]
    },
    {
     "data": {
      "text/plain": [
       "LogisticRegression()"
      ]
     },
     "execution_count": 67,
     "metadata": {},
     "output_type": "execute_result"
    }
   ],
   "source": [
    "LR.fit(X_train,y_train)"
   ]
  },
  {
   "cell_type": "code",
   "execution_count": 68,
   "metadata": {},
   "outputs": [
    {
     "name": "stdout",
     "output_type": "stream",
     "text": [
      "Accuracy Score : 84.4%\n",
      "Recall Score : 55.51%\n",
      "Precision Score : 74.32%\n",
      "F1 Score : 63.55%\n",
      "\n",
      "\n",
      "Confusion Matrix : \n",
      "[[708  47]\n",
      " [109 136]]\n"
     ]
    }
   ],
   "source": [
    "y_pred = LR.predict(X_test)\n",
    "evaulation(y_test,y_pred)"
   ]
  },
  {
   "cell_type": "code",
   "execution_count": 69,
   "metadata": {},
   "outputs": [],
   "source": [
    "y_pred_wo_income = LR.predict(X_pred)"
   ]
  },
  {
   "cell_type": "code",
   "execution_count": 70,
   "metadata": {},
   "outputs": [
    {
     "name": "stdout",
     "output_type": "stream",
     "text": [
      "Income\n",
      " <=50K    20075\n",
      " >50K      4925\n",
      "dtype: int64\n"
     ]
    },
    {
     "data": {
      "image/png": "[encoded data removed]",
      "text/plain": [
       "<Figure size 432x288 with 1 Axes>"
      ]
     },
     "metadata": {
      "needs_background": "light"
     },
     "output_type": "display_data"
    }
   ],
   "source": [
    "print(pd.DataFrame(y_pred_wo_income,columns=[\"Income\"]).replace({-1:\" <=50K\",1:\" >50K\"}).value_counts())\n",
    "sns.histplot(pd.DataFrame(y_pred_wo_income,columns=[\"Income\"]).replace({-1:\" <=50K\",1:\" >50K\"})[\"Income\"]);"
   ]
  },
  {
   "attachments": {},
   "cell_type": "markdown",
   "metadata": {},
   "source": [
    "## Tuning the LR model"
   ]
  },
  {
   "cell_type": "code",
   "execution_count": 94,
   "metadata": {},
   "outputs": [
    {
     "name": "stdout",
     "output_type": "stream",
     "text": [
      "Accuracy Score : 84.1%\n",
      "Recall Score : 54.69%\n",
      "Precision Score : 73.63%\n",
      "F1 Score : 62.76%\n",
      "\n",
      "\n",
      "Confusion Matrix : \n",
      "[[707  48]\n",
      " [111 134]]\n"
     ]
    }
   ],
   "source": [
    "LR2 = LogisticRegression(penalty=\"l2\",solver=\"lbfgs\",max_iter=500)\n",
    "LR2.fit(X_train,y_train)\n",
    "y_pred_LR2 = LR2.predict(X_test)\n",
    "evaulation(y_test,y_pred_LR2)"
   ]
  },
  {
   "cell_type": "code",
   "execution_count": 95,
   "metadata": {},
   "outputs": [
    {
     "name": "stdout",
     "output_type": "stream",
     "text": [
      "Accuracy Score : 84.1%\n",
      "Recall Score : 55.51%\n",
      "Precision Score : 73.12%\n",
      "F1 Score : 63.11%\n",
      "\n",
      "\n",
      "Confusion Matrix : \n",
      "[[705  50]\n",
      " [109 136]]\n"
     ]
    }
   ],
   "source": [
    "LR2 = LogisticRegression(penalty=\"l2\",solver=\"liblinear\",max_iter=500)\n",
    "LR2.fit(X_train,y_train)\n",
    "y_pred_LR2 = LR2.predict(X_test)\n",
    "evaulation(y_test,y_pred_LR2)"
   ]
  },
  {
   "cell_type": "code",
   "execution_count": 96,
   "metadata": {},
   "outputs": [
    {
     "name": "stdout",
     "output_type": "stream",
     "text": [
      "Accuracy Score : 84.4%\n",
      "Recall Score : 55.1%\n",
      "Precision Score : 74.59%\n",
      "F1 Score : 63.38%\n",
      "\n",
      "\n",
      "Confusion Matrix : \n",
      "[[709  46]\n",
      " [110 135]]\n"
     ]
    },
    {
     "name": "stderr",
     "output_type": "stream",
     "text": [
      "c:\\Users\\kshit\\AppData\\Local\\Programs\\Python\\Python39\\lib\\site-packages\\sklearn\\linear_model\\_sag.py:352: ConvergenceWarning: The max_iter was reached which means the coef_ did not converge\n",
      "  warnings.warn(\n"
     ]
    }
   ],
   "source": [
    "LR2 = LogisticRegression(penalty=\"l2\",solver=\"saga\",max_iter=500)\n",
    "LR2.fit(X_train,y_train)\n",
    "y_pred_LR2 = LR2.predict(X_test)\n",
    "evaulation(y_test,y_pred_LR2)"
   ]
  },
  {
   "cell_type": "code",
   "execution_count": 97,
   "metadata": {},
   "outputs": [
    {
     "name": "stdout",
     "output_type": "stream",
     "text": [
      "Accuracy Score : 84.1%\n",
      "Recall Score : 54.69%\n",
      "Precision Score : 73.63%\n",
      "F1 Score : 62.76%\n",
      "\n",
      "\n",
      "Confusion Matrix : \n",
      "[[707  48]\n",
      " [111 134]]\n"
     ]
    }
   ],
   "source": [
    "LR2 = LogisticRegression(penalty=\"l2\",solver=\"newton-cg\",max_iter=500)\n",
    "LR2.fit(X_train,y_train)\n",
    "y_pred_LR2 = LR2.predict(X_test)\n",
    "evaulation(y_test,y_pred_LR2)"
   ]
  },
  {
   "attachments": {},
   "cell_type": "markdown",
   "metadata": {},
   "source": [
    "# Decision Trees\n"
   ]
  },
  {
   "cell_type": "code",
   "execution_count": 71,
   "metadata": {},
   "outputs": [],
   "source": [
    "from sklearn.tree import DecisionTreeClassifier\n",
    "\n",
    "DT = DecisionTreeClassifier()"
   ]
  },
  {
   "cell_type": "code",
   "execution_count": 72,
   "metadata": {},
   "outputs": [
    {
     "data": {
      "text/plain": [
       "DecisionTreeClassifier()"
      ]
     },
     "execution_count": 72,
     "metadata": {},
     "output_type": "execute_result"
    }
   ],
   "source": [
    "DT.fit(X_train,y_train)"
   ]
  },
  {
   "cell_type": "code",
   "execution_count": 73,
   "metadata": {},
   "outputs": [
    {
     "name": "stdout",
     "output_type": "stream",
     "text": [
      "Accuracy Score : 79.3%\n",
      "Recall Score : 55.51%\n",
      "Precision Score : 58.12%\n",
      "F1 Score : 56.78%\n",
      "\n",
      "\n",
      "Confusion Matrix : \n",
      "[[657  98]\n",
      " [109 136]]\n"
     ]
    }
   ],
   "source": [
    "y_pred_DT = DT.predict(X_test)\n",
    "evaulation(y_test,y_pred_DT)"
   ]
  },
  {
   "cell_type": "code",
   "execution_count": 152,
   "metadata": {},
   "outputs": [],
   "source": [
    "y_pred_wo_income_DT = DT.predict(X_pred)"
   ]
  },
  {
   "cell_type": "code",
   "execution_count": 153,
   "metadata": {},
   "outputs": [
    {
     "name": "stdout",
     "output_type": "stream",
     "text": [
      "Income\n",
      " <=50K    18906\n",
      " >50K      6094\n",
      "dtype: int64\n"
     ]
    },
    {
     "data": {
      "image/png": "[encoded data removed]",
      "text/plain": [
       "<Figure size 432x288 with 1 Axes>"
      ]
     },
     "metadata": {
      "needs_background": "light"
     },
     "output_type": "display_data"
    }
   ],
   "source": [
    "print(pd.DataFrame(y_pred_wo_income_DT,columns=[\"Income\"]).replace({-1:\" <=50K\",1:\" >50K\"}).value_counts())\n",
    "sns.histplot(pd.DataFrame(y_pred_wo_income_DT,columns=[\"Income\"]).replace({-1:\" <=50K\",1:\" >50K\"})[\"Income\"]);"
   ]
  },
  {
   "attachments": {},
   "cell_type": "markdown",
   "metadata": {},
   "source": [
    "## Tuning the DT model"
   ]
  },
  {
   "cell_type": "code",
   "execution_count": 113,
   "metadata": {},
   "outputs": [],
   "source": [
    "acc_list = []\n",
    "for i in np.arange(1,101,1):\n",
    "    model = DecisionTreeClassifier(max_depth=i)\n",
    "    model.fit(X_train,y_train)\n",
    "    # evaulation(y_test,model.predict(X_test))\n",
    "    acc_list.append(accuracy_score(y_test,model.predict(X_test)))"
   ]
  },
  {
   "cell_type": "code",
   "execution_count": 114,
   "metadata": {},
   "outputs": [
    {
     "data": {
      "text/plain": [
       "[<matplotlib.lines.Line2D at 0x25a13de06d0>]"
      ]
     },
     "execution_count": 114,
     "metadata": {},
     "output_type": "execute_result"
    },
    {
     "data": {
      "image/png": "[encoded data removed]",
      "text/plain": [
       "<Figure size 432x288 with 1 Axes>"
      ]
     },
     "metadata": {
      "needs_background": "light"
     },
     "output_type": "display_data"
    }
   ],
   "source": [
    "plt.plot(np.arange(1,101,1),acc_list)"
   ]
  },
  {
   "cell_type": "code",
   "execution_count": 115,
   "metadata": {},
   "outputs": [
    {
     "data": {
      "text/plain": [
       "7"
      ]
     },
     "execution_count": 115,
     "metadata": {},
     "output_type": "execute_result"
    }
   ],
   "source": [
    "np.arange(1,101,1)[np.argmax(acc_list)]"
   ]
  },
  {
   "cell_type": "code",
   "execution_count": 138,
   "metadata": {},
   "outputs": [],
   "source": [
    "min_split_list = []\n",
    "for i in np.arange(1,10,1):\n",
    "    model = DecisionTreeClassifier(max_depth=7,min_samples_split=2,min_samples_leaf=i)\n",
    "    model.fit(X_train,y_train)\n",
    "    min_split_list.append(accuracy_score(y_test,model.predict(X_test)))"
   ]
  },
  {
   "cell_type": "code",
   "execution_count": 139,
   "metadata": {},
   "outputs": [
    {
     "data": {
      "text/plain": [
       "[<matplotlib.lines.Line2D at 0x25a16080eb0>]"
      ]
     },
     "execution_count": 139,
     "metadata": {},
     "output_type": "execute_result"
    },
    {
     "data": {
      "image/png": "[encoded data removed]",
      "text/plain": [
       "<Figure size 432x288 with 1 Axes>"
      ]
     },
     "metadata": {
      "needs_background": "light"
     },
     "output_type": "display_data"
    }
   ],
   "source": [
    "plt.plot(np.arange(1,10,1),min_split_list)"
   ]
  },
  {
   "cell_type": "code",
   "execution_count": 144,
   "metadata": {},
   "outputs": [],
   "source": [
    "max_features_list = []\n",
    "for i in [\"auto\",\"sqrt\",\"log2\",None]:\n",
    "    model = DecisionTreeClassifier(max_depth=7,min_samples_split=2,min_samples_leaf=7,max_features=i)\n",
    "    model.fit(X_train,y_train)\n",
    "    max_features_list.append(accuracy_score(y_test,model.predict(X_test)))"
   ]
  },
  {
   "cell_type": "code",
   "execution_count": 145,
   "metadata": {},
   "outputs": [
    {
     "data": {
      "text/plain": [
       "[<matplotlib.lines.Line2D at 0x25a161ad460>]"
      ]
     },
     "execution_count": 145,
     "metadata": {},
     "output_type": "execute_result"
    },
    {
     "data": {
      "image/png": "[encoded data removed]",
      "text/plain": [
       "<Figure size 432x288 with 1 Axes>"
      ]
     },
     "metadata": {
      "needs_background": "light"
     },
     "output_type": "display_data"
    }
   ],
   "source": [
    "plt.plot([\"auto\",\"sqrt\",\"log2\",\"None\"],max_features_list)"
   ]
  },
  {
   "cell_type": "code",
   "execution_count": 147,
   "metadata": {},
   "outputs": [],
   "source": [
    "criterion_list = []\n",
    "for i in ['gini', 'entropy']:\n",
    "    model = DecisionTreeClassifier(max_depth=7,min_samples_split=2,min_samples_leaf=7,max_features=None,criterion=i)\n",
    "    model.fit(X_train,y_train)\n",
    "    criterion_list.append(accuracy_score(y_test,model.predict(X_test)))"
   ]
  },
  {
   "cell_type": "code",
   "execution_count": 148,
   "metadata": {},
   "outputs": [
    {
     "data": {
      "text/plain": [
       "[<matplotlib.lines.Line2D at 0x25a162512b0>]"
      ]
     },
     "execution_count": 148,
     "metadata": {},
     "output_type": "execute_result"
    },
    {
     "data": {
      "image/png": "[encoded data removed]",
      "text/plain": [
       "<Figure size 432x288 with 1 Axes>"
      ]
     },
     "metadata": {
      "needs_background": "light"
     },
     "output_type": "display_data"
    }
   ],
   "source": [
    "plt.plot(['gini','entropy'],criterion_list)"
   ]
  },
  {
   "cell_type": "code",
   "execution_count": 149,
   "metadata": {},
   "outputs": [
    {
     "name": "stdout",
     "output_type": "stream",
     "text": [
      "Accuracy Score : 84.6%\n",
      "Recall Score : 53.06%\n",
      "Precision Score : 76.92%\n",
      "F1 Score : 62.8%\n",
      "\n",
      "\n",
      "Confusion Matrix : \n",
      "[[716  39]\n",
      " [115 130]]\n"
     ]
    }
   ],
   "source": [
    "tuned_model = DecisionTreeClassifier(max_depth=7,min_samples_split=2,min_samples_leaf=2,max_features=None,criterion='gini')\n",
    "tuned_model.fit(X_train,y_train)\n",
    "evaulation(y_test,tuned_model.predict(X_test))"
   ]
  },
  {
   "cell_type": "code",
   "execution_count": 154,
   "metadata": {},
   "outputs": [],
   "source": [
    "y_pred_wo_income_DT2 = tuned_model.predict(X_pred)"
   ]
  },
  {
   "cell_type": "code",
   "execution_count": 158,
   "metadata": {},
   "outputs": [
    {
     "name": "stdout",
     "output_type": "stream",
     "text": [
      "Income\n",
      " <=50K    18906\n",
      " >50K      6094\n",
      "dtype: int64\n",
      "\n",
      "\n",
      "Income\n",
      " <=50K    20712\n",
      " >50K      4288\n",
      "dtype: int64\n"
     ]
    },
    {
     "data": {
      "image/png": "[encoded data removed]",
      "text/plain": [
       "<Figure size 432x288 with 1 Axes>"
      ]
     },
     "metadata": {
      "needs_background": "light"
     },
     "output_type": "display_data"
    }
   ],
   "source": [
    "print(pd.DataFrame(y_pred_wo_income_DT,columns=[\"Income\"]).replace({-1:\" <=50K\",1:\" >50K\"}).value_counts())\n",
    "print(\"\\n\")\n",
    "print(pd.DataFrame(y_pred_wo_income_DT2,columns=[\"Income\"]).replace({-1:\" <=50K\",1:\" >50K\"}).value_counts())\n",
    "sns.histplot(pd.DataFrame(y_pred_wo_income_DT,columns=[\"Income\"]).replace({-1:\" <=50K\",1:\" >50K\"})[\"Income\"],color=\"r\",label=\"Default Model\");\n",
    "sns.histplot(pd.DataFrame(y_pred_wo_income_DT2,columns=[\"Income\"]).replace({-1:\" <=50K\",1:\" >50K\"})[\"Income\"],color=\"b\",alpha=0.5,label=\"Tuned Model\");\n",
    "plt.legend(loc=\"best\");"
   ]
  },
  {
   "attachments": {},
   "cell_type": "markdown",
   "metadata": {},
   "source": [
    "# Random Forest"
   ]
  },
  {
   "cell_type": "code",
   "execution_count": 76,
   "metadata": {},
   "outputs": [],
   "source": [
    "from sklearn.ensemble import RandomForestClassifier\n",
    "\n",
    "RF = RandomForestClassifier()"
   ]
  },
  {
   "cell_type": "code",
   "execution_count": 77,
   "metadata": {},
   "outputs": [
    {
     "data": {
      "text/plain": [
       "RandomForestClassifier()"
      ]
     },
     "execution_count": 77,
     "metadata": {},
     "output_type": "execute_result"
    }
   ],
   "source": [
    "RF.fit(X_train,y_train)"
   ]
  },
  {
   "cell_type": "code",
   "execution_count": 78,
   "metadata": {},
   "outputs": [
    {
     "name": "stdout",
     "output_type": "stream",
     "text": [
      "Accuracy Score : 84.0%\n",
      "Recall Score : 58.78%\n",
      "Precision Score : 70.94%\n",
      "F1 Score : 64.29%\n",
      "\n",
      "\n",
      "Confusion Matrix : \n",
      "[[696  59]\n",
      " [101 144]]\n"
     ]
    }
   ],
   "source": [
    "y_pred_RF = RF.predict(X_test)\n",
    "evaulation(y_test,y_pred_RF)"
   ]
  },
  {
   "cell_type": "code",
   "execution_count": 79,
   "metadata": {},
   "outputs": [],
   "source": [
    "y_pred_wo_income_RF = RF.predict(X_pred)"
   ]
  },
  {
   "cell_type": "code",
   "execution_count": 80,
   "metadata": {},
   "outputs": [
    {
     "name": "stdout",
     "output_type": "stream",
     "text": [
      "Income\n",
      " <=50K    19898\n",
      " >50K      5102\n",
      "dtype: int64\n"
     ]
    },
    {
     "data": {
      "image/png": "[encoded data removed]",
      "text/plain": [
       "<Figure size 432x288 with 1 Axes>"
      ]
     },
     "metadata": {
      "needs_background": "light"
     },
     "output_type": "display_data"
    }
   ],
   "source": [
    "print(pd.DataFrame(y_pred_wo_income_RF,columns=[\"Income\"]).replace({-1:\" <=50K\",1:\" >50K\"}).value_counts())\n",
    "sns.histplot(pd.DataFrame(y_pred_wo_income_RF,columns=[\"Income\"]).replace({-1:\" <=50K\",1:\" >50K\"})[\"Income\"]);"
   ]
  },
  {
   "attachments": {},
   "cell_type": "markdown",
   "metadata": {},
   "source": [
    "# SVM"
   ]
  },
  {
   "cell_type": "code",
   "execution_count": 81,
   "metadata": {},
   "outputs": [],
   "source": [
    "from sklearn.svm import SVC\n",
    "\n",
    "clf_SVM = SVC()"
   ]
  },
  {
   "cell_type": "code",
   "execution_count": 82,
   "metadata": {},
   "outputs": [
    {
     "data": {
      "text/plain": [
       "SVC()"
      ]
     },
     "execution_count": 82,
     "metadata": {},
     "output_type": "execute_result"
    }
   ],
   "source": [
    "clf_SVM.fit(X_train,y_train)"
   ]
  },
  {
   "cell_type": "code",
   "execution_count": 83,
   "metadata": {},
   "outputs": [
    {
     "name": "stdout",
     "output_type": "stream",
     "text": [
      "Accuracy Score : 83.5%\n",
      "Recall Score : 48.57%\n",
      "Precision Score : 75.32%\n",
      "F1 Score : 59.06%\n",
      "\n",
      "\n",
      "Confusion Matrix : \n",
      "[[716  39]\n",
      " [126 119]]\n"
     ]
    }
   ],
   "source": [
    "y_pred_SVM = clf_SVM.predict(X_test)\n",
    "evaulation(y_test,y_pred_SVM)"
   ]
  },
  {
   "cell_type": "code",
   "execution_count": 84,
   "metadata": {},
   "outputs": [],
   "source": [
    "y_pred_wo_income_RF = RF.predict(X_pred)"
   ]
  },
  {
   "cell_type": "code",
   "execution_count": 85,
   "metadata": {},
   "outputs": [
    {
     "name": "stdout",
     "output_type": "stream",
     "text": [
      "Income\n",
      " <=50K    19898\n",
      " >50K      5102\n",
      "dtype: int64\n"
     ]
    },
    {
     "data": {
      "image/png": "[encoded data removed]",
      "text/plain": [
       "<Figure size 432x288 with 1 Axes>"
      ]
     },
     "metadata": {
      "needs_background": "light"
     },
     "output_type": "display_data"
    }
   ],
   "source": [
    "print(pd.DataFrame(y_pred_wo_income_RF,columns=[\"Income\"]).replace({-1:\" <=50K\",1:\" >50K\"}).value_counts())\n",
    "sns.histplot(pd.DataFrame(y_pred_wo_income_RF,columns=[\"Income\"]).replace({-1:\" <=50K\",1:\" >50K\"})[\"Income\"]);"
   ]
  },
  {
   "cell_type": "code",
   "execution_count": null,
   "metadata": {},
   "outputs": [
    {
     "data": {
      "text/html": [
       "<div>\n",
       "<style scoped>\n",
       "    .dataframe tbody tr th:only-of-type {\n",
       "        vertical-align: middle;\n",
       "    }\n",
       "\n",
       "    .dataframe tbody tr th {\n",
       "        vertical-align: top;\n",
       "    }\n",
       "\n",
       "    .dataframe thead th {\n",
       "        text-align: right;\n",
       "    }\n",
       "</style>\n",
       "<table border=\"1\" class=\"dataframe\">\n",
       "  <thead>\n",
       "    <tr style=\"text-align: right;\">\n",
       "      <th></th>\n",
       "      <th>Unnamed: 0</th>\n",
       "      <th>Age</th>\n",
       "      <th>Weighing_Factor</th>\n",
       "      <th>Gains_FA</th>\n",
       "      <th>Loss_FA</th>\n",
       "      <th>Schooling</th>\n",
       "      <th>Working_Time</th>\n",
       "      <th>Employment_Type_ Federal-gov</th>\n",
       "      <th>Employment_Type_ Local-gov</th>\n",
       "      <th>Employment_Type_ Never-worked</th>\n",
       "      <th>...</th>\n",
       "      <th>Partnership_ Own-child</th>\n",
       "      <th>Partnership_ Unmarried</th>\n",
       "      <th>Partnership_ Wife</th>\n",
       "      <th>Ethnicity_ Amer-Indian-Eskimo</th>\n",
       "      <th>Ethnicity_ Asian-Pac-Islander</th>\n",
       "      <th>Ethnicity_ Black</th>\n",
       "      <th>Ethnicity_ Other</th>\n",
       "      <th>Ethnicity_ White</th>\n",
       "      <th>Gender_ Female</th>\n",
       "      <th>Gender_ Male</th>\n",
       "    </tr>\n",
       "  </thead>\n",
       "  <tbody>\n",
       "    <tr>\n",
       "      <th>3413</th>\n",
       "      <td>3413</td>\n",
       "      <td>3.555348</td>\n",
       "      <td>12.739465</td>\n",
       "      <td>8.895493</td>\n",
       "      <td>0.0</td>\n",
       "      <td>1.135322</td>\n",
       "      <td>1.589234</td>\n",
       "      <td>0</td>\n",
       "      <td>0</td>\n",
       "      <td>0</td>\n",
       "      <td>...</td>\n",
       "      <td>0</td>\n",
       "      <td>0</td>\n",
       "      <td>0</td>\n",
       "      <td>0</td>\n",
       "      <td>0</td>\n",
       "      <td>0</td>\n",
       "      <td>0</td>\n",
       "      <td>1</td>\n",
       "      <td>0</td>\n",
       "      <td>1</td>\n",
       "    </tr>\n",
       "    <tr>\n",
       "      <th>1610</th>\n",
       "      <td>1610</td>\n",
       "      <td>4.077537</td>\n",
       "      <td>12.262207</td>\n",
       "      <td>0.000000</td>\n",
       "      <td>0.0</td>\n",
       "      <td>-0.808545</td>\n",
       "      <td>0.939509</td>\n",
       "      <td>0</td>\n",
       "      <td>0</td>\n",
       "      <td>0</td>\n",
       "      <td>...</td>\n",
       "      <td>0</td>\n",
       "      <td>0</td>\n",
       "      <td>0</td>\n",
       "      <td>0</td>\n",
       "      <td>0</td>\n",
       "      <td>0</td>\n",
       "      <td>0</td>\n",
       "      <td>1</td>\n",
       "      <td>1</td>\n",
       "      <td>0</td>\n",
       "    </tr>\n",
       "    <tr>\n",
       "      <th>3459</th>\n",
       "      <td>3459</td>\n",
       "      <td>3.091042</td>\n",
       "      <td>12.784855</td>\n",
       "      <td>0.000000</td>\n",
       "      <td>0.0</td>\n",
       "      <td>-0.419772</td>\n",
       "      <td>-0.035080</td>\n",
       "      <td>0</td>\n",
       "      <td>0</td>\n",
       "      <td>0</td>\n",
       "      <td>...</td>\n",
       "      <td>0</td>\n",
       "      <td>1</td>\n",
       "      <td>0</td>\n",
       "      <td>0</td>\n",
       "      <td>0</td>\n",
       "      <td>0</td>\n",
       "      <td>0</td>\n",
       "      <td>1</td>\n",
       "      <td>1</td>\n",
       "      <td>0</td>\n",
       "    </tr>\n",
       "    <tr>\n",
       "      <th>4293</th>\n",
       "      <td>4293</td>\n",
       "      <td>3.526361</td>\n",
       "      <td>12.238119</td>\n",
       "      <td>0.000000</td>\n",
       "      <td>0.0</td>\n",
       "      <td>-0.030998</td>\n",
       "      <td>-0.035080</td>\n",
       "      <td>0</td>\n",
       "      <td>0</td>\n",
       "      <td>0</td>\n",
       "      <td>...</td>\n",
       "      <td>0</td>\n",
       "      <td>0</td>\n",
       "      <td>0</td>\n",
       "      <td>0</td>\n",
       "      <td>0</td>\n",
       "      <td>0</td>\n",
       "      <td>0</td>\n",
       "      <td>1</td>\n",
       "      <td>0</td>\n",
       "      <td>1</td>\n",
       "    </tr>\n",
       "    <tr>\n",
       "      <th>1039</th>\n",
       "      <td>1039</td>\n",
       "      <td>3.555348</td>\n",
       "      <td>12.009510</td>\n",
       "      <td>0.000000</td>\n",
       "      <td>0.0</td>\n",
       "      <td>-1.197318</td>\n",
       "      <td>-2.633982</td>\n",
       "      <td>0</td>\n",
       "      <td>0</td>\n",
       "      <td>0</td>\n",
       "      <td>...</td>\n",
       "      <td>0</td>\n",
       "      <td>0</td>\n",
       "      <td>1</td>\n",
       "      <td>0</td>\n",
       "      <td>0</td>\n",
       "      <td>0</td>\n",
       "      <td>0</td>\n",
       "      <td>1</td>\n",
       "      <td>1</td>\n",
       "      <td>0</td>\n",
       "    </tr>\n",
       "    <tr>\n",
       "      <th>...</th>\n",
       "      <td>...</td>\n",
       "      <td>...</td>\n",
       "      <td>...</td>\n",
       "      <td>...</td>\n",
       "      <td>...</td>\n",
       "      <td>...</td>\n",
       "      <td>...</td>\n",
       "      <td>...</td>\n",
       "      <td>...</td>\n",
       "      <td>...</td>\n",
       "      <td>...</td>\n",
       "      <td>...</td>\n",
       "      <td>...</td>\n",
       "      <td>...</td>\n",
       "      <td>...</td>\n",
       "      <td>...</td>\n",
       "      <td>...</td>\n",
       "      <td>...</td>\n",
       "      <td>...</td>\n",
       "      <td>...</td>\n",
       "      <td>...</td>\n",
       "    </tr>\n",
       "    <tr>\n",
       "      <th>4171</th>\n",
       "      <td>4171</td>\n",
       "      <td>3.931826</td>\n",
       "      <td>12.038736</td>\n",
       "      <td>0.000000</td>\n",
       "      <td>0.0</td>\n",
       "      <td>-0.419772</td>\n",
       "      <td>0.695862</td>\n",
       "      <td>0</td>\n",
       "      <td>1</td>\n",
       "      <td>0</td>\n",
       "      <td>...</td>\n",
       "      <td>0</td>\n",
       "      <td>1</td>\n",
       "      <td>0</td>\n",
       "      <td>0</td>\n",
       "      <td>0</td>\n",
       "      <td>0</td>\n",
       "      <td>0</td>\n",
       "      <td>1</td>\n",
       "      <td>1</td>\n",
       "      <td>0</td>\n",
       "    </tr>\n",
       "    <tr>\n",
       "      <th>599</th>\n",
       "      <td>599</td>\n",
       "      <td>3.912023</td>\n",
       "      <td>11.823757</td>\n",
       "      <td>0.000000</td>\n",
       "      <td>0.0</td>\n",
       "      <td>1.135322</td>\n",
       "      <td>0.370999</td>\n",
       "      <td>0</td>\n",
       "      <td>0</td>\n",
       "      <td>0</td>\n",
       "      <td>...</td>\n",
       "      <td>0</td>\n",
       "      <td>0</td>\n",
       "      <td>0</td>\n",
       "      <td>0</td>\n",
       "      <td>0</td>\n",
       "      <td>0</td>\n",
       "      <td>0</td>\n",
       "      <td>1</td>\n",
       "      <td>1</td>\n",
       "      <td>0</td>\n",
       "    </tr>\n",
       "    <tr>\n",
       "      <th>1361</th>\n",
       "      <td>1361</td>\n",
       "      <td>3.970292</td>\n",
       "      <td>11.893954</td>\n",
       "      <td>0.000000</td>\n",
       "      <td>0.0</td>\n",
       "      <td>-0.419772</td>\n",
       "      <td>-0.035080</td>\n",
       "      <td>0</td>\n",
       "      <td>0</td>\n",
       "      <td>0</td>\n",
       "      <td>...</td>\n",
       "      <td>0</td>\n",
       "      <td>0</td>\n",
       "      <td>0</td>\n",
       "      <td>0</td>\n",
       "      <td>0</td>\n",
       "      <td>0</td>\n",
       "      <td>0</td>\n",
       "      <td>1</td>\n",
       "      <td>0</td>\n",
       "      <td>1</td>\n",
       "    </tr>\n",
       "    <tr>\n",
       "      <th>1547</th>\n",
       "      <td>1547</td>\n",
       "      <td>3.663562</td>\n",
       "      <td>12.102616</td>\n",
       "      <td>0.000000</td>\n",
       "      <td>0.0</td>\n",
       "      <td>1.135322</td>\n",
       "      <td>-0.035080</td>\n",
       "      <td>0</td>\n",
       "      <td>0</td>\n",
       "      <td>0</td>\n",
       "      <td>...</td>\n",
       "      <td>0</td>\n",
       "      <td>0</td>\n",
       "      <td>0</td>\n",
       "      <td>0</td>\n",
       "      <td>0</td>\n",
       "      <td>0</td>\n",
       "      <td>0</td>\n",
       "      <td>1</td>\n",
       "      <td>0</td>\n",
       "      <td>1</td>\n",
       "    </tr>\n",
       "    <tr>\n",
       "      <th>4959</th>\n",
       "      <td>4959</td>\n",
       "      <td>4.110874</td>\n",
       "      <td>12.334171</td>\n",
       "      <td>0.000000</td>\n",
       "      <td>0.0</td>\n",
       "      <td>0.357775</td>\n",
       "      <td>-0.035080</td>\n",
       "      <td>0</td>\n",
       "      <td>0</td>\n",
       "      <td>0</td>\n",
       "      <td>...</td>\n",
       "      <td>0</td>\n",
       "      <td>0</td>\n",
       "      <td>0</td>\n",
       "      <td>0</td>\n",
       "      <td>0</td>\n",
       "      <td>0</td>\n",
       "      <td>0</td>\n",
       "      <td>1</td>\n",
       "      <td>0</td>\n",
       "      <td>1</td>\n",
       "    </tr>\n",
       "  </tbody>\n",
       "</table>\n",
       "<p>4000 rows × 65 columns</p>\n",
       "</div>"
      ],
      "text/plain": [
       "      Unnamed: 0       Age  Weighing_Factor  Gains_FA  Loss_FA  Schooling  \\\n",
       "3413        3413  3.555348        12.739465  8.895493      0.0   1.135322   \n",
       "1610        1610  4.077537        12.262207  0.000000      0.0  -0.808545   \n",
       "3459        3459  3.091042        12.784855  0.000000      0.0  -0.419772   \n",
       "4293        4293  3.526361        12.238119  0.000000      0.0  -0.030998   \n",
       "1039        1039  3.555348        12.009510  0.000000      0.0  -1.197318   \n",
       "...          ...       ...              ...       ...      ...        ...   \n",
       "4171        4171  3.931826        12.038736  0.000000      0.0  -0.419772   \n",
       "599          599  3.912023        11.823757  0.000000      0.0   1.135322   \n",
       "1361        1361  3.970292        11.893954  0.000000      0.0  -0.419772   \n",
       "1547        1547  3.663562        12.102616  0.000000      0.0   1.135322   \n",
       "4959        4959  4.110874        12.334171  0.000000      0.0   0.357775   \n",
       "\n",
       "      Working_Time  Employment_Type_ Federal-gov  Employment_Type_ Local-gov  \\\n",
       "3413      1.589234                             0                           0   \n",
       "1610      0.939509                             0                           0   \n",
       "3459     -0.035080                             0                           0   \n",
       "4293     -0.035080                             0                           0   \n",
       "1039     -2.633982                             0                           0   \n",
       "...            ...                           ...                         ...   \n",
       "4171      0.695862                             0                           1   \n",
       "599       0.370999                             0                           0   \n",
       "1361     -0.035080                             0                           0   \n",
       "1547     -0.035080                             0                           0   \n",
       "4959     -0.035080                             0                           0   \n",
       "\n",
       "      Employment_Type_ Never-worked  ...  Partnership_ Own-child  \\\n",
       "3413                              0  ...                       0   \n",
       "1610                              0  ...                       0   \n",
       "3459                              0  ...                       0   \n",
       "4293                              0  ...                       0   \n",
       "1039                              0  ...                       0   \n",
       "...                             ...  ...                     ...   \n",
       "4171                              0  ...                       0   \n",
       "599                               0  ...                       0   \n",
       "1361                              0  ...                       0   \n",
       "1547                              0  ...                       0   \n",
       "4959                              0  ...                       0   \n",
       "\n",
       "      Partnership_ Unmarried  Partnership_ Wife  \\\n",
       "3413                       0                  0   \n",
       "1610                       0                  0   \n",
       "3459                       1                  0   \n",
       "4293                       0                  0   \n",
       "1039                       0                  1   \n",
       "...                      ...                ...   \n",
       "4171                       1                  0   \n",
       "599                        0                  0   \n",
       "1361                       0                  0   \n",
       "1547                       0                  0   \n",
       "4959                       0                  0   \n",
       "\n",
       "      Ethnicity_ Amer-Indian-Eskimo  Ethnicity_ Asian-Pac-Islander  \\\n",
       "3413                              0                              0   \n",
       "1610                              0                              0   \n",
       "3459                              0                              0   \n",
       "4293                              0                              0   \n",
       "1039                              0                              0   \n",
       "...                             ...                            ...   \n",
       "4171                              0                              0   \n",
       "599                               0                              0   \n",
       "1361                              0                              0   \n",
       "1547                              0                              0   \n",
       "4959                              0                              0   \n",
       "\n",
       "      Ethnicity_ Black  Ethnicity_ Other  Ethnicity_ White  Gender_ Female  \\\n",
       "3413                 0                 0                 1               0   \n",
       "1610                 0                 0                 1               1   \n",
       "3459                 0                 0                 1               1   \n",
       "4293                 0                 0                 1               0   \n",
       "1039                 0                 0                 1               1   \n",
       "...                ...               ...               ...             ...   \n",
       "4171                 0                 0                 1               1   \n",
       "599                  0                 0                 1               1   \n",
       "1361                 0                 0                 1               0   \n",
       "1547                 0                 0                 1               0   \n",
       "4959                 0                 0                 1               0   \n",
       "\n",
       "      Gender_ Male  \n",
       "3413             1  \n",
       "1610             0  \n",
       "3459             0  \n",
       "4293             1  \n",
       "1039             0  \n",
       "...            ...  \n",
       "4171             0  \n",
       "599              0  \n",
       "1361             1  \n",
       "1547             1  \n",
       "4959             1  \n",
       "\n",
       "[4000 rows x 65 columns]"
      ]
     },
     "metadata": {},
     "output_type": "display_data"
    }
   ],
   "source": [
    "X_train"
   ]
  },
  {
   "attachments": {},
   "cell_type": "markdown",
   "metadata": {},
   "source": [
    "# k-Nearest Neighbors (KNN)"
   ]
  },
  {
   "cell_type": "code",
   "execution_count": 86,
   "metadata": {},
   "outputs": [],
   "source": [
    "from sklearn.neighbors import KNeighborsClassifier\n",
    "\n",
    "k = 2  # Specify the number of neighbors\n",
    "clf_KNN = KNeighborsClassifier(n_neighbors=k)"
   ]
  },
  {
   "cell_type": "code",
   "execution_count": 87,
   "metadata": {},
   "outputs": [
    {
     "data": {
      "text/plain": [
       "KNeighborsClassifier(n_neighbors=2)"
      ]
     },
     "execution_count": 87,
     "metadata": {},
     "output_type": "execute_result"
    }
   ],
   "source": [
    "clf_KNN.fit(X_train,y_train)"
   ]
  },
  {
   "cell_type": "code",
   "execution_count": 88,
   "metadata": {},
   "outputs": [
    {
     "name": "stdout",
     "output_type": "stream",
     "text": [
      "Accuracy Score : 80.4%\n",
      "Recall Score : 39.59%\n",
      "Precision Score : 66.9%\n",
      "F1 Score : 49.74%\n",
      "\n",
      "\n",
      "Confusion Matrix : \n",
      "[[707  48]\n",
      " [148  97]]\n"
     ]
    }
   ],
   "source": [
    "y_pred_KNN = clf_KNN.predict(X_test)\n",
    "evaulation(y_test,y_pred_KNN)"
   ]
  },
  {
   "cell_type": "code",
   "execution_count": 89,
   "metadata": {},
   "outputs": [],
   "source": [
    "y_pred_wo_income_KNN = clf_KNN.predict(X_pred)"
   ]
  },
  {
   "cell_type": "code",
   "execution_count": 90,
   "metadata": {},
   "outputs": [
    {
     "name": "stdout",
     "output_type": "stream",
     "text": [
      "Income\n",
      " <=50K    21153\n",
      " >50K      3847\n",
      "dtype: int64\n"
     ]
    },
    {
     "data": {
      "image/png": "[encoded data removed]",
      "text/plain": [
       "<Figure size 432x288 with 1 Axes>"
      ]
     },
     "metadata": {
      "needs_background": "light"
     },
     "output_type": "display_data"
    }
   ],
   "source": [
    "print(pd.DataFrame(y_pred_wo_income_KNN,columns=[\"Income\"]).replace({-1:\" <=50K\",1:\" >50K\"}).value_counts())\n",
    "sns.histplot(pd.DataFrame(y_pred_wo_income_KNN,columns=[\"Income\"]).replace({-1:\" <=50K\",1:\" >50K\"})[\"Income\"]);"
   ]
  },
  {
   "attachments": {},
   "cell_type": "markdown",
   "metadata": {},
   "source": [
    "# Neural Networks"
   ]
  }
 ],
 "metadata": {
  "kernelspec": {
   "display_name": "Python 3",
   "language": "python",
   "name": "python3"
  },
  "language_info": {
   "codemirror_mode": {
    "name": "ipython",
    "version": 3
   },
   "file_extension": ".py",
   "mimetype": "text/x-python",
   "name": "python",
   "nbconvert_exporter": "python",
   "pygments_lexer": "ipython3",
   "version": "3.9.5"
  },
  "orig_nbformat": 4
 },
 "nbformat": 4,
 "nbformat_minor": 2
}
