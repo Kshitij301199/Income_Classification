{
 "cells": [
  {
   "cell_type": "code",
   "execution_count": 159,
   "metadata": {},
   "outputs": [],
   "source": [
    "import numpy as np\n",
    "import pandas as pd\n",
    "import seaborn as sns\n",
    "import matplotlib.pyplot as plt"
   ]
  },
  {
   "cell_type": "code",
   "execution_count": 160,
   "metadata": {},
   "outputs": [
    {
     "data": {
      "text/html": [
       "<div>\n",
       "<style scoped>\n",
       "    .dataframe tbody tr th:only-of-type {\n",
       "        vertical-align: middle;\n",
       "    }\n",
       "\n",
       "    .dataframe tbody tr th {\n",
       "        vertical-align: top;\n",
       "    }\n",
       "\n",
       "    .dataframe thead th {\n",
       "        text-align: right;\n",
       "    }\n",
       "</style>\n",
       "<table border=\"1\" class=\"dataframe\">\n",
       "  <thead>\n",
       "    <tr style=\"text-align: right;\">\n",
       "      <th></th>\n",
       "      <th>Unnamed: 0</th>\n",
       "      <th>Age</th>\n",
       "      <th>Employment_Type</th>\n",
       "      <th>Weighing_Factor</th>\n",
       "      <th>Education_Level</th>\n",
       "      <th>Schooling</th>\n",
       "      <th>Marital_Status</th>\n",
       "      <th>Employment_Area</th>\n",
       "      <th>Partnership</th>\n",
       "      <th>Ethnicity</th>\n",
       "      <th>Gender</th>\n",
       "      <th>Gains_FA</th>\n",
       "      <th>Loss_FA</th>\n",
       "      <th>Working_Time</th>\n",
       "      <th>Country_of_Birth</th>\n",
       "      <th>Income</th>\n",
       "    </tr>\n",
       "  </thead>\n",
       "  <tbody>\n",
       "    <tr>\n",
       "      <th>0</th>\n",
       "      <td>0</td>\n",
       "      <td>3.688879</td>\n",
       "      <td>State-gov</td>\n",
       "      <td>11.258253</td>\n",
       "      <td>Bachelors</td>\n",
       "      <td>1.135322</td>\n",
       "      <td>Never-married</td>\n",
       "      <td>Adm-clerical</td>\n",
       "      <td>Not-in-family</td>\n",
       "      <td>White</td>\n",
       "      <td>Male</td>\n",
       "      <td>7.684784</td>\n",
       "      <td>0.0</td>\n",
       "      <td>-0.035080</td>\n",
       "      <td>United-States</td>\n",
       "      <td>&lt;=50K</td>\n",
       "    </tr>\n",
       "    <tr>\n",
       "      <th>1</th>\n",
       "      <td>1</td>\n",
       "      <td>3.931826</td>\n",
       "      <td>Self-emp-not-inc</td>\n",
       "      <td>11.330348</td>\n",
       "      <td>Bachelors</td>\n",
       "      <td>1.135322</td>\n",
       "      <td>Married-civ-spouse</td>\n",
       "      <td>Exec-managerial</td>\n",
       "      <td>Husband</td>\n",
       "      <td>White</td>\n",
       "      <td>Male</td>\n",
       "      <td>0.000000</td>\n",
       "      <td>0.0</td>\n",
       "      <td>-2.227904</td>\n",
       "      <td>United-States</td>\n",
       "      <td>&lt;=50K</td>\n",
       "    </tr>\n",
       "    <tr>\n",
       "      <th>2</th>\n",
       "      <td>2</td>\n",
       "      <td>3.663562</td>\n",
       "      <td>Private</td>\n",
       "      <td>12.281398</td>\n",
       "      <td>HS-grad</td>\n",
       "      <td>-0.419772</td>\n",
       "      <td>Divorced</td>\n",
       "      <td>Handlers-cleaners</td>\n",
       "      <td>Not-in-family</td>\n",
       "      <td>White</td>\n",
       "      <td>Male</td>\n",
       "      <td>0.000000</td>\n",
       "      <td>0.0</td>\n",
       "      <td>-0.035080</td>\n",
       "      <td>United-States</td>\n",
       "      <td>&lt;=50K</td>\n",
       "    </tr>\n",
       "    <tr>\n",
       "      <th>3</th>\n",
       "      <td>3</td>\n",
       "      <td>3.988984</td>\n",
       "      <td>Private</td>\n",
       "      <td>12.366157</td>\n",
       "      <td>11th</td>\n",
       "      <td>-1.197318</td>\n",
       "      <td>Married-civ-spouse</td>\n",
       "      <td>Handlers-cleaners</td>\n",
       "      <td>Husband</td>\n",
       "      <td>Black</td>\n",
       "      <td>Male</td>\n",
       "      <td>0.000000</td>\n",
       "      <td>0.0</td>\n",
       "      <td>-0.035080</td>\n",
       "      <td>United-States</td>\n",
       "      <td>&lt;=50K</td>\n",
       "    </tr>\n",
       "    <tr>\n",
       "      <th>4</th>\n",
       "      <td>4</td>\n",
       "      <td>3.367296</td>\n",
       "      <td>Private</td>\n",
       "      <td>12.732013</td>\n",
       "      <td>Bachelors</td>\n",
       "      <td>1.135322</td>\n",
       "      <td>Married-civ-spouse</td>\n",
       "      <td>Prof-specialty</td>\n",
       "      <td>Wife</td>\n",
       "      <td>Black</td>\n",
       "      <td>Female</td>\n",
       "      <td>0.000000</td>\n",
       "      <td>0.0</td>\n",
       "      <td>-0.035080</td>\n",
       "      <td>Cuba</td>\n",
       "      <td>&lt;=50K</td>\n",
       "    </tr>\n",
       "  </tbody>\n",
       "</table>\n",
       "</div>"
      ],
      "text/plain": [
       "   Unnamed: 0       Age    Employment_Type  Weighing_Factor Education_Level  \\\n",
       "0           0  3.688879          State-gov        11.258253       Bachelors   \n",
       "1           1  3.931826   Self-emp-not-inc        11.330348       Bachelors   \n",
       "2           2  3.663562            Private        12.281398         HS-grad   \n",
       "3           3  3.988984            Private        12.366157            11th   \n",
       "4           4  3.367296            Private        12.732013       Bachelors   \n",
       "\n",
       "   Schooling       Marital_Status     Employment_Area     Partnership  \\\n",
       "0   1.135322        Never-married        Adm-clerical   Not-in-family   \n",
       "1   1.135322   Married-civ-spouse     Exec-managerial         Husband   \n",
       "2  -0.419772             Divorced   Handlers-cleaners   Not-in-family   \n",
       "3  -1.197318   Married-civ-spouse   Handlers-cleaners         Husband   \n",
       "4   1.135322   Married-civ-spouse      Prof-specialty            Wife   \n",
       "\n",
       "  Ethnicity   Gender  Gains_FA  Loss_FA  Working_Time Country_of_Birth  Income  \n",
       "0     White     Male  7.684784      0.0     -0.035080    United-States   <=50K  \n",
       "1     White     Male  0.000000      0.0     -2.227904    United-States   <=50K  \n",
       "2     White     Male  0.000000      0.0     -0.035080    United-States   <=50K  \n",
       "3     Black     Male  0.000000      0.0     -0.035080    United-States   <=50K  \n",
       "4     Black   Female  0.000000      0.0     -0.035080             Cuba   <=50K  "
      ]
     },
     "execution_count": 160,
     "metadata": {},
     "output_type": "execute_result"
    }
   ],
   "source": [
    "data = pd.read_csv(\"./data/data.csv\")\n",
    "data.head()"
   ]
  },
  {
   "cell_type": "code",
   "execution_count": 161,
   "metadata": {},
   "outputs": [
    {
     "data": {
      "text/html": [
       "<div>\n",
       "<style scoped>\n",
       "    .dataframe tbody tr th:only-of-type {\n",
       "        vertical-align: middle;\n",
       "    }\n",
       "\n",
       "    .dataframe tbody tr th {\n",
       "        vertical-align: top;\n",
       "    }\n",
       "\n",
       "    .dataframe thead th {\n",
       "        text-align: right;\n",
       "    }\n",
       "</style>\n",
       "<table border=\"1\" class=\"dataframe\">\n",
       "  <thead>\n",
       "    <tr style=\"text-align: right;\">\n",
       "      <th></th>\n",
       "      <th>Unnamed: 0</th>\n",
       "      <th>Age</th>\n",
       "      <th>Weighing_Factor</th>\n",
       "      <th>Gains_FA</th>\n",
       "      <th>Loss_FA</th>\n",
       "      <th>Schooling</th>\n",
       "      <th>Working_Time</th>\n",
       "      <th>Employment_Type_ Federal-gov</th>\n",
       "      <th>Employment_Type_ Local-gov</th>\n",
       "      <th>Employment_Type_ Never-worked</th>\n",
       "      <th>...</th>\n",
       "      <th>Partnership_ Unmarried</th>\n",
       "      <th>Partnership_ Wife</th>\n",
       "      <th>Ethnicity_ Amer-Indian-Eskimo</th>\n",
       "      <th>Ethnicity_ Asian-Pac-Islander</th>\n",
       "      <th>Ethnicity_ Black</th>\n",
       "      <th>Ethnicity_ Other</th>\n",
       "      <th>Ethnicity_ White</th>\n",
       "      <th>Gender_ Female</th>\n",
       "      <th>Gender_ Male</th>\n",
       "      <th>Income</th>\n",
       "    </tr>\n",
       "  </thead>\n",
       "  <tbody>\n",
       "    <tr>\n",
       "      <th>0</th>\n",
       "      <td>0</td>\n",
       "      <td>3.688879</td>\n",
       "      <td>11.258253</td>\n",
       "      <td>7.684784</td>\n",
       "      <td>0.0</td>\n",
       "      <td>1.135322</td>\n",
       "      <td>-0.035080</td>\n",
       "      <td>0</td>\n",
       "      <td>0</td>\n",
       "      <td>0</td>\n",
       "      <td>...</td>\n",
       "      <td>0</td>\n",
       "      <td>0</td>\n",
       "      <td>0</td>\n",
       "      <td>0</td>\n",
       "      <td>0</td>\n",
       "      <td>0</td>\n",
       "      <td>1</td>\n",
       "      <td>0</td>\n",
       "      <td>1</td>\n",
       "      <td>-1.0</td>\n",
       "    </tr>\n",
       "    <tr>\n",
       "      <th>1</th>\n",
       "      <td>1</td>\n",
       "      <td>3.931826</td>\n",
       "      <td>11.330348</td>\n",
       "      <td>0.000000</td>\n",
       "      <td>0.0</td>\n",
       "      <td>1.135322</td>\n",
       "      <td>-2.227904</td>\n",
       "      <td>0</td>\n",
       "      <td>0</td>\n",
       "      <td>0</td>\n",
       "      <td>...</td>\n",
       "      <td>0</td>\n",
       "      <td>0</td>\n",
       "      <td>0</td>\n",
       "      <td>0</td>\n",
       "      <td>0</td>\n",
       "      <td>0</td>\n",
       "      <td>1</td>\n",
       "      <td>0</td>\n",
       "      <td>1</td>\n",
       "      <td>-1.0</td>\n",
       "    </tr>\n",
       "    <tr>\n",
       "      <th>2</th>\n",
       "      <td>2</td>\n",
       "      <td>3.663562</td>\n",
       "      <td>12.281398</td>\n",
       "      <td>0.000000</td>\n",
       "      <td>0.0</td>\n",
       "      <td>-0.419772</td>\n",
       "      <td>-0.035080</td>\n",
       "      <td>0</td>\n",
       "      <td>0</td>\n",
       "      <td>0</td>\n",
       "      <td>...</td>\n",
       "      <td>0</td>\n",
       "      <td>0</td>\n",
       "      <td>0</td>\n",
       "      <td>0</td>\n",
       "      <td>0</td>\n",
       "      <td>0</td>\n",
       "      <td>1</td>\n",
       "      <td>0</td>\n",
       "      <td>1</td>\n",
       "      <td>-1.0</td>\n",
       "    </tr>\n",
       "    <tr>\n",
       "      <th>3</th>\n",
       "      <td>3</td>\n",
       "      <td>3.988984</td>\n",
       "      <td>12.366157</td>\n",
       "      <td>0.000000</td>\n",
       "      <td>0.0</td>\n",
       "      <td>-1.197318</td>\n",
       "      <td>-0.035080</td>\n",
       "      <td>0</td>\n",
       "      <td>0</td>\n",
       "      <td>0</td>\n",
       "      <td>...</td>\n",
       "      <td>0</td>\n",
       "      <td>0</td>\n",
       "      <td>0</td>\n",
       "      <td>0</td>\n",
       "      <td>1</td>\n",
       "      <td>0</td>\n",
       "      <td>0</td>\n",
       "      <td>0</td>\n",
       "      <td>1</td>\n",
       "      <td>-1.0</td>\n",
       "    </tr>\n",
       "    <tr>\n",
       "      <th>4</th>\n",
       "      <td>4</td>\n",
       "      <td>3.367296</td>\n",
       "      <td>12.732013</td>\n",
       "      <td>0.000000</td>\n",
       "      <td>0.0</td>\n",
       "      <td>1.135322</td>\n",
       "      <td>-0.035080</td>\n",
       "      <td>0</td>\n",
       "      <td>0</td>\n",
       "      <td>0</td>\n",
       "      <td>...</td>\n",
       "      <td>0</td>\n",
       "      <td>1</td>\n",
       "      <td>0</td>\n",
       "      <td>0</td>\n",
       "      <td>1</td>\n",
       "      <td>0</td>\n",
       "      <td>0</td>\n",
       "      <td>1</td>\n",
       "      <td>0</td>\n",
       "      <td>-1.0</td>\n",
       "    </tr>\n",
       "  </tbody>\n",
       "</table>\n",
       "<p>5 rows × 66 columns</p>\n",
       "</div>"
      ],
      "text/plain": [
       "   Unnamed: 0       Age  Weighing_Factor  Gains_FA  Loss_FA  Schooling  \\\n",
       "0           0  3.688879        11.258253  7.684784      0.0   1.135322   \n",
       "1           1  3.931826        11.330348  0.000000      0.0   1.135322   \n",
       "2           2  3.663562        12.281398  0.000000      0.0  -0.419772   \n",
       "3           3  3.988984        12.366157  0.000000      0.0  -1.197318   \n",
       "4           4  3.367296        12.732013  0.000000      0.0   1.135322   \n",
       "\n",
       "   Working_Time  Employment_Type_ Federal-gov  Employment_Type_ Local-gov  \\\n",
       "0     -0.035080                             0                           0   \n",
       "1     -2.227904                             0                           0   \n",
       "2     -0.035080                             0                           0   \n",
       "3     -0.035080                             0                           0   \n",
       "4     -0.035080                             0                           0   \n",
       "\n",
       "   Employment_Type_ Never-worked  ...  Partnership_ Unmarried  \\\n",
       "0                              0  ...                       0   \n",
       "1                              0  ...                       0   \n",
       "2                              0  ...                       0   \n",
       "3                              0  ...                       0   \n",
       "4                              0  ...                       0   \n",
       "\n",
       "   Partnership_ Wife  Ethnicity_ Amer-Indian-Eskimo  \\\n",
       "0                  0                              0   \n",
       "1                  0                              0   \n",
       "2                  0                              0   \n",
       "3                  0                              0   \n",
       "4                  1                              0   \n",
       "\n",
       "   Ethnicity_ Asian-Pac-Islander  Ethnicity_ Black  Ethnicity_ Other  \\\n",
       "0                              0                 0                 0   \n",
       "1                              0                 0                 0   \n",
       "2                              0                 0                 0   \n",
       "3                              0                 1                 0   \n",
       "4                              0                 1                 0   \n",
       "\n",
       "   Ethnicity_ White  Gender_ Female  Gender_ Male  Income  \n",
       "0                 1               0             1    -1.0  \n",
       "1                 1               0             1    -1.0  \n",
       "2                 1               0             1    -1.0  \n",
       "3                 0               0             1    -1.0  \n",
       "4                 0               1             0    -1.0  \n",
       "\n",
       "[5 rows x 66 columns]"
      ]
     },
     "execution_count": 161,
     "metadata": {},
     "output_type": "execute_result"
    }
   ],
   "source": [
    "final_df_training = pd.read_csv(\"./data/final_df_training.csv\")\n",
    "final_df_training.head()"
   ]
  },
  {
   "cell_type": "code",
   "execution_count": 162,
   "metadata": {},
   "outputs": [
    {
     "data": {
      "text/html": [
       "<div>\n",
       "<style scoped>\n",
       "    .dataframe tbody tr th:only-of-type {\n",
       "        vertical-align: middle;\n",
       "    }\n",
       "\n",
       "    .dataframe tbody tr th {\n",
       "        vertical-align: top;\n",
       "    }\n",
       "\n",
       "    .dataframe thead th {\n",
       "        text-align: right;\n",
       "    }\n",
       "</style>\n",
       "<table border=\"1\" class=\"dataframe\">\n",
       "  <thead>\n",
       "    <tr style=\"text-align: right;\">\n",
       "      <th></th>\n",
       "      <th>Unnamed: 0</th>\n",
       "      <th>Age</th>\n",
       "      <th>Weighing_Factor</th>\n",
       "      <th>Gains_FA</th>\n",
       "      <th>Loss_FA</th>\n",
       "      <th>Schooling</th>\n",
       "      <th>Working_Time</th>\n",
       "      <th>Employment_Type_ Federal-gov</th>\n",
       "      <th>Employment_Type_ Local-gov</th>\n",
       "      <th>Employment_Type_ Never-worked</th>\n",
       "      <th>...</th>\n",
       "      <th>Partnership_ Unmarried</th>\n",
       "      <th>Partnership_ Wife</th>\n",
       "      <th>Ethnicity_ Amer-Indian-Eskimo</th>\n",
       "      <th>Ethnicity_ Asian-Pac-Islander</th>\n",
       "      <th>Ethnicity_ Black</th>\n",
       "      <th>Ethnicity_ Other</th>\n",
       "      <th>Ethnicity_ White</th>\n",
       "      <th>Gender_ Female</th>\n",
       "      <th>Gender_ Male</th>\n",
       "      <th>Income</th>\n",
       "    </tr>\n",
       "  </thead>\n",
       "  <tbody>\n",
       "    <tr>\n",
       "      <th>0</th>\n",
       "      <td>5000</td>\n",
       "      <td>3.871201</td>\n",
       "      <td>11.285121</td>\n",
       "      <td>10.233834</td>\n",
       "      <td>0.000000</td>\n",
       "      <td>1.912869</td>\n",
       "      <td>0.777077</td>\n",
       "      <td>0</td>\n",
       "      <td>0</td>\n",
       "      <td>0</td>\n",
       "      <td>...</td>\n",
       "      <td>0</td>\n",
       "      <td>0</td>\n",
       "      <td>0</td>\n",
       "      <td>0</td>\n",
       "      <td>0</td>\n",
       "      <td>0</td>\n",
       "      <td>1</td>\n",
       "      <td>0</td>\n",
       "      <td>1</td>\n",
       "      <td>NaN</td>\n",
       "    </tr>\n",
       "    <tr>\n",
       "      <th>1</th>\n",
       "      <td>5001</td>\n",
       "      <td>4.025352</td>\n",
       "      <td>11.928176</td>\n",
       "      <td>0.000000</td>\n",
       "      <td>7.372118</td>\n",
       "      <td>1.135322</td>\n",
       "      <td>-0.197511</td>\n",
       "      <td>0</td>\n",
       "      <td>0</td>\n",
       "      <td>0</td>\n",
       "      <td>...</td>\n",
       "      <td>0</td>\n",
       "      <td>0</td>\n",
       "      <td>0</td>\n",
       "      <td>0</td>\n",
       "      <td>0</td>\n",
       "      <td>0</td>\n",
       "      <td>1</td>\n",
       "      <td>1</td>\n",
       "      <td>0</td>\n",
       "      <td>NaN</td>\n",
       "    </tr>\n",
       "    <tr>\n",
       "      <th>2</th>\n",
       "      <td>5002</td>\n",
       "      <td>3.295837</td>\n",
       "      <td>11.795560</td>\n",
       "      <td>8.519989</td>\n",
       "      <td>0.000000</td>\n",
       "      <td>-0.419772</td>\n",
       "      <td>-0.035080</td>\n",
       "      <td>0</td>\n",
       "      <td>0</td>\n",
       "      <td>0</td>\n",
       "      <td>...</td>\n",
       "      <td>0</td>\n",
       "      <td>1</td>\n",
       "      <td>0</td>\n",
       "      <td>0</td>\n",
       "      <td>0</td>\n",
       "      <td>0</td>\n",
       "      <td>1</td>\n",
       "      <td>1</td>\n",
       "      <td>0</td>\n",
       "      <td>NaN</td>\n",
       "    </tr>\n",
       "    <tr>\n",
       "      <th>3</th>\n",
       "      <td>5003</td>\n",
       "      <td>3.367296</td>\n",
       "      <td>11.993343</td>\n",
       "      <td>0.000000</td>\n",
       "      <td>0.000000</td>\n",
       "      <td>-0.419772</td>\n",
       "      <td>-0.035080</td>\n",
       "      <td>0</td>\n",
       "      <td>0</td>\n",
       "      <td>0</td>\n",
       "      <td>...</td>\n",
       "      <td>1</td>\n",
       "      <td>0</td>\n",
       "      <td>0</td>\n",
       "      <td>0</td>\n",
       "      <td>0</td>\n",
       "      <td>0</td>\n",
       "      <td>1</td>\n",
       "      <td>1</td>\n",
       "      <td>0</td>\n",
       "      <td>NaN</td>\n",
       "    </tr>\n",
       "    <tr>\n",
       "      <th>4</th>\n",
       "      <td>5004</td>\n",
       "      <td>3.610918</td>\n",
       "      <td>11.040471</td>\n",
       "      <td>0.000000</td>\n",
       "      <td>0.000000</td>\n",
       "      <td>-0.419772</td>\n",
       "      <td>-0.035080</td>\n",
       "      <td>0</td>\n",
       "      <td>0</td>\n",
       "      <td>0</td>\n",
       "      <td>...</td>\n",
       "      <td>0</td>\n",
       "      <td>0</td>\n",
       "      <td>0</td>\n",
       "      <td>0</td>\n",
       "      <td>1</td>\n",
       "      <td>0</td>\n",
       "      <td>0</td>\n",
       "      <td>0</td>\n",
       "      <td>1</td>\n",
       "      <td>NaN</td>\n",
       "    </tr>\n",
       "  </tbody>\n",
       "</table>\n",
       "<p>5 rows × 66 columns</p>\n",
       "</div>"
      ],
      "text/plain": [
       "   Unnamed: 0       Age  Weighing_Factor   Gains_FA   Loss_FA  Schooling  \\\n",
       "0        5000  3.871201        11.285121  10.233834  0.000000   1.912869   \n",
       "1        5001  4.025352        11.928176   0.000000  7.372118   1.135322   \n",
       "2        5002  3.295837        11.795560   8.519989  0.000000  -0.419772   \n",
       "3        5003  3.367296        11.993343   0.000000  0.000000  -0.419772   \n",
       "4        5004  3.610918        11.040471   0.000000  0.000000  -0.419772   \n",
       "\n",
       "   Working_Time  Employment_Type_ Federal-gov  Employment_Type_ Local-gov  \\\n",
       "0      0.777077                             0                           0   \n",
       "1     -0.197511                             0                           0   \n",
       "2     -0.035080                             0                           0   \n",
       "3     -0.035080                             0                           0   \n",
       "4     -0.035080                             0                           0   \n",
       "\n",
       "   Employment_Type_ Never-worked  ...  Partnership_ Unmarried  \\\n",
       "0                              0  ...                       0   \n",
       "1                              0  ...                       0   \n",
       "2                              0  ...                       0   \n",
       "3                              0  ...                       1   \n",
       "4                              0  ...                       0   \n",
       "\n",
       "   Partnership_ Wife  Ethnicity_ Amer-Indian-Eskimo  \\\n",
       "0                  0                              0   \n",
       "1                  0                              0   \n",
       "2                  1                              0   \n",
       "3                  0                              0   \n",
       "4                  0                              0   \n",
       "\n",
       "   Ethnicity_ Asian-Pac-Islander  Ethnicity_ Black  Ethnicity_ Other  \\\n",
       "0                              0                 0                 0   \n",
       "1                              0                 0                 0   \n",
       "2                              0                 0                 0   \n",
       "3                              0                 0                 0   \n",
       "4                              0                 1                 0   \n",
       "\n",
       "   Ethnicity_ White  Gender_ Female  Gender_ Male  Income  \n",
       "0                 1               0             1     NaN  \n",
       "1                 1               1             0     NaN  \n",
       "2                 1               1             0     NaN  \n",
       "3                 1               1             0     NaN  \n",
       "4                 0               0             1     NaN  \n",
       "\n",
       "[5 rows x 66 columns]"
      ]
     },
     "execution_count": 162,
     "metadata": {},
     "output_type": "execute_result"
    }
   ],
   "source": [
    "final_df_prediction = pd.read_csv(\"./data/final_df_prediction.csv\")\n",
    "final_df_prediction.head()"
   ]
  },
  {
   "cell_type": "code",
   "execution_count": 163,
   "metadata": {},
   "outputs": [
    {
     "name": "stdout",
     "output_type": "stream",
     "text": [
      "30000\n",
      "5000\n",
      "25000\n"
     ]
    }
   ],
   "source": [
    "print(len(data))\n",
    "print(len(final_df_training))\n",
    "print(len(final_df_prediction))"
   ]
  },
  {
   "cell_type": "code",
   "execution_count": 164,
   "metadata": {},
   "outputs": [],
   "source": [
    "from sklearn.metrics import accuracy_score,recall_score,precision_score,f1_score,confusion_matrix\n",
    "\n",
    "def evaulation(test_y:np.ndarray,pred_y:np.ndarray):\n",
    "    from sklearn.metrics import accuracy_score,recall_score,precision_score,f1_score,confusion_matrix\n",
    "\n",
    "    print(f\"Accuracy Score : {np.round(accuracy_score(test_y,pred_y)*100,2)}%\")\n",
    "    print(f\"Recall Score : {np.round(recall_score(test_y,pred_y)*100,2)}%\")\n",
    "    print(f\"Precision Score : {np.round(precision_score(test_y,pred_y)*100,2)}%\")\n",
    "    print(f\"F1 Score : {np.round(f1_score(test_y,pred_y)*100,2)}%\")\n",
    "\n",
    "    print(\"\\n\")\n",
    "\n",
    "    cm = confusion_matrix(test_y, pred_y)\n",
    "\n",
    "    print(f\"Confusion Matrix : \\n{cm}\")\n",
    "\n",
    "    # return accuracy_score(test_y,pred_y)"
   ]
  },
  {
   "cell_type": "code",
   "execution_count": 165,
   "metadata": {},
   "outputs": [],
   "source": [
    "X = final_df_training.drop(columns=['Unnamed: 0','Income'],axis=1)\n",
    "y = final_df_training[\"Income\"]"
   ]
  },
  {
   "cell_type": "code",
   "execution_count": 166,
   "metadata": {},
   "outputs": [],
   "source": [
    "from sklearn.model_selection import train_test_split,GridSearchCV\n",
    "\n",
    "X_train,X_test,y_train,y_test = train_test_split(X,y,test_size=0.20,random_state=101,shuffle=True)\n",
    "X_pred = final_df_prediction.drop(columns=['Unnamed: 0','Income'],axis=1)"
   ]
  },
  {
   "cell_type": "code",
   "execution_count": 167,
   "metadata": {},
   "outputs": [
    {
     "data": {
      "text/html": [
       "<div>\n",
       "<style scoped>\n",
       "    .dataframe tbody tr th:only-of-type {\n",
       "        vertical-align: middle;\n",
       "    }\n",
       "\n",
       "    .dataframe tbody tr th {\n",
       "        vertical-align: top;\n",
       "    }\n",
       "\n",
       "    .dataframe thead th {\n",
       "        text-align: right;\n",
       "    }\n",
       "</style>\n",
       "<table border=\"1\" class=\"dataframe\">\n",
       "  <thead>\n",
       "    <tr style=\"text-align: right;\">\n",
       "      <th></th>\n",
       "      <th>Age</th>\n",
       "      <th>Weighing_Factor</th>\n",
       "      <th>Gains_FA</th>\n",
       "      <th>Loss_FA</th>\n",
       "      <th>Schooling</th>\n",
       "      <th>Working_Time</th>\n",
       "      <th>Employment_Type_ Federal-gov</th>\n",
       "      <th>Employment_Type_ Local-gov</th>\n",
       "      <th>Employment_Type_ Never-worked</th>\n",
       "      <th>Employment_Type_ Private</th>\n",
       "      <th>...</th>\n",
       "      <th>Partnership_ Own-child</th>\n",
       "      <th>Partnership_ Unmarried</th>\n",
       "      <th>Partnership_ Wife</th>\n",
       "      <th>Ethnicity_ Amer-Indian-Eskimo</th>\n",
       "      <th>Ethnicity_ Asian-Pac-Islander</th>\n",
       "      <th>Ethnicity_ Black</th>\n",
       "      <th>Ethnicity_ Other</th>\n",
       "      <th>Ethnicity_ White</th>\n",
       "      <th>Gender_ Female</th>\n",
       "      <th>Gender_ Male</th>\n",
       "    </tr>\n",
       "  </thead>\n",
       "  <tbody>\n",
       "    <tr>\n",
       "      <th>3413</th>\n",
       "      <td>3.555348</td>\n",
       "      <td>12.739465</td>\n",
       "      <td>8.895493</td>\n",
       "      <td>0.0</td>\n",
       "      <td>1.135322</td>\n",
       "      <td>1.589234</td>\n",
       "      <td>0</td>\n",
       "      <td>0</td>\n",
       "      <td>0</td>\n",
       "      <td>1</td>\n",
       "      <td>...</td>\n",
       "      <td>0</td>\n",
       "      <td>0</td>\n",
       "      <td>0</td>\n",
       "      <td>0</td>\n",
       "      <td>0</td>\n",
       "      <td>0</td>\n",
       "      <td>0</td>\n",
       "      <td>1</td>\n",
       "      <td>0</td>\n",
       "      <td>1</td>\n",
       "    </tr>\n",
       "    <tr>\n",
       "      <th>1610</th>\n",
       "      <td>4.077537</td>\n",
       "      <td>12.262207</td>\n",
       "      <td>0.000000</td>\n",
       "      <td>0.0</td>\n",
       "      <td>-0.808545</td>\n",
       "      <td>0.939509</td>\n",
       "      <td>0</td>\n",
       "      <td>0</td>\n",
       "      <td>0</td>\n",
       "      <td>0</td>\n",
       "      <td>...</td>\n",
       "      <td>0</td>\n",
       "      <td>0</td>\n",
       "      <td>0</td>\n",
       "      <td>0</td>\n",
       "      <td>0</td>\n",
       "      <td>0</td>\n",
       "      <td>0</td>\n",
       "      <td>1</td>\n",
       "      <td>1</td>\n",
       "      <td>0</td>\n",
       "    </tr>\n",
       "    <tr>\n",
       "      <th>3459</th>\n",
       "      <td>3.091042</td>\n",
       "      <td>12.784855</td>\n",
       "      <td>0.000000</td>\n",
       "      <td>0.0</td>\n",
       "      <td>-0.419772</td>\n",
       "      <td>-0.035080</td>\n",
       "      <td>0</td>\n",
       "      <td>0</td>\n",
       "      <td>0</td>\n",
       "      <td>0</td>\n",
       "      <td>...</td>\n",
       "      <td>0</td>\n",
       "      <td>1</td>\n",
       "      <td>0</td>\n",
       "      <td>0</td>\n",
       "      <td>0</td>\n",
       "      <td>0</td>\n",
       "      <td>0</td>\n",
       "      <td>1</td>\n",
       "      <td>1</td>\n",
       "      <td>0</td>\n",
       "    </tr>\n",
       "    <tr>\n",
       "      <th>4293</th>\n",
       "      <td>3.526361</td>\n",
       "      <td>12.238119</td>\n",
       "      <td>0.000000</td>\n",
       "      <td>0.0</td>\n",
       "      <td>-0.030998</td>\n",
       "      <td>-0.035080</td>\n",
       "      <td>0</td>\n",
       "      <td>0</td>\n",
       "      <td>0</td>\n",
       "      <td>1</td>\n",
       "      <td>...</td>\n",
       "      <td>0</td>\n",
       "      <td>0</td>\n",
       "      <td>0</td>\n",
       "      <td>0</td>\n",
       "      <td>0</td>\n",
       "      <td>0</td>\n",
       "      <td>0</td>\n",
       "      <td>1</td>\n",
       "      <td>0</td>\n",
       "      <td>1</td>\n",
       "    </tr>\n",
       "    <tr>\n",
       "      <th>1039</th>\n",
       "      <td>3.555348</td>\n",
       "      <td>12.009510</td>\n",
       "      <td>0.000000</td>\n",
       "      <td>0.0</td>\n",
       "      <td>-1.197318</td>\n",
       "      <td>-2.633982</td>\n",
       "      <td>0</td>\n",
       "      <td>0</td>\n",
       "      <td>0</td>\n",
       "      <td>0</td>\n",
       "      <td>...</td>\n",
       "      <td>0</td>\n",
       "      <td>0</td>\n",
       "      <td>1</td>\n",
       "      <td>0</td>\n",
       "      <td>0</td>\n",
       "      <td>0</td>\n",
       "      <td>0</td>\n",
       "      <td>1</td>\n",
       "      <td>1</td>\n",
       "      <td>0</td>\n",
       "    </tr>\n",
       "  </tbody>\n",
       "</table>\n",
       "<p>5 rows × 64 columns</p>\n",
       "</div>"
      ],
      "text/plain": [
       "           Age  Weighing_Factor  Gains_FA  Loss_FA  Schooling  Working_Time  \\\n",
       "3413  3.555348        12.739465  8.895493      0.0   1.135322      1.589234   \n",
       "1610  4.077537        12.262207  0.000000      0.0  -0.808545      0.939509   \n",
       "3459  3.091042        12.784855  0.000000      0.0  -0.419772     -0.035080   \n",
       "4293  3.526361        12.238119  0.000000      0.0  -0.030998     -0.035080   \n",
       "1039  3.555348        12.009510  0.000000      0.0  -1.197318     -2.633982   \n",
       "\n",
       "      Employment_Type_ Federal-gov  Employment_Type_ Local-gov  \\\n",
       "3413                             0                           0   \n",
       "1610                             0                           0   \n",
       "3459                             0                           0   \n",
       "4293                             0                           0   \n",
       "1039                             0                           0   \n",
       "\n",
       "      Employment_Type_ Never-worked  Employment_Type_ Private  ...  \\\n",
       "3413                              0                         1  ...   \n",
       "1610                              0                         0  ...   \n",
       "3459                              0                         0  ...   \n",
       "4293                              0                         1  ...   \n",
       "1039                              0                         0  ...   \n",
       "\n",
       "      Partnership_ Own-child  Partnership_ Unmarried  Partnership_ Wife  \\\n",
       "3413                       0                       0                  0   \n",
       "1610                       0                       0                  0   \n",
       "3459                       0                       1                  0   \n",
       "4293                       0                       0                  0   \n",
       "1039                       0                       0                  1   \n",
       "\n",
       "      Ethnicity_ Amer-Indian-Eskimo  Ethnicity_ Asian-Pac-Islander  \\\n",
       "3413                              0                              0   \n",
       "1610                              0                              0   \n",
       "3459                              0                              0   \n",
       "4293                              0                              0   \n",
       "1039                              0                              0   \n",
       "\n",
       "      Ethnicity_ Black  Ethnicity_ Other  Ethnicity_ White  Gender_ Female  \\\n",
       "3413                 0                 0                 1               0   \n",
       "1610                 0                 0                 1               1   \n",
       "3459                 0                 0                 1               1   \n",
       "4293                 0                 0                 1               0   \n",
       "1039                 0                 0                 1               1   \n",
       "\n",
       "      Gender_ Male  \n",
       "3413             1  \n",
       "1610             0  \n",
       "3459             0  \n",
       "4293             1  \n",
       "1039             0  \n",
       "\n",
       "[5 rows x 64 columns]"
      ]
     },
     "execution_count": 167,
     "metadata": {},
     "output_type": "execute_result"
    }
   ],
   "source": [
    "X_train[0:5]"
   ]
  },
  {
   "attachments": {},
   "cell_type": "markdown",
   "metadata": {},
   "source": [
    "# Logistic Regression"
   ]
  },
  {
   "cell_type": "code",
   "execution_count": 168,
   "metadata": {},
   "outputs": [],
   "source": [
    "from sklearn.linear_model import LogisticRegression\n",
    "\n",
    "LR = LogisticRegression()"
   ]
  },
  {
   "cell_type": "code",
   "execution_count": 169,
   "metadata": {},
   "outputs": [
    {
     "name": "stderr",
     "output_type": "stream",
     "text": [
      "c:\\Users\\kshit\\AppData\\Local\\Programs\\Python\\Python39\\lib\\site-packages\\sklearn\\linear_model\\_logistic.py:814: ConvergenceWarning: lbfgs failed to converge (status=1):\n",
      "STOP: TOTAL NO. of ITERATIONS REACHED LIMIT.\n",
      "\n",
      "Increase the number of iterations (max_iter) or scale the data as shown in:\n",
      "    https://scikit-learn.org/stable/modules/preprocessing.html\n",
      "Please also refer to the documentation for alternative solver options:\n",
      "    https://scikit-learn.org/stable/modules/linear_model.html#logistic-regression\n",
      "  n_iter_i = _check_optimize_result(\n"
     ]
    },
    {
     "data": {
      "text/plain": [
       "LogisticRegression()"
      ]
     },
     "execution_count": 169,
     "metadata": {},
     "output_type": "execute_result"
    }
   ],
   "source": [
    "LR.fit(X_train,y_train)"
   ]
  },
  {
   "cell_type": "code",
   "execution_count": 170,
   "metadata": {},
   "outputs": [
    {
     "name": "stdout",
     "output_type": "stream",
     "text": [
      "Accuracy Score : 84.4%\n",
      "Recall Score : 55.51%\n",
      "Precision Score : 74.32%\n",
      "F1 Score : 63.55%\n",
      "\n",
      "\n",
      "Confusion Matrix : \n",
      "[[708  47]\n",
      " [109 136]]\n"
     ]
    }
   ],
   "source": [
    "y_pred = LR.predict(X_test)\n",
    "evaulation(y_test,y_pred)"
   ]
  },
  {
   "cell_type": "code",
   "execution_count": 171,
   "metadata": {},
   "outputs": [],
   "source": [
    "y_pred_wo_income = LR.predict(X_pred)"
   ]
  },
  {
   "cell_type": "code",
   "execution_count": 172,
   "metadata": {},
   "outputs": [
    {
     "name": "stdout",
     "output_type": "stream",
     "text": [
      "Income\n",
      " <=50K    20075\n",
      " >50K      4925\n",
      "dtype: int64\n"
     ]
    },
    {
     "data": {
      "image/png": "[encoded data removed]",
      "text/plain": [
       "<Figure size 432x288 with 1 Axes>"
      ]
     },
     "metadata": {
      "needs_background": "light"
     },
     "output_type": "display_data"
    }
   ],
   "source": [
    "print(pd.DataFrame(y_pred_wo_income,columns=[\"Income\"]).replace({-1:\" <=50K\",1:\" >50K\"}).value_counts())\n",
    "sns.histplot(pd.DataFrame(y_pred_wo_income,columns=[\"Income\"]).replace({-1:\" <=50K\",1:\" >50K\"})[\"Income\"]);"
   ]
  },
  {
   "attachments": {},
   "cell_type": "markdown",
   "metadata": {},
   "source": [
    "## Tuning the LR model"
   ]
  },
  {
   "cell_type": "code",
   "execution_count": 179,
   "metadata": {},
   "outputs": [],
   "source": [
    "import warnings"
   ]
  },
  {
   "cell_type": "code",
   "execution_count": 178,
   "metadata": {},
   "outputs": [
    {
     "name": "stdout",
     "output_type": "stream",
     "text": [
      "Best Hyperparameters: {'C': 1.0, 'max_iter': 200, 'penalty': 'l2', 'solver': 'liblinear'}\n",
      "Best Score: 0.8414999999999999\n",
      "Accuracy Score : 84.1%\n",
      "Recall Score : 55.51%\n",
      "Precision Score : 73.12%\n",
      "F1 Score : 63.11%\n",
      "\n",
      "\n",
      "Confusion Matrix : \n",
      "[[705  50]\n",
      " [109 136]]\n"
     ]
    }
   ],
   "source": [
    "clf_LR = LogisticRegression()\n",
    "params_LR = {\n",
    "    'penalty': ['l1', 'l2', 'elasticnet'],\n",
    "    'C': [0.1, 1.0, 10.0],\n",
    "    'solver': ['lbfgs', 'liblinear', 'newton-cholesky', 'saga'],\n",
    "    'max_iter': [100,200,300,500]\n",
    "    # 'multi_class': ['auto', 'ovr', 'multinomial']\n",
    "}\n",
    "\n",
    "with warnings.catch_warnings():\n",
    "    warnings.filterwarnings(\"ignore\")\n",
    "    # Fit the classifier\n",
    "    \n",
    "    grid_search_LR = GridSearchCV(clf_LR,params_LR);\n",
    "    grid_search_LR.fit(X_train,y_train)\n",
    "\n",
    "print(\"Best Hyperparameters:\", grid_search_LR.best_params_)\n",
    "print(\"Best Score:\", grid_search_LR.best_score_)\n",
    "\n",
    "best_model_LR = grid_search_LR.best_estimator_\n",
    "\n",
    "y_pred_LR2 = best_model_LR.predict(X_test)\n",
    "evaulation(y_test,y_pred_LR2)"
   ]
  },
  {
   "cell_type": "code",
   "execution_count": 96,
   "metadata": {},
   "outputs": [
    {
     "name": "stdout",
     "output_type": "stream",
     "text": [
      "Accuracy Score : 84.4%\n",
      "Recall Score : 55.1%\n",
      "Precision Score : 74.59%\n",
      "F1 Score : 63.38%\n",
      "\n",
      "\n",
      "Confusion Matrix : \n",
      "[[709  46]\n",
      " [110 135]]\n"
     ]
    },
    {
     "name": "stderr",
     "output_type": "stream",
     "text": [
      "c:\\Users\\kshit\\AppData\\Local\\Programs\\Python\\Python39\\lib\\site-packages\\sklearn\\linear_model\\_sag.py:352: ConvergenceWarning: The max_iter was reached which means the coef_ did not converge\n",
      "  warnings.warn(\n"
     ]
    }
   ],
   "source": [
    "LR2 = LogisticRegression(penalty=\"l2\",solver=\"saga\",max_iter=500)\n",
    "LR2.fit(X_train,y_train)\n",
    "y_pred_LR2 = LR2.predict(X_test)\n",
    "evaulation(y_test,y_pred_LR2)"
   ]
  },
  {
   "attachments": {},
   "cell_type": "markdown",
   "metadata": {},
   "source": [
    "# Decision Trees\n"
   ]
  },
  {
   "cell_type": "code",
   "execution_count": 184,
   "metadata": {},
   "outputs": [
    {
     "name": "stdout",
     "output_type": "stream",
     "text": [
      "Accuracy Score : 80.4%\n",
      "Recall Score : 59.18%\n",
      "Precision Score : 60.17%\n",
      "F1 Score : 59.67%\n",
      "\n",
      "\n",
      "Confusion Matrix : \n",
      "[[659  96]\n",
      " [100 145]]\n"
     ]
    }
   ],
   "source": [
    "from sklearn.tree import DecisionTreeClassifier\n",
    "\n",
    "DT = DecisionTreeClassifier()\n",
    "\n",
    "DT.fit(X_train,y_train)\n",
    "\n",
    "y_pred_DT = DT.predict(X_test)\n",
    "evaulation(y_test,y_pred_DT)"
   ]
  },
  {
   "cell_type": "code",
   "execution_count": 185,
   "metadata": {},
   "outputs": [
    {
     "name": "stdout",
     "output_type": "stream",
     "text": [
      "Income\n",
      " <=50K    18890\n",
      " >50K      6110\n",
      "dtype: int64\n"
     ]
    },
    {
     "data": {
      "image/png": "[encoded data removed]",
      "text/plain": [
       "<Figure size 432x288 with 1 Axes>"
      ]
     },
     "metadata": {
      "needs_background": "light"
     },
     "output_type": "display_data"
    }
   ],
   "source": [
    "y_pred_wo_income_DT = DT.predict(X_pred)\n",
    "\n",
    "print(pd.DataFrame(y_pred_wo_income_DT,columns=[\"Income\"]).replace({-1:\" <=50K\",1:\" >50K\"}).value_counts())\n",
    "sns.histplot(pd.DataFrame(y_pred_wo_income_DT,columns=[\"Income\"]).replace({-1:\" <=50K\",1:\" >50K\"})[\"Income\"]);"
   ]
  },
  {
   "attachments": {},
   "cell_type": "markdown",
   "metadata": {},
   "source": [
    "## Tuning the DT model"
   ]
  },
  {
   "cell_type": "code",
   "execution_count": 186,
   "metadata": {},
   "outputs": [
    {
     "name": "stdout",
     "output_type": "stream",
     "text": [
      "Best Hyperparameters: {'criterion': 'gini', 'max_depth': 6, 'max_features': None, 'min_samples_leaf': 1, 'min_samples_split': 2, 'splitter': 'best'}\n",
      "Best Score: 0.84375\n",
      "Accuracy Score : 84.2%\n",
      "Recall Score : 52.24%\n",
      "Precision Score : 75.74%\n",
      "F1 Score : 61.84%\n",
      "\n",
      "\n",
      "Confusion Matrix : \n",
      "[[714  41]\n",
      " [117 128]]\n"
     ]
    }
   ],
   "source": [
    "clf_DT = DecisionTreeClassifier()\n",
    "\n",
    "params_DT = {\n",
    "    'max_depth': [3, 4, 5, 6, 7, 8, None],\n",
    "    'min_samples_split': [2, 3, 4],\n",
    "    'min_samples_leaf': [1, 2, 3],\n",
    "    'max_features': [None, 'sqrt', 'log2','auto'],\n",
    "    'criterion': ['gini', 'entropy'],\n",
    "    'splitter': ['best', 'random']\n",
    "}\n",
    "\n",
    "grid_search_DT = GridSearchCV(clf_DT,params_DT);\n",
    "grid_search_DT.fit(X_train,y_train)\n",
    "\n",
    "print(\"Best Hyperparameters:\", grid_search_DT.best_params_)\n",
    "print(\"Best Score:\", grid_search_DT.best_score_)\n",
    "\n",
    "best_model_DT = grid_search_DT.best_estimator_\n",
    "\n",
    "y_pred_DT2 = best_model_DT.predict(X_test)\n",
    "evaulation(y_test,y_pred_DT2)"
   ]
  },
  {
   "cell_type": "code",
   "execution_count": 187,
   "metadata": {},
   "outputs": [
    {
     "name": "stdout",
     "output_type": "stream",
     "text": [
      "Income\n",
      " <=50K    18890\n",
      " >50K      6110\n",
      "dtype: int64\n",
      "\n",
      "\n",
      "Income\n",
      " <=50K    20768\n",
      " >50K      4232\n",
      "dtype: int64\n"
     ]
    },
    {
     "data": {
      "image/png": "[encoded data removed]",
      "text/plain": [
       "<Figure size 432x288 with 1 Axes>"
      ]
     },
     "metadata": {
      "needs_background": "light"
     },
     "output_type": "display_data"
    }
   ],
   "source": [
    "y_pred_wo_income_DT2 = best_model_DT.predict(X_pred)\n",
    "\n",
    "print(pd.DataFrame(y_pred_wo_income_DT,columns=[\"Income\"]).replace({-1:\" <=50K\",1:\" >50K\"}).value_counts())\n",
    "print(\"\\n\")\n",
    "print(pd.DataFrame(y_pred_wo_income_DT2,columns=[\"Income\"]).replace({-1:\" <=50K\",1:\" >50K\"}).value_counts())\n",
    "sns.histplot(pd.DataFrame(y_pred_wo_income_DT,columns=[\"Income\"]).replace({-1:\" <=50K\",1:\" >50K\"})[\"Income\"],color=\"r\",label=\"Default Model\");\n",
    "sns.histplot(pd.DataFrame(y_pred_wo_income_DT2,columns=[\"Income\"]).replace({-1:\" <=50K\",1:\" >50K\"})[\"Income\"],color=\"b\",alpha=0.5,label=\"Tuned Model\");\n",
    "plt.legend(loc=\"best\");"
   ]
  },
  {
   "cell_type": "code",
   "execution_count": 149,
   "metadata": {},
   "outputs": [
    {
     "name": "stdout",
     "output_type": "stream",
     "text": [
      "Accuracy Score : 84.6%\n",
      "Recall Score : 53.06%\n",
      "Precision Score : 76.92%\n",
      "F1 Score : 62.8%\n",
      "\n",
      "\n",
      "Confusion Matrix : \n",
      "[[716  39]\n",
      " [115 130]]\n"
     ]
    }
   ],
   "source": [
    "# tuned_model = DecisionTreeClassifier(max_depth=7,min_samples_split=2,min_samples_leaf=2,max_features=None,criterion='gini')\n",
    "# tuned_model.fit(X_train,y_train)\n",
    "# evaulation(y_test,tuned_model.predict(X_test))"
   ]
  },
  {
   "attachments": {},
   "cell_type": "markdown",
   "metadata": {},
   "source": [
    "# Random Forest"
   ]
  },
  {
   "cell_type": "code",
   "execution_count": 188,
   "metadata": {},
   "outputs": [
    {
     "name": "stdout",
     "output_type": "stream",
     "text": [
      "Accuracy Score : 83.5%\n",
      "Recall Score : 58.37%\n",
      "Precision Score : 69.42%\n",
      "F1 Score : 63.41%\n",
      "\n",
      "\n",
      "Confusion Matrix : \n",
      "[[692  63]\n",
      " [102 143]]\n"
     ]
    }
   ],
   "source": [
    "from sklearn.ensemble import RandomForestClassifier\n",
    "\n",
    "RF = RandomForestClassifier()\n",
    "\n",
    "RF.fit(X_train,y_train)\n",
    "\n",
    "y_pred_RF = RF.predict(X_test)\n",
    "evaulation(y_test,y_pred_RF)"
   ]
  },
  {
   "cell_type": "code",
   "execution_count": 189,
   "metadata": {},
   "outputs": [
    {
     "name": "stdout",
     "output_type": "stream",
     "text": [
      "Income\n",
      " <=50K    19924\n",
      " >50K      5076\n",
      "dtype: int64\n"
     ]
    },
    {
     "data": {
      "image/png": "[encoded data removed]",
      "text/plain": [
       "<Figure size 432x288 with 1 Axes>"
      ]
     },
     "metadata": {
      "needs_background": "light"
     },
     "output_type": "display_data"
    }
   ],
   "source": [
    "y_pred_wo_income_RF = RF.predict(X_pred)\n",
    "\n",
    "print(pd.DataFrame(y_pred_wo_income_RF,columns=[\"Income\"]).replace({-1:\" <=50K\",1:\" >50K\"}).value_counts())\n",
    "sns.histplot(pd.DataFrame(y_pred_wo_income_RF,columns=[\"Income\"]).replace({-1:\" <=50K\",1:\" >50K\"})[\"Income\"]);"
   ]
  },
  {
   "attachments": {},
   "cell_type": "markdown",
   "metadata": {},
   "source": [
    "## Tuning RandomForest"
   ]
  },
  {
   "cell_type": "code",
   "execution_count": 191,
   "metadata": {},
   "outputs": [
    {
     "name": "stdout",
     "output_type": "stream",
     "text": [
      "Best Hyperparameters: {'criterion': 'gini', 'max_depth': None, 'max_features': 'sqrt', 'min_samples_leaf': 2, 'min_samples_split': 5, 'n_estimators': 50}\n",
      "Best Score: 0.85375\n",
      "Accuracy Score : 84.6%\n",
      "Recall Score : 57.55%\n",
      "Precision Score : 73.82%\n",
      "F1 Score : 64.68%\n",
      "\n",
      "\n",
      "Confusion Matrix : \n",
      "[[705  50]\n",
      " [104 141]]\n"
     ]
    }
   ],
   "source": [
    "clf_RF = RandomForestClassifier()\n",
    "params_RF = {\n",
    "    'n_estimators': [50,100,300],\n",
    "    'criterion': [\"gini\",\"entropy\"],\n",
    "    'max_depth': [3, 5, None],\n",
    "    'min_samples_split': [2, 5, 10],\n",
    "    'min_samples_leaf': [1, 2, 4],\n",
    "    'max_features': ['sqrt', 'log2']\n",
    "}\n",
    "\n",
    "grid_search_RF = GridSearchCV(clf_RF,params_RF)\n",
    "grid_search_RF.fit(X_train,y_train)\n",
    "\n",
    "print(\"Best Hyperparameters:\", grid_search_RF.best_params_)\n",
    "print(\"Best Score:\", grid_search_RF.best_score_)\n",
    "\n",
    "best_model_RF = grid_search_RF.best_estimator_\n",
    "\n",
    "y_pred_RF2 = best_model_RF.predict(X_test)\n",
    "evaulation(y_test,y_pred_RF2)"
   ]
  },
  {
   "cell_type": "code",
   "execution_count": 192,
   "metadata": {},
   "outputs": [
    {
     "name": "stdout",
     "output_type": "stream",
     "text": [
      "Income\n",
      " <=50K    19924\n",
      " >50K      5076\n",
      "dtype: int64\n",
      "\n",
      "\n",
      "Income\n",
      " <=50K    20153\n",
      " >50K      4847\n",
      "dtype: int64\n"
     ]
    },
    {
     "data": {
      "image/png": "[encoded data removed]",
      "text/plain": [
       "<Figure size 432x288 with 1 Axes>"
      ]
     },
     "metadata": {
      "needs_background": "light"
     },
     "output_type": "display_data"
    }
   ],
   "source": [
    "y_pred_wo_income_RF2 = best_model_RF.predict(X_pred)\n",
    "\n",
    "print(pd.DataFrame(y_pred_wo_income_RF,columns=[\"Income\"]).replace({-1:\" <=50K\",1:\" >50K\"}).value_counts())\n",
    "print(\"\\n\")\n",
    "print(pd.DataFrame(y_pred_wo_income_RF2,columns=[\"Income\"]).replace({-1:\" <=50K\",1:\" >50K\"}).value_counts())\n",
    "sns.histplot(pd.DataFrame(y_pred_wo_income_RF,columns=[\"Income\"]).replace({-1:\" <=50K\",1:\" >50K\"})[\"Income\"],color=\"r\",label=\"Default Model\");\n",
    "sns.histplot(pd.DataFrame(y_pred_wo_income_RF2,columns=[\"Income\"]).replace({-1:\" <=50K\",1:\" >50K\"})[\"Income\"],color=\"b\",alpha=0.5,label=\"Tuned Model\");\n",
    "plt.legend(loc=\"best\");"
   ]
  },
  {
   "attachments": {},
   "cell_type": "markdown",
   "metadata": {},
   "source": [
    "# SVM"
   ]
  },
  {
   "cell_type": "code",
   "execution_count": 195,
   "metadata": {},
   "outputs": [
    {
     "name": "stdout",
     "output_type": "stream",
     "text": [
      "Accuracy Score : 83.5%\n",
      "Recall Score : 48.57%\n",
      "Precision Score : 75.32%\n",
      "F1 Score : 59.06%\n",
      "\n",
      "\n",
      "Confusion Matrix : \n",
      "[[716  39]\n",
      " [126 119]]\n"
     ]
    }
   ],
   "source": [
    "from sklearn.svm import SVC\n",
    "\n",
    "SVM = SVC()\n",
    "SVM.fit(X_train,y_train)\n",
    "\n",
    "y_pred_SVM = SVM.predict(X_test)\n",
    "evaulation(y_test,y_pred_SVM)"
   ]
  },
  {
   "cell_type": "code",
   "execution_count": 202,
   "metadata": {},
   "outputs": [
    {
     "name": "stdout",
     "output_type": "stream",
     "text": [
      "Income\n",
      " <=50K    20711\n",
      " >50K      4289\n",
      "dtype: int64\n"
     ]
    },
    {
     "data": {
      "image/png": "[encoded data removed]",
      "text/plain": [
       "<Figure size 432x288 with 1 Axes>"
      ]
     },
     "metadata": {
      "needs_background": "light"
     },
     "output_type": "display_data"
    }
   ],
   "source": [
    "y_pred_wo_income_SVM = SVM.predict(X_pred)\n",
    "\n",
    "print(pd.DataFrame(y_pred_wo_income_SVM,columns=[\"Income\"]).replace({-1:\" <=50K\",1:\" >50K\"}).value_counts())\n",
    "sns.histplot(pd.DataFrame(y_pred_wo_income_SVM,columns=[\"Income\"]).replace({-1:\" <=50K\",1:\" >50K\"})[\"Income\"]);"
   ]
  },
  {
   "attachments": {},
   "cell_type": "markdown",
   "metadata": {},
   "source": [
    "## Tuning Support-Vector-Machine"
   ]
  },
  {
   "cell_type": "code",
   "execution_count": 201,
   "metadata": {},
   "outputs": [
    {
     "name": "stdout",
     "output_type": "stream",
     "text": [
      "Best Hyperparameters: {'C': 1, 'gamma': 'auto', 'kernel': 'poly'}\n",
      "Best Score: 0.84375\n",
      "Accuracy Score : 84.4%\n",
      "Recall Score : 54.29%\n",
      "Precision Score : 75.14%\n",
      "F1 Score : 63.03%\n",
      "\n",
      "\n",
      "Confusion Matrix : \n",
      "[[711  44]\n",
      " [112 133]]\n"
     ]
    }
   ],
   "source": [
    "clf_SVM = SVC()\n",
    "params_SVM = {\n",
    "    'kernel' : ['linear', 'poly', 'rbf', 'sigmoid'],\n",
    "    'C': [0.1,1,2,4],\n",
    "    'gamma': ['scale','auto'],\n",
    "}\n",
    "\n",
    "grid_search_SVM = GridSearchCV(clf_SVM, params_SVM)\n",
    "grid_search_SVM.fit(X_train,y_train)\n",
    "\n",
    "print(\"Best Hyperparameters:\", grid_search_SVM.best_params_)\n",
    "print(\"Best Score:\", grid_search_SVM.best_score_)\n",
    "\n",
    "best_model_SVM = grid_search_SVM.best_estimator_\n",
    "\n",
    "y_pred_SVM2 = best_model_SVM.predict(X_test)\n",
    "evaulation(y_test,y_pred_SVM2)"
   ]
  },
  {
   "cell_type": "code",
   "execution_count": 203,
   "metadata": {},
   "outputs": [
    {
     "name": "stdout",
     "output_type": "stream",
     "text": [
      "Income\n",
      " <=50K    20711\n",
      " >50K      4289\n",
      "dtype: int64\n",
      "\n",
      "\n",
      "Income\n",
      " <=50K    20415\n",
      " >50K      4585\n",
      "dtype: int64\n"
     ]
    },
    {
     "data": {
      "image/png": "[encoded data removed]",
      "text/plain": [
       "<Figure size 432x288 with 1 Axes>"
      ]
     },
     "metadata": {
      "needs_background": "light"
     },
     "output_type": "display_data"
    }
   ],
   "source": [
    "y_pred_wo_income_SVM2 = best_model_SVM.predict(X_pred)\n",
    "\n",
    "print(pd.DataFrame(y_pred_wo_income_SVM,columns=[\"Income\"]).replace({-1:\" <=50K\",1:\" >50K\"}).value_counts())\n",
    "print(\"\\n\")\n",
    "print(pd.DataFrame(y_pred_wo_income_SVM2,columns=[\"Income\"]).replace({-1:\" <=50K\",1:\" >50K\"}).value_counts())\n",
    "sns.histplot(pd.DataFrame(y_pred_wo_income_SVM,columns=[\"Income\"]).replace({-1:\" <=50K\",1:\" >50K\"})[\"Income\"],color=\"r\",label=\"Default Model\");\n",
    "sns.histplot(pd.DataFrame(y_pred_wo_income_SVM2,columns=[\"Income\"]).replace({-1:\" <=50K\",1:\" >50K\"})[\"Income\"],color=\"b\",alpha=0.5,label=\"Tuned Model\");\n",
    "plt.legend(loc=\"best\");"
   ]
  },
  {
   "attachments": {},
   "cell_type": "markdown",
   "metadata": {},
   "source": [
    "# k-Nearest Neighbors (KNN)"
   ]
  },
  {
   "cell_type": "code",
   "execution_count": 204,
   "metadata": {},
   "outputs": [
    {
     "name": "stdout",
     "output_type": "stream",
     "text": [
      "Accuracy Score : 80.4%\n",
      "Recall Score : 39.59%\n",
      "Precision Score : 66.9%\n",
      "F1 Score : 49.74%\n",
      "\n",
      "\n",
      "Confusion Matrix : \n",
      "[[707  48]\n",
      " [148  97]]\n"
     ]
    }
   ],
   "source": [
    "from sklearn.neighbors import KNeighborsClassifier\n",
    "\n",
    "k = 2  # Specify the number of neighbors\n",
    "KNN = KNeighborsClassifier(n_neighbors=k)\n",
    "KNN.fit(X_train,y_train)\n",
    "\n",
    "y_pred_KNN = KNN.predict(X_test)\n",
    "evaulation(y_test,y_pred_KNN)"
   ]
  },
  {
   "cell_type": "code",
   "execution_count": 205,
   "metadata": {},
   "outputs": [
    {
     "name": "stdout",
     "output_type": "stream",
     "text": [
      "Income\n",
      " <=50K    21153\n",
      " >50K      3847\n",
      "dtype: int64\n"
     ]
    },
    {
     "data": {
      "image/png": "[encoded data removed]",
      "text/plain": [
       "<Figure size 432x288 with 1 Axes>"
      ]
     },
     "metadata": {
      "needs_background": "light"
     },
     "output_type": "display_data"
    }
   ],
   "source": [
    "y_pred_wo_income_KNN = KNN.predict(X_pred)\n",
    "\n",
    "print(pd.DataFrame(y_pred_wo_income_KNN,columns=[\"Income\"]).replace({-1:\" <=50K\",1:\" >50K\"}).value_counts())\n",
    "sns.histplot(pd.DataFrame(y_pred_wo_income_KNN,columns=[\"Income\"]).replace({-1:\" <=50K\",1:\" >50K\"})[\"Income\"]);"
   ]
  },
  {
   "attachments": {},
   "cell_type": "markdown",
   "metadata": {},
   "source": [
    "## Tuning K-Nearest Neighbour"
   ]
  },
  {
   "cell_type": "code",
   "execution_count": 210,
   "metadata": {},
   "outputs": [
    {
     "name": "stdout",
     "output_type": "stream",
     "text": [
      "Best Hyperparameters: {'leaf_size': 3, 'n_neighbors': 40}\n",
      "Best Score: 0.8332499999999999\n",
      "Accuracy Score : 83.7%\n",
      "Recall Score : 51.84%\n",
      "Precision Score : 73.84%\n",
      "F1 Score : 60.91%\n",
      "\n",
      "\n",
      "Confusion Matrix : \n",
      "[[710  45]\n",
      " [118 127]]\n"
     ]
    }
   ],
   "source": [
    "clf_KNN = KNeighborsClassifier()\n",
    "params_KNN = {\n",
    "    'n_neighbors': [5,15,25,40,60],\n",
    "    # 'weights': ['uniform', 'distance'],\n",
    "    'leaf_size': [3,4,5,7,10,20,100],\n",
    "    # 'algorithm': ['auto', 'ball_tree', 'kd_tree', 'brute']\n",
    "}\n",
    "\n",
    "grid_search_KNN = GridSearchCV(clf_KNN, params_KNN)\n",
    "grid_search_KNN.fit(X_train,y_train)\n",
    "\n",
    "print(\"Best Hyperparameters:\", grid_search_KNN.best_params_)\n",
    "print(\"Best Score:\", grid_search_KNN.best_score_)\n",
    "\n",
    "best_model_KNN = grid_search_KNN.best_estimator_\n",
    "\n",
    "y_pred_KNN2 = best_model_KNN.predict(X_test)\n",
    "evaulation(y_test,y_pred_KNN2)"
   ]
  },
  {
   "cell_type": "code",
   "execution_count": 211,
   "metadata": {},
   "outputs": [
    {
     "name": "stdout",
     "output_type": "stream",
     "text": [
      "Income\n",
      " <=50K    21153\n",
      " >50K      3847\n",
      "dtype: int64\n",
      "\n",
      "\n",
      "Income\n",
      " <=50K    20199\n",
      " >50K      4801\n",
      "dtype: int64\n"
     ]
    },
    {
     "data": {
      "image/png": "[encoded data removed]",
      "text/plain": [
       "<Figure size 432x288 with 1 Axes>"
      ]
     },
     "metadata": {
      "needs_background": "light"
     },
     "output_type": "display_data"
    }
   ],
   "source": [
    "y_pred_wo_income_KNN2 = best_model_KNN.predict(X_pred)\n",
    "\n",
    "print(pd.DataFrame(y_pred_wo_income_KNN,columns=[\"Income\"]).replace({-1:\" <=50K\",1:\" >50K\"}).value_counts())\n",
    "print(\"\\n\")\n",
    "print(pd.DataFrame(y_pred_wo_income_KNN2,columns=[\"Income\"]).replace({-1:\" <=50K\",1:\" >50K\"}).value_counts())\n",
    "sns.histplot(pd.DataFrame(y_pred_wo_income_KNN,columns=[\"Income\"]).replace({-1:\" <=50K\",1:\" >50K\"})[\"Income\"],color=\"r\",label=\"Default Model\");\n",
    "sns.histplot(pd.DataFrame(y_pred_wo_income_KNN2,columns=[\"Income\"]).replace({-1:\" <=50K\",1:\" >50K\"})[\"Income\"],color=\"b\",alpha=0.5,label=\"Tuned Model\");\n",
    "plt.legend(loc=\"best\");"
   ]
  },
  {
   "attachments": {},
   "cell_type": "markdown",
   "metadata": {},
   "source": [
    "# Neural Network"
   ]
  },
  {
   "cell_type": "code",
   "execution_count": 212,
   "metadata": {},
   "outputs": [],
   "source": [
    "from keras.models import Sequential\n",
    "from keras.layers.core import Dense\n",
    "import tensorflow as tf\n",
    "from keras.layers.core import Activation"
   ]
  },
  {
   "cell_type": "code",
   "execution_count": 285,
   "metadata": {},
   "outputs": [],
   "source": [
    "X_train_nn = X_train.to_numpy()\n",
    "y_train_nn = tf.keras.utils.to_categorical(y_train.replace({-1:2,1:1}))"
   ]
  },
  {
   "cell_type": "code",
   "execution_count": 286,
   "metadata": {},
   "outputs": [
    {
     "data": {
      "text/plain": [
       "(4000, 64)"
      ]
     },
     "execution_count": 286,
     "metadata": {},
     "output_type": "execute_result"
    }
   ],
   "source": [
    "X_train_nn.shape"
   ]
  },
  {
   "cell_type": "code",
   "execution_count": 287,
   "metadata": {},
   "outputs": [
    {
     "data": {
      "text/plain": [
       "(4000, 3)"
      ]
     },
     "execution_count": 287,
     "metadata": {},
     "output_type": "execute_result"
    }
   ],
   "source": [
    "y_train_nn.shape"
   ]
  },
  {
   "cell_type": "code",
   "execution_count": 295,
   "metadata": {},
   "outputs": [],
   "source": [
    "model = Sequential()\n",
    "\n",
    "model.add(tf.keras.Input(X_train_nn.shape[1]))\n",
    "model.add(Dense(128,activation='relu',input_shape = (64,)))\n",
    "model.add(Dense(64,activation='softmax',input_shape = (128,)))\n",
    "model.add(Dense(3,activation=\"softmax\",input_shape = (64,)))\n",
    "\n",
    "model.compile(optimizer=\"adam\",loss=\"binary_crossentropy\",metrics=[tf.keras.metrics.CategoricalAccuracy()])"
   ]
  },
  {
   "cell_type": "code",
   "execution_count": 296,
   "metadata": {},
   "outputs": [
    {
     "name": "stdout",
     "output_type": "stream",
     "text": [
      "Model: \"sequential_9\"\n",
      "_________________________________________________________________\n",
      " Layer (type)                Output Shape              Param #   \n",
      "=================================================================\n",
      " dense_25 (Dense)            (None, 128)               8320      \n",
      "                                                                 \n",
      " dense_26 (Dense)            (None, 64)                8256      \n",
      "                                                                 \n",
      " dense_27 (Dense)            (None, 3)                 195       \n",
      "                                                                 \n",
      "=================================================================\n",
      "Total params: 16,771\n",
      "Trainable params: 16,771\n",
      "Non-trainable params: 0\n",
      "_________________________________________________________________\n"
     ]
    }
   ],
   "source": [
    "model.summary()"
   ]
  },
  {
   "cell_type": "code",
   "execution_count": 297,
   "metadata": {},
   "outputs": [
    {
     "name": "stdout",
     "output_type": "stream",
     "text": [
      "Epoch 1/25\n"
     ]
    },
    {
     "name": "stdout",
     "output_type": "stream",
     "text": [
      "800/800 [==============================] - 2s 2ms/step - loss: 0.4896 - categorical_accuracy: 0.7558\n",
      "Epoch 2/25\n",
      "800/800 [==============================] - 2s 2ms/step - loss: 0.3503 - categorical_accuracy: 0.7560\n",
      "Epoch 3/25\n",
      "800/800 [==============================] - 2s 2ms/step - loss: 0.2983 - categorical_accuracy: 0.8382\n",
      "Epoch 4/25\n",
      "800/800 [==============================] - 2s 2ms/step - loss: 0.2737 - categorical_accuracy: 0.8357\n",
      "Epoch 5/25\n",
      "800/800 [==============================] - 2s 2ms/step - loss: 0.2584 - categorical_accuracy: 0.8410\n",
      "Epoch 6/25\n",
      "800/800 [==============================] - 2s 2ms/step - loss: 0.2500 - categorical_accuracy: 0.8413\n",
      "Epoch 7/25\n",
      "800/800 [==============================] - 2s 2ms/step - loss: 0.2423 - categorical_accuracy: 0.8407\n",
      "Epoch 8/25\n",
      "800/800 [==============================] - 2s 2ms/step - loss: 0.2355 - categorical_accuracy: 0.8435\n",
      "Epoch 9/25\n",
      "800/800 [==============================] - 2s 2ms/step - loss: 0.2295 - categorical_accuracy: 0.8490\n",
      "Epoch 10/25\n",
      "800/800 [==============================] - 2s 2ms/step - loss: 0.2254 - categorical_accuracy: 0.8447\n",
      "Epoch 11/25\n",
      "800/800 [==============================] - 2s 2ms/step - loss: 0.2199 - categorical_accuracy: 0.8508\n",
      "Epoch 12/25\n",
      "800/800 [==============================] - 2s 2ms/step - loss: 0.2165 - categorical_accuracy: 0.8503\n",
      "Epoch 13/25\n",
      "800/800 [==============================] - 2s 2ms/step - loss: 0.2139 - categorical_accuracy: 0.8550\n",
      "Epoch 14/25\n",
      "800/800 [==============================] - 2s 2ms/step - loss: 0.2091 - categorical_accuracy: 0.8565\n",
      "Epoch 15/25\n",
      "800/800 [==============================] - 1s 2ms/step - loss: 0.2060 - categorical_accuracy: 0.8610\n",
      "Epoch 16/25\n",
      "800/800 [==============================] - 2s 2ms/step - loss: 0.2008 - categorical_accuracy: 0.8633\n",
      "Epoch 17/25\n",
      "800/800 [==============================] - 2s 2ms/step - loss: 0.1997 - categorical_accuracy: 0.8640\n",
      "Epoch 18/25\n",
      "800/800 [==============================] - 2s 2ms/step - loss: 0.1951 - categorical_accuracy: 0.8692\n",
      "Epoch 19/25\n",
      "800/800 [==============================] - 2s 2ms/step - loss: 0.1938 - categorical_accuracy: 0.8662\n",
      "Epoch 20/25\n",
      "800/800 [==============================] - 2s 2ms/step - loss: 0.1909 - categorical_accuracy: 0.8692\n",
      "Epoch 21/25\n",
      "800/800 [==============================] - 2s 2ms/step - loss: 0.1879 - categorical_accuracy: 0.8752\n",
      "Epoch 22/25\n",
      "800/800 [==============================] - 2s 2ms/step - loss: 0.1860 - categorical_accuracy: 0.8755\n",
      "Epoch 23/25\n",
      "800/800 [==============================] - 2s 2ms/step - loss: 0.1830 - categorical_accuracy: 0.8763\n",
      "Epoch 24/25\n",
      "800/800 [==============================] - 2s 3ms/step - loss: 0.1809 - categorical_accuracy: 0.8715\n",
      "Epoch 25/25\n",
      "800/800 [==============================] - 2s 2ms/step - loss: 0.1773 - categorical_accuracy: 0.8785\n"
     ]
    },
    {
     "data": {
      "text/plain": [
       "<keras.callbacks.History at 0x25a2a5a5790>"
      ]
     },
     "execution_count": 297,
     "metadata": {},
     "output_type": "execute_result"
    }
   ],
   "source": [
    "model.fit(X_train_nn,y_train_nn,epochs=25,batch_size=5)"
   ]
  },
  {
   "cell_type": "code",
   "execution_count": 298,
   "metadata": {},
   "outputs": [],
   "source": [
    "prediction = model.predict(X_test.to_numpy())"
   ]
  },
  {
   "cell_type": "code",
   "execution_count": 308,
   "metadata": {},
   "outputs": [],
   "source": [
    "from sklearn.metrics import classification_report"
   ]
  },
  {
   "cell_type": "code",
   "execution_count": 311,
   "metadata": {},
   "outputs": [],
   "source": [
    "y_test_nn = y_test.replace({-1:2,1:1}).to_numpy()"
   ]
  },
  {
   "cell_type": "code",
   "execution_count": 312,
   "metadata": {},
   "outputs": [
    {
     "name": "stdout",
     "output_type": "stream",
     "text": [
      "              precision    recall  f1-score   support\n",
      "\n",
      "         1.0       0.66      0.64      0.65       245\n",
      "         2.0       0.88      0.89      0.89       755\n",
      "\n",
      "    accuracy                           0.83      1000\n",
      "   macro avg       0.77      0.76      0.77      1000\n",
      "weighted avg       0.83      0.83      0.83      1000\n",
      "\n"
     ]
    }
   ],
   "source": [
    "print(classification_report(y_test_nn,np.argmax(prediction,axis=1)))"
   ]
  },
  {
   "cell_type": "code",
   "execution_count": 314,
   "metadata": {},
   "outputs": [
    {
     "data": {
      "text/plain": [
       "array([[1.4218349e-06, 9.8872161e-01, 1.1276908e-02],\n",
       "       [3.4529455e-07, 1.1614106e-03, 9.9883825e-01],\n",
       "       [5.1919678e-06, 8.6769068e-01, 1.3230415e-01],\n",
       "       ...,\n",
       "       [9.9589658e-07, 1.1097250e-02, 9.8890173e-01],\n",
       "       [1.3076503e-07, 1.8379489e-04, 9.9981612e-01],\n",
       "       [1.9230427e-07, 4.4242098e-04, 9.9955732e-01]], dtype=float32)"
      ]
     },
     "execution_count": 314,
     "metadata": {},
     "output_type": "execute_result"
    }
   ],
   "source": [
    "predict_incomes = model.predict(X_pred)\n",
    "predict_incomes"
   ]
  },
  {
   "cell_type": "code",
   "execution_count": 321,
   "metadata": {},
   "outputs": [],
   "source": [
    "val_counts = np.unique(np.argmax(predict_incomes,axis=1),return_counts=True)[1]"
   ]
  },
  {
   "cell_type": "code",
   "execution_count": 326,
   "metadata": {},
   "outputs": [
    {
     "data": {
      "text/plain": [
       "<AxesSubplot:ylabel='Count'>"
      ]
     },
     "execution_count": 326,
     "metadata": {},
     "output_type": "execute_result"
    },
    {
     "data": {
      "image/png": "[encoded data removed]",
      "text/plain": [
       "<Figure size 432x288 with 1 Axes>"
      ]
     },
     "metadata": {
      "needs_background": "light"
     },
     "output_type": "display_data"
    }
   ],
   "source": [
    "sns.histplot(np.argmax(predict_incomes,axis=1))"
   ]
  },
  {
   "cell_type": "code",
   "execution_count": 324,
   "metadata": {},
   "outputs": [
    {
     "data": {
      "text/plain": [
       "[6063, 18937]"
      ]
     },
     "execution_count": 324,
     "metadata": {},
     "output_type": "execute_result"
    }
   ],
   "source": [
    "val_counts.tolist()"
   ]
  },
  {
   "cell_type": "code",
   "execution_count": null,
   "metadata": {},
   "outputs": [],
   "source": []
  }
 ],
 "metadata": {
  "kernelspec": {
   "display_name": "Python 3",
   "language": "python",
   "name": "python3"
  },
  "language_info": {
   "codemirror_mode": {
    "name": "ipython",
    "version": 3
   },
   "file_extension": ".py",
   "mimetype": "text/x-python",
   "name": "python",
   "nbconvert_exporter": "python",
   "pygments_lexer": "ipython3",
   "version": "3.9.5"
  },
  "orig_nbformat": 4
 },
 "nbformat": 4,
 "nbformat_minor": 2
}
