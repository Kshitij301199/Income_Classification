{
 "cells": [
  {
   "cell_type": "code",
   "execution_count": 3,
   "metadata": {},
   "outputs": [],
   "source": [
    "import numpy as np\n",
    "import pandas as pd\n",
    "import seaborn as sns\n",
    "import matplotlib.pyplot as plt"
   ]
  },
  {
   "cell_type": "code",
   "execution_count": 4,
   "metadata": {},
   "outputs": [
    {
     "data": {
      "text/html": [
       "<div>\n",
       "<style scoped>\n",
       "    .dataframe tbody tr th:only-of-type {\n",
       "        vertical-align: middle;\n",
       "    }\n",
       "\n",
       "    .dataframe tbody tr th {\n",
       "        vertical-align: top;\n",
       "    }\n",
       "\n",
       "    .dataframe thead th {\n",
       "        text-align: right;\n",
       "    }\n",
       "</style>\n",
       "<table border=\"1\" class=\"dataframe\">\n",
       "  <thead>\n",
       "    <tr style=\"text-align: right;\">\n",
       "      <th></th>\n",
       "      <th>Unnamed: 0</th>\n",
       "      <th>Age</th>\n",
       "      <th>Employment_Type</th>\n",
       "      <th>Weighing_Factor</th>\n",
       "      <th>Education_Level</th>\n",
       "      <th>Schooling</th>\n",
       "      <th>Marital_Status</th>\n",
       "      <th>Employment_Area</th>\n",
       "      <th>Partnership</th>\n",
       "      <th>Ethnicity</th>\n",
       "      <th>Gender</th>\n",
       "      <th>Gains_FA</th>\n",
       "      <th>Loss_FA</th>\n",
       "      <th>Working_Time</th>\n",
       "      <th>Country_of_Birth</th>\n",
       "      <th>Income</th>\n",
       "    </tr>\n",
       "  </thead>\n",
       "  <tbody>\n",
       "    <tr>\n",
       "      <th>0</th>\n",
       "      <td>0</td>\n",
       "      <td>3.688879</td>\n",
       "      <td>State-gov</td>\n",
       "      <td>11.258253</td>\n",
       "      <td>Bachelors</td>\n",
       "      <td>1.135322</td>\n",
       "      <td>Never-married</td>\n",
       "      <td>Adm-clerical</td>\n",
       "      <td>Not-in-family</td>\n",
       "      <td>White</td>\n",
       "      <td>Male</td>\n",
       "      <td>7.684784</td>\n",
       "      <td>0.0</td>\n",
       "      <td>-0.035080</td>\n",
       "      <td>United-States</td>\n",
       "      <td>&lt;=50K</td>\n",
       "    </tr>\n",
       "    <tr>\n",
       "      <th>1</th>\n",
       "      <td>1</td>\n",
       "      <td>3.931826</td>\n",
       "      <td>Self-emp-not-inc</td>\n",
       "      <td>11.330348</td>\n",
       "      <td>Bachelors</td>\n",
       "      <td>1.135322</td>\n",
       "      <td>Married-civ-spouse</td>\n",
       "      <td>Exec-managerial</td>\n",
       "      <td>Husband</td>\n",
       "      <td>White</td>\n",
       "      <td>Male</td>\n",
       "      <td>0.000000</td>\n",
       "      <td>0.0</td>\n",
       "      <td>-2.227904</td>\n",
       "      <td>United-States</td>\n",
       "      <td>&lt;=50K</td>\n",
       "    </tr>\n",
       "    <tr>\n",
       "      <th>2</th>\n",
       "      <td>2</td>\n",
       "      <td>3.663562</td>\n",
       "      <td>Private</td>\n",
       "      <td>12.281398</td>\n",
       "      <td>HS-grad</td>\n",
       "      <td>-0.419772</td>\n",
       "      <td>Divorced</td>\n",
       "      <td>Handlers-cleaners</td>\n",
       "      <td>Not-in-family</td>\n",
       "      <td>White</td>\n",
       "      <td>Male</td>\n",
       "      <td>0.000000</td>\n",
       "      <td>0.0</td>\n",
       "      <td>-0.035080</td>\n",
       "      <td>United-States</td>\n",
       "      <td>&lt;=50K</td>\n",
       "    </tr>\n",
       "    <tr>\n",
       "      <th>3</th>\n",
       "      <td>3</td>\n",
       "      <td>3.988984</td>\n",
       "      <td>Private</td>\n",
       "      <td>12.366157</td>\n",
       "      <td>11th</td>\n",
       "      <td>-1.197318</td>\n",
       "      <td>Married-civ-spouse</td>\n",
       "      <td>Handlers-cleaners</td>\n",
       "      <td>Husband</td>\n",
       "      <td>Black</td>\n",
       "      <td>Male</td>\n",
       "      <td>0.000000</td>\n",
       "      <td>0.0</td>\n",
       "      <td>-0.035080</td>\n",
       "      <td>United-States</td>\n",
       "      <td>&lt;=50K</td>\n",
       "    </tr>\n",
       "    <tr>\n",
       "      <th>4</th>\n",
       "      <td>4</td>\n",
       "      <td>3.367296</td>\n",
       "      <td>Private</td>\n",
       "      <td>12.732013</td>\n",
       "      <td>Bachelors</td>\n",
       "      <td>1.135322</td>\n",
       "      <td>Married-civ-spouse</td>\n",
       "      <td>Prof-specialty</td>\n",
       "      <td>Wife</td>\n",
       "      <td>Black</td>\n",
       "      <td>Female</td>\n",
       "      <td>0.000000</td>\n",
       "      <td>0.0</td>\n",
       "      <td>-0.035080</td>\n",
       "      <td>Cuba</td>\n",
       "      <td>&lt;=50K</td>\n",
       "    </tr>\n",
       "  </tbody>\n",
       "</table>\n",
       "</div>"
      ],
      "text/plain": [
       "   Unnamed: 0       Age    Employment_Type  Weighing_Factor Education_Level  \\\n",
       "0           0  3.688879          State-gov        11.258253       Bachelors   \n",
       "1           1  3.931826   Self-emp-not-inc        11.330348       Bachelors   \n",
       "2           2  3.663562            Private        12.281398         HS-grad   \n",
       "3           3  3.988984            Private        12.366157            11th   \n",
       "4           4  3.367296            Private        12.732013       Bachelors   \n",
       "\n",
       "   Schooling       Marital_Status     Employment_Area     Partnership  \\\n",
       "0   1.135322        Never-married        Adm-clerical   Not-in-family   \n",
       "1   1.135322   Married-civ-spouse     Exec-managerial         Husband   \n",
       "2  -0.419772             Divorced   Handlers-cleaners   Not-in-family   \n",
       "3  -1.197318   Married-civ-spouse   Handlers-cleaners         Husband   \n",
       "4   1.135322   Married-civ-spouse      Prof-specialty            Wife   \n",
       "\n",
       "  Ethnicity   Gender  Gains_FA  Loss_FA  Working_Time Country_of_Birth  Income  \n",
       "0     White     Male  7.684784      0.0     -0.035080    United-States   <=50K  \n",
       "1     White     Male  0.000000      0.0     -2.227904    United-States   <=50K  \n",
       "2     White     Male  0.000000      0.0     -0.035080    United-States   <=50K  \n",
       "3     Black     Male  0.000000      0.0     -0.035080    United-States   <=50K  \n",
       "4     Black   Female  0.000000      0.0     -0.035080             Cuba   <=50K  "
      ]
     },
     "execution_count": 4,
     "metadata": {},
     "output_type": "execute_result"
    }
   ],
   "source": [
    "data = pd.read_csv(\"./data/data.csv\")\n",
    "data.head()"
   ]
  },
  {
   "cell_type": "code",
   "execution_count": 5,
   "metadata": {},
   "outputs": [
    {
     "data": {
      "text/html": [
       "<div>\n",
       "<style scoped>\n",
       "    .dataframe tbody tr th:only-of-type {\n",
       "        vertical-align: middle;\n",
       "    }\n",
       "\n",
       "    .dataframe tbody tr th {\n",
       "        vertical-align: top;\n",
       "    }\n",
       "\n",
       "    .dataframe thead th {\n",
       "        text-align: right;\n",
       "    }\n",
       "</style>\n",
       "<table border=\"1\" class=\"dataframe\">\n",
       "  <thead>\n",
       "    <tr style=\"text-align: right;\">\n",
       "      <th></th>\n",
       "      <th>Unnamed: 0</th>\n",
       "      <th>Age</th>\n",
       "      <th>Weighing_Factor</th>\n",
       "      <th>Gains_FA</th>\n",
       "      <th>Loss_FA</th>\n",
       "      <th>Schooling</th>\n",
       "      <th>Working_Time</th>\n",
       "      <th>Employment_Type_ Federal-gov</th>\n",
       "      <th>Employment_Type_ Local-gov</th>\n",
       "      <th>Employment_Type_ Never-worked</th>\n",
       "      <th>...</th>\n",
       "      <th>Partnership_ Unmarried</th>\n",
       "      <th>Partnership_ Wife</th>\n",
       "      <th>Ethnicity_ Amer-Indian-Eskimo</th>\n",
       "      <th>Ethnicity_ Asian-Pac-Islander</th>\n",
       "      <th>Ethnicity_ Black</th>\n",
       "      <th>Ethnicity_ Other</th>\n",
       "      <th>Ethnicity_ White</th>\n",
       "      <th>Gender_ Female</th>\n",
       "      <th>Gender_ Male</th>\n",
       "      <th>Income</th>\n",
       "    </tr>\n",
       "  </thead>\n",
       "  <tbody>\n",
       "    <tr>\n",
       "      <th>0</th>\n",
       "      <td>0</td>\n",
       "      <td>3.688879</td>\n",
       "      <td>11.258253</td>\n",
       "      <td>7.684784</td>\n",
       "      <td>0.0</td>\n",
       "      <td>1.135322</td>\n",
       "      <td>-0.035080</td>\n",
       "      <td>0</td>\n",
       "      <td>0</td>\n",
       "      <td>0</td>\n",
       "      <td>...</td>\n",
       "      <td>0</td>\n",
       "      <td>0</td>\n",
       "      <td>0</td>\n",
       "      <td>0</td>\n",
       "      <td>0</td>\n",
       "      <td>0</td>\n",
       "      <td>1</td>\n",
       "      <td>0</td>\n",
       "      <td>1</td>\n",
       "      <td>-1.0</td>\n",
       "    </tr>\n",
       "    <tr>\n",
       "      <th>1</th>\n",
       "      <td>1</td>\n",
       "      <td>3.931826</td>\n",
       "      <td>11.330348</td>\n",
       "      <td>0.000000</td>\n",
       "      <td>0.0</td>\n",
       "      <td>1.135322</td>\n",
       "      <td>-2.227904</td>\n",
       "      <td>0</td>\n",
       "      <td>0</td>\n",
       "      <td>0</td>\n",
       "      <td>...</td>\n",
       "      <td>0</td>\n",
       "      <td>0</td>\n",
       "      <td>0</td>\n",
       "      <td>0</td>\n",
       "      <td>0</td>\n",
       "      <td>0</td>\n",
       "      <td>1</td>\n",
       "      <td>0</td>\n",
       "      <td>1</td>\n",
       "      <td>-1.0</td>\n",
       "    </tr>\n",
       "    <tr>\n",
       "      <th>2</th>\n",
       "      <td>2</td>\n",
       "      <td>3.663562</td>\n",
       "      <td>12.281398</td>\n",
       "      <td>0.000000</td>\n",
       "      <td>0.0</td>\n",
       "      <td>-0.419772</td>\n",
       "      <td>-0.035080</td>\n",
       "      <td>0</td>\n",
       "      <td>0</td>\n",
       "      <td>0</td>\n",
       "      <td>...</td>\n",
       "      <td>0</td>\n",
       "      <td>0</td>\n",
       "      <td>0</td>\n",
       "      <td>0</td>\n",
       "      <td>0</td>\n",
       "      <td>0</td>\n",
       "      <td>1</td>\n",
       "      <td>0</td>\n",
       "      <td>1</td>\n",
       "      <td>-1.0</td>\n",
       "    </tr>\n",
       "    <tr>\n",
       "      <th>3</th>\n",
       "      <td>3</td>\n",
       "      <td>3.988984</td>\n",
       "      <td>12.366157</td>\n",
       "      <td>0.000000</td>\n",
       "      <td>0.0</td>\n",
       "      <td>-1.197318</td>\n",
       "      <td>-0.035080</td>\n",
       "      <td>0</td>\n",
       "      <td>0</td>\n",
       "      <td>0</td>\n",
       "      <td>...</td>\n",
       "      <td>0</td>\n",
       "      <td>0</td>\n",
       "      <td>0</td>\n",
       "      <td>0</td>\n",
       "      <td>1</td>\n",
       "      <td>0</td>\n",
       "      <td>0</td>\n",
       "      <td>0</td>\n",
       "      <td>1</td>\n",
       "      <td>-1.0</td>\n",
       "    </tr>\n",
       "    <tr>\n",
       "      <th>4</th>\n",
       "      <td>4</td>\n",
       "      <td>3.367296</td>\n",
       "      <td>12.732013</td>\n",
       "      <td>0.000000</td>\n",
       "      <td>0.0</td>\n",
       "      <td>1.135322</td>\n",
       "      <td>-0.035080</td>\n",
       "      <td>0</td>\n",
       "      <td>0</td>\n",
       "      <td>0</td>\n",
       "      <td>...</td>\n",
       "      <td>0</td>\n",
       "      <td>1</td>\n",
       "      <td>0</td>\n",
       "      <td>0</td>\n",
       "      <td>1</td>\n",
       "      <td>0</td>\n",
       "      <td>0</td>\n",
       "      <td>1</td>\n",
       "      <td>0</td>\n",
       "      <td>-1.0</td>\n",
       "    </tr>\n",
       "  </tbody>\n",
       "</table>\n",
       "<p>5 rows × 66 columns</p>\n",
       "</div>"
      ],
      "text/plain": [
       "   Unnamed: 0       Age  Weighing_Factor  Gains_FA  Loss_FA  Schooling  \\\n",
       "0           0  3.688879        11.258253  7.684784      0.0   1.135322   \n",
       "1           1  3.931826        11.330348  0.000000      0.0   1.135322   \n",
       "2           2  3.663562        12.281398  0.000000      0.0  -0.419772   \n",
       "3           3  3.988984        12.366157  0.000000      0.0  -1.197318   \n",
       "4           4  3.367296        12.732013  0.000000      0.0   1.135322   \n",
       "\n",
       "   Working_Time  Employment_Type_ Federal-gov  Employment_Type_ Local-gov  \\\n",
       "0     -0.035080                             0                           0   \n",
       "1     -2.227904                             0                           0   \n",
       "2     -0.035080                             0                           0   \n",
       "3     -0.035080                             0                           0   \n",
       "4     -0.035080                             0                           0   \n",
       "\n",
       "   Employment_Type_ Never-worked  ...  Partnership_ Unmarried  \\\n",
       "0                              0  ...                       0   \n",
       "1                              0  ...                       0   \n",
       "2                              0  ...                       0   \n",
       "3                              0  ...                       0   \n",
       "4                              0  ...                       0   \n",
       "\n",
       "   Partnership_ Wife  Ethnicity_ Amer-Indian-Eskimo  \\\n",
       "0                  0                              0   \n",
       "1                  0                              0   \n",
       "2                  0                              0   \n",
       "3                  0                              0   \n",
       "4                  1                              0   \n",
       "\n",
       "   Ethnicity_ Asian-Pac-Islander  Ethnicity_ Black  Ethnicity_ Other  \\\n",
       "0                              0                 0                 0   \n",
       "1                              0                 0                 0   \n",
       "2                              0                 0                 0   \n",
       "3                              0                 1                 0   \n",
       "4                              0                 1                 0   \n",
       "\n",
       "   Ethnicity_ White  Gender_ Female  Gender_ Male  Income  \n",
       "0                 1               0             1    -1.0  \n",
       "1                 1               0             1    -1.0  \n",
       "2                 1               0             1    -1.0  \n",
       "3                 0               0             1    -1.0  \n",
       "4                 0               1             0    -1.0  \n",
       "\n",
       "[5 rows x 66 columns]"
      ]
     },
     "execution_count": 5,
     "metadata": {},
     "output_type": "execute_result"
    }
   ],
   "source": [
    "final_df_training = pd.read_csv(\"./data/final_df_training.csv\")\n",
    "final_df_training.head()"
   ]
  },
  {
   "cell_type": "code",
   "execution_count": 6,
   "metadata": {},
   "outputs": [
    {
     "data": {
      "text/html": [
       "<div>\n",
       "<style scoped>\n",
       "    .dataframe tbody tr th:only-of-type {\n",
       "        vertical-align: middle;\n",
       "    }\n",
       "\n",
       "    .dataframe tbody tr th {\n",
       "        vertical-align: top;\n",
       "    }\n",
       "\n",
       "    .dataframe thead th {\n",
       "        text-align: right;\n",
       "    }\n",
       "</style>\n",
       "<table border=\"1\" class=\"dataframe\">\n",
       "  <thead>\n",
       "    <tr style=\"text-align: right;\">\n",
       "      <th></th>\n",
       "      <th>Unnamed: 0</th>\n",
       "      <th>Age</th>\n",
       "      <th>Weighing_Factor</th>\n",
       "      <th>Gains_FA</th>\n",
       "      <th>Loss_FA</th>\n",
       "      <th>Schooling</th>\n",
       "      <th>Working_Time</th>\n",
       "      <th>Employment_Type_ Federal-gov</th>\n",
       "      <th>Employment_Type_ Local-gov</th>\n",
       "      <th>Employment_Type_ Never-worked</th>\n",
       "      <th>...</th>\n",
       "      <th>Partnership_ Unmarried</th>\n",
       "      <th>Partnership_ Wife</th>\n",
       "      <th>Ethnicity_ Amer-Indian-Eskimo</th>\n",
       "      <th>Ethnicity_ Asian-Pac-Islander</th>\n",
       "      <th>Ethnicity_ Black</th>\n",
       "      <th>Ethnicity_ Other</th>\n",
       "      <th>Ethnicity_ White</th>\n",
       "      <th>Gender_ Female</th>\n",
       "      <th>Gender_ Male</th>\n",
       "      <th>Income</th>\n",
       "    </tr>\n",
       "  </thead>\n",
       "  <tbody>\n",
       "    <tr>\n",
       "      <th>0</th>\n",
       "      <td>5000</td>\n",
       "      <td>3.871201</td>\n",
       "      <td>11.285121</td>\n",
       "      <td>10.233834</td>\n",
       "      <td>0.000000</td>\n",
       "      <td>1.912869</td>\n",
       "      <td>0.777077</td>\n",
       "      <td>0</td>\n",
       "      <td>0</td>\n",
       "      <td>0</td>\n",
       "      <td>...</td>\n",
       "      <td>0</td>\n",
       "      <td>0</td>\n",
       "      <td>0</td>\n",
       "      <td>0</td>\n",
       "      <td>0</td>\n",
       "      <td>0</td>\n",
       "      <td>1</td>\n",
       "      <td>0</td>\n",
       "      <td>1</td>\n",
       "      <td>NaN</td>\n",
       "    </tr>\n",
       "    <tr>\n",
       "      <th>1</th>\n",
       "      <td>5001</td>\n",
       "      <td>4.025352</td>\n",
       "      <td>11.928176</td>\n",
       "      <td>0.000000</td>\n",
       "      <td>7.372118</td>\n",
       "      <td>1.135322</td>\n",
       "      <td>-0.197511</td>\n",
       "      <td>0</td>\n",
       "      <td>0</td>\n",
       "      <td>0</td>\n",
       "      <td>...</td>\n",
       "      <td>0</td>\n",
       "      <td>0</td>\n",
       "      <td>0</td>\n",
       "      <td>0</td>\n",
       "      <td>0</td>\n",
       "      <td>0</td>\n",
       "      <td>1</td>\n",
       "      <td>1</td>\n",
       "      <td>0</td>\n",
       "      <td>NaN</td>\n",
       "    </tr>\n",
       "    <tr>\n",
       "      <th>2</th>\n",
       "      <td>5002</td>\n",
       "      <td>3.295837</td>\n",
       "      <td>11.795560</td>\n",
       "      <td>8.519989</td>\n",
       "      <td>0.000000</td>\n",
       "      <td>-0.419772</td>\n",
       "      <td>-0.035080</td>\n",
       "      <td>0</td>\n",
       "      <td>0</td>\n",
       "      <td>0</td>\n",
       "      <td>...</td>\n",
       "      <td>0</td>\n",
       "      <td>1</td>\n",
       "      <td>0</td>\n",
       "      <td>0</td>\n",
       "      <td>0</td>\n",
       "      <td>0</td>\n",
       "      <td>1</td>\n",
       "      <td>1</td>\n",
       "      <td>0</td>\n",
       "      <td>NaN</td>\n",
       "    </tr>\n",
       "    <tr>\n",
       "      <th>3</th>\n",
       "      <td>5003</td>\n",
       "      <td>3.367296</td>\n",
       "      <td>11.993343</td>\n",
       "      <td>0.000000</td>\n",
       "      <td>0.000000</td>\n",
       "      <td>-0.419772</td>\n",
       "      <td>-0.035080</td>\n",
       "      <td>0</td>\n",
       "      <td>0</td>\n",
       "      <td>0</td>\n",
       "      <td>...</td>\n",
       "      <td>1</td>\n",
       "      <td>0</td>\n",
       "      <td>0</td>\n",
       "      <td>0</td>\n",
       "      <td>0</td>\n",
       "      <td>0</td>\n",
       "      <td>1</td>\n",
       "      <td>1</td>\n",
       "      <td>0</td>\n",
       "      <td>NaN</td>\n",
       "    </tr>\n",
       "    <tr>\n",
       "      <th>4</th>\n",
       "      <td>5004</td>\n",
       "      <td>3.610918</td>\n",
       "      <td>11.040471</td>\n",
       "      <td>0.000000</td>\n",
       "      <td>0.000000</td>\n",
       "      <td>-0.419772</td>\n",
       "      <td>-0.035080</td>\n",
       "      <td>0</td>\n",
       "      <td>0</td>\n",
       "      <td>0</td>\n",
       "      <td>...</td>\n",
       "      <td>0</td>\n",
       "      <td>0</td>\n",
       "      <td>0</td>\n",
       "      <td>0</td>\n",
       "      <td>1</td>\n",
       "      <td>0</td>\n",
       "      <td>0</td>\n",
       "      <td>0</td>\n",
       "      <td>1</td>\n",
       "      <td>NaN</td>\n",
       "    </tr>\n",
       "  </tbody>\n",
       "</table>\n",
       "<p>5 rows × 66 columns</p>\n",
       "</div>"
      ],
      "text/plain": [
       "   Unnamed: 0       Age  Weighing_Factor   Gains_FA   Loss_FA  Schooling  \\\n",
       "0        5000  3.871201        11.285121  10.233834  0.000000   1.912869   \n",
       "1        5001  4.025352        11.928176   0.000000  7.372118   1.135322   \n",
       "2        5002  3.295837        11.795560   8.519989  0.000000  -0.419772   \n",
       "3        5003  3.367296        11.993343   0.000000  0.000000  -0.419772   \n",
       "4        5004  3.610918        11.040471   0.000000  0.000000  -0.419772   \n",
       "\n",
       "   Working_Time  Employment_Type_ Federal-gov  Employment_Type_ Local-gov  \\\n",
       "0      0.777077                             0                           0   \n",
       "1     -0.197511                             0                           0   \n",
       "2     -0.035080                             0                           0   \n",
       "3     -0.035080                             0                           0   \n",
       "4     -0.035080                             0                           0   \n",
       "\n",
       "   Employment_Type_ Never-worked  ...  Partnership_ Unmarried  \\\n",
       "0                              0  ...                       0   \n",
       "1                              0  ...                       0   \n",
       "2                              0  ...                       0   \n",
       "3                              0  ...                       1   \n",
       "4                              0  ...                       0   \n",
       "\n",
       "   Partnership_ Wife  Ethnicity_ Amer-Indian-Eskimo  \\\n",
       "0                  0                              0   \n",
       "1                  0                              0   \n",
       "2                  1                              0   \n",
       "3                  0                              0   \n",
       "4                  0                              0   \n",
       "\n",
       "   Ethnicity_ Asian-Pac-Islander  Ethnicity_ Black  Ethnicity_ Other  \\\n",
       "0                              0                 0                 0   \n",
       "1                              0                 0                 0   \n",
       "2                              0                 0                 0   \n",
       "3                              0                 0                 0   \n",
       "4                              0                 1                 0   \n",
       "\n",
       "   Ethnicity_ White  Gender_ Female  Gender_ Male  Income  \n",
       "0                 1               0             1     NaN  \n",
       "1                 1               1             0     NaN  \n",
       "2                 1               1             0     NaN  \n",
       "3                 1               1             0     NaN  \n",
       "4                 0               0             1     NaN  \n",
       "\n",
       "[5 rows x 66 columns]"
      ]
     },
     "execution_count": 6,
     "metadata": {},
     "output_type": "execute_result"
    }
   ],
   "source": [
    "final_df_prediction = pd.read_csv(\"./data/final_df_prediction.csv\")\n",
    "final_df_prediction.head()"
   ]
  },
  {
   "cell_type": "code",
   "execution_count": 7,
   "metadata": {},
   "outputs": [
    {
     "name": "stdout",
     "output_type": "stream",
     "text": [
      "30000\n",
      "5000\n",
      "25000\n"
     ]
    }
   ],
   "source": [
    "print(len(data))\n",
    "print(len(final_df_training))\n",
    "print(len(final_df_prediction))"
   ]
  },
  {
   "cell_type": "code",
   "execution_count": 8,
   "metadata": {},
   "outputs": [],
   "source": [
    "from sklearn.metrics import accuracy_score,recall_score,precision_score,f1_score,confusion_matrix"
   ]
  },
  {
   "cell_type": "code",
   "execution_count": 9,
   "metadata": {},
   "outputs": [],
   "source": [
    "def evaluation(test_y:np.ndarray,pred_y:np.ndarray):\n",
    "    from sklearn.metrics import accuracy_score,recall_score,precision_score,f1_score,confusion_matrix\n",
    "\n",
    "    print(f\"Accuracy Score : {np.round(accuracy_score(test_y,pred_y)*100,2)}%\")\n",
    "    print(f\"Recall Score : {np.round(recall_score(test_y,pred_y)*100,2)}%\")\n",
    "    print(f\"Precision Score : {np.round(precision_score(test_y,pred_y)*100,2)}%\")\n",
    "    print(f\"F1 Score : {np.round(f1_score(test_y,pred_y)*100,2)}%\")\n",
    "\n",
    "    print(\"\\n\")\n",
    "\n",
    "    cm = confusion_matrix(test_y, pred_y)\n",
    "\n",
    "    print(f\"Confusion Matrix : \\n{cm}\")\n",
    "\n",
    "    # return accuracy_score(test_y,pred_y)"
   ]
  },
  {
   "cell_type": "code",
   "execution_count": 10,
   "metadata": {},
   "outputs": [],
   "source": [
    "X = final_df_training.drop(columns=['Unnamed: 0','Income'],axis=1)\n",
    "y = final_df_training[\"Income\"]"
   ]
  },
  {
   "cell_type": "code",
   "execution_count": 11,
   "metadata": {},
   "outputs": [],
   "source": [
    "from sklearn.model_selection import train_test_split,GridSearchCV\n",
    "\n",
    "X_train,X_test,y_train,y_test = train_test_split(X,y,test_size=0.20,random_state=101,shuffle=True)\n",
    "X_pred = final_df_prediction.drop(columns=['Unnamed: 0','Income'],axis=1)"
   ]
  },
  {
   "cell_type": "code",
   "execution_count": 12,
   "metadata": {},
   "outputs": [
    {
     "data": {
      "text/html": [
       "<div>\n",
       "<style scoped>\n",
       "    .dataframe tbody tr th:only-of-type {\n",
       "        vertical-align: middle;\n",
       "    }\n",
       "\n",
       "    .dataframe tbody tr th {\n",
       "        vertical-align: top;\n",
       "    }\n",
       "\n",
       "    .dataframe thead th {\n",
       "        text-align: right;\n",
       "    }\n",
       "</style>\n",
       "<table border=\"1\" class=\"dataframe\">\n",
       "  <thead>\n",
       "    <tr style=\"text-align: right;\">\n",
       "      <th></th>\n",
       "      <th>Age</th>\n",
       "      <th>Weighing_Factor</th>\n",
       "      <th>Gains_FA</th>\n",
       "      <th>Loss_FA</th>\n",
       "      <th>Schooling</th>\n",
       "      <th>Working_Time</th>\n",
       "      <th>Employment_Type_ Federal-gov</th>\n",
       "      <th>Employment_Type_ Local-gov</th>\n",
       "      <th>Employment_Type_ Never-worked</th>\n",
       "      <th>Employment_Type_ Private</th>\n",
       "      <th>...</th>\n",
       "      <th>Partnership_ Own-child</th>\n",
       "      <th>Partnership_ Unmarried</th>\n",
       "      <th>Partnership_ Wife</th>\n",
       "      <th>Ethnicity_ Amer-Indian-Eskimo</th>\n",
       "      <th>Ethnicity_ Asian-Pac-Islander</th>\n",
       "      <th>Ethnicity_ Black</th>\n",
       "      <th>Ethnicity_ Other</th>\n",
       "      <th>Ethnicity_ White</th>\n",
       "      <th>Gender_ Female</th>\n",
       "      <th>Gender_ Male</th>\n",
       "    </tr>\n",
       "  </thead>\n",
       "  <tbody>\n",
       "    <tr>\n",
       "      <th>3413</th>\n",
       "      <td>3.555348</td>\n",
       "      <td>12.739465</td>\n",
       "      <td>8.895493</td>\n",
       "      <td>0.0</td>\n",
       "      <td>1.135322</td>\n",
       "      <td>1.589234</td>\n",
       "      <td>0</td>\n",
       "      <td>0</td>\n",
       "      <td>0</td>\n",
       "      <td>1</td>\n",
       "      <td>...</td>\n",
       "      <td>0</td>\n",
       "      <td>0</td>\n",
       "      <td>0</td>\n",
       "      <td>0</td>\n",
       "      <td>0</td>\n",
       "      <td>0</td>\n",
       "      <td>0</td>\n",
       "      <td>1</td>\n",
       "      <td>0</td>\n",
       "      <td>1</td>\n",
       "    </tr>\n",
       "    <tr>\n",
       "      <th>1610</th>\n",
       "      <td>4.077537</td>\n",
       "      <td>12.262207</td>\n",
       "      <td>0.000000</td>\n",
       "      <td>0.0</td>\n",
       "      <td>-0.808545</td>\n",
       "      <td>0.939509</td>\n",
       "      <td>0</td>\n",
       "      <td>0</td>\n",
       "      <td>0</td>\n",
       "      <td>0</td>\n",
       "      <td>...</td>\n",
       "      <td>0</td>\n",
       "      <td>0</td>\n",
       "      <td>0</td>\n",
       "      <td>0</td>\n",
       "      <td>0</td>\n",
       "      <td>0</td>\n",
       "      <td>0</td>\n",
       "      <td>1</td>\n",
       "      <td>1</td>\n",
       "      <td>0</td>\n",
       "    </tr>\n",
       "    <tr>\n",
       "      <th>3459</th>\n",
       "      <td>3.091042</td>\n",
       "      <td>12.784855</td>\n",
       "      <td>0.000000</td>\n",
       "      <td>0.0</td>\n",
       "      <td>-0.419772</td>\n",
       "      <td>-0.035080</td>\n",
       "      <td>0</td>\n",
       "      <td>0</td>\n",
       "      <td>0</td>\n",
       "      <td>0</td>\n",
       "      <td>...</td>\n",
       "      <td>0</td>\n",
       "      <td>1</td>\n",
       "      <td>0</td>\n",
       "      <td>0</td>\n",
       "      <td>0</td>\n",
       "      <td>0</td>\n",
       "      <td>0</td>\n",
       "      <td>1</td>\n",
       "      <td>1</td>\n",
       "      <td>0</td>\n",
       "    </tr>\n",
       "    <tr>\n",
       "      <th>4293</th>\n",
       "      <td>3.526361</td>\n",
       "      <td>12.238119</td>\n",
       "      <td>0.000000</td>\n",
       "      <td>0.0</td>\n",
       "      <td>-0.030998</td>\n",
       "      <td>-0.035080</td>\n",
       "      <td>0</td>\n",
       "      <td>0</td>\n",
       "      <td>0</td>\n",
       "      <td>1</td>\n",
       "      <td>...</td>\n",
       "      <td>0</td>\n",
       "      <td>0</td>\n",
       "      <td>0</td>\n",
       "      <td>0</td>\n",
       "      <td>0</td>\n",
       "      <td>0</td>\n",
       "      <td>0</td>\n",
       "      <td>1</td>\n",
       "      <td>0</td>\n",
       "      <td>1</td>\n",
       "    </tr>\n",
       "    <tr>\n",
       "      <th>1039</th>\n",
       "      <td>3.555348</td>\n",
       "      <td>12.009510</td>\n",
       "      <td>0.000000</td>\n",
       "      <td>0.0</td>\n",
       "      <td>-1.197318</td>\n",
       "      <td>-2.633982</td>\n",
       "      <td>0</td>\n",
       "      <td>0</td>\n",
       "      <td>0</td>\n",
       "      <td>0</td>\n",
       "      <td>...</td>\n",
       "      <td>0</td>\n",
       "      <td>0</td>\n",
       "      <td>1</td>\n",
       "      <td>0</td>\n",
       "      <td>0</td>\n",
       "      <td>0</td>\n",
       "      <td>0</td>\n",
       "      <td>1</td>\n",
       "      <td>1</td>\n",
       "      <td>0</td>\n",
       "    </tr>\n",
       "  </tbody>\n",
       "</table>\n",
       "<p>5 rows × 64 columns</p>\n",
       "</div>"
      ],
      "text/plain": [
       "           Age  Weighing_Factor  Gains_FA  Loss_FA  Schooling  Working_Time  \\\n",
       "3413  3.555348        12.739465  8.895493      0.0   1.135322      1.589234   \n",
       "1610  4.077537        12.262207  0.000000      0.0  -0.808545      0.939509   \n",
       "3459  3.091042        12.784855  0.000000      0.0  -0.419772     -0.035080   \n",
       "4293  3.526361        12.238119  0.000000      0.0  -0.030998     -0.035080   \n",
       "1039  3.555348        12.009510  0.000000      0.0  -1.197318     -2.633982   \n",
       "\n",
       "      Employment_Type_ Federal-gov  Employment_Type_ Local-gov  \\\n",
       "3413                             0                           0   \n",
       "1610                             0                           0   \n",
       "3459                             0                           0   \n",
       "4293                             0                           0   \n",
       "1039                             0                           0   \n",
       "\n",
       "      Employment_Type_ Never-worked  Employment_Type_ Private  ...  \\\n",
       "3413                              0                         1  ...   \n",
       "1610                              0                         0  ...   \n",
       "3459                              0                         0  ...   \n",
       "4293                              0                         1  ...   \n",
       "1039                              0                         0  ...   \n",
       "\n",
       "      Partnership_ Own-child  Partnership_ Unmarried  Partnership_ Wife  \\\n",
       "3413                       0                       0                  0   \n",
       "1610                       0                       0                  0   \n",
       "3459                       0                       1                  0   \n",
       "4293                       0                       0                  0   \n",
       "1039                       0                       0                  1   \n",
       "\n",
       "      Ethnicity_ Amer-Indian-Eskimo  Ethnicity_ Asian-Pac-Islander  \\\n",
       "3413                              0                              0   \n",
       "1610                              0                              0   \n",
       "3459                              0                              0   \n",
       "4293                              0                              0   \n",
       "1039                              0                              0   \n",
       "\n",
       "      Ethnicity_ Black  Ethnicity_ Other  Ethnicity_ White  Gender_ Female  \\\n",
       "3413                 0                 0                 1               0   \n",
       "1610                 0                 0                 1               1   \n",
       "3459                 0                 0                 1               1   \n",
       "4293                 0                 0                 1               0   \n",
       "1039                 0                 0                 1               1   \n",
       "\n",
       "      Gender_ Male  \n",
       "3413             1  \n",
       "1610             0  \n",
       "3459             0  \n",
       "4293             1  \n",
       "1039             0  \n",
       "\n",
       "[5 rows x 64 columns]"
      ]
     },
     "execution_count": 12,
     "metadata": {},
     "output_type": "execute_result"
    }
   ],
   "source": [
    "X_train[0:5]"
   ]
  },
  {
   "attachments": {},
   "cell_type": "markdown",
   "metadata": {},
   "source": [
    "# Logistic Regression"
   ]
  },
  {
   "cell_type": "code",
   "execution_count": 13,
   "metadata": {},
   "outputs": [],
   "source": [
    "from sklearn.linear_model import LogisticRegression\n",
    "\n",
    "LR = LogisticRegression()"
   ]
  },
  {
   "cell_type": "code",
   "execution_count": 14,
   "metadata": {},
   "outputs": [
    {
     "name": "stderr",
     "output_type": "stream",
     "text": [
      "c:\\Users\\kshit\\AppData\\Local\\Programs\\Python\\Python39\\lib\\site-packages\\sklearn\\linear_model\\_logistic.py:814: ConvergenceWarning: lbfgs failed to converge (status=1):\n",
      "STOP: TOTAL NO. of ITERATIONS REACHED LIMIT.\n",
      "\n",
      "Increase the number of iterations (max_iter) or scale the data as shown in:\n",
      "    https://scikit-learn.org/stable/modules/preprocessing.html\n",
      "Please also refer to the documentation for alternative solver options:\n",
      "    https://scikit-learn.org/stable/modules/linear_model.html#logistic-regression\n",
      "  n_iter_i = _check_optimize_result(\n"
     ]
    },
    {
     "data": {
      "text/plain": [
       "LogisticRegression()"
      ]
     },
     "execution_count": 14,
     "metadata": {},
     "output_type": "execute_result"
    }
   ],
   "source": [
    "LR.fit(X_train,y_train)"
   ]
  },
  {
   "cell_type": "code",
   "execution_count": 15,
   "metadata": {},
   "outputs": [
    {
     "name": "stdout",
     "output_type": "stream",
     "text": [
      "Accuracy Score : 84.4%\n",
      "Recall Score : 55.51%\n",
      "Precision Score : 74.32%\n",
      "F1 Score : 63.55%\n",
      "\n",
      "\n",
      "Confusion Matrix : \n",
      "[[708  47]\n",
      " [109 136]]\n"
     ]
    }
   ],
   "source": [
    "y_pred = LR.predict(X_test)\n",
    "evaluation(y_test,y_pred)"
   ]
  },
  {
   "cell_type": "code",
   "execution_count": 16,
   "metadata": {},
   "outputs": [],
   "source": [
    "y_pred_wo_income = LR.predict(X_pred)"
   ]
  },
  {
   "cell_type": "code",
   "execution_count": 17,
   "metadata": {},
   "outputs": [
    {
     "name": "stdout",
     "output_type": "stream",
     "text": [
      "Income\n",
      " <=50K    20075\n",
      " >50K      4925\n",
      "dtype: int64\n"
     ]
    },
    {
     "data": {
      "image/png": "[encoded data removed]",
      "text/plain": [
       "<Figure size 432x288 with 1 Axes>"
      ]
     },
     "metadata": {
      "needs_background": "light"
     },
     "output_type": "display_data"
    }
   ],
   "source": [
    "print(pd.DataFrame(y_pred_wo_income,columns=[\"Income\"]).replace({-1:\" <=50K\",1:\" >50K\"}).value_counts())\n",
    "sns.histplot(pd.DataFrame(y_pred_wo_income,columns=[\"Income\"]).replace({-1:\" <=50K\",1:\" >50K\"})[\"Income\"]);"
   ]
  },
  {
   "attachments": {},
   "cell_type": "markdown",
   "metadata": {},
   "source": [
    "## Tuning the LR model"
   ]
  },
  {
   "cell_type": "code",
   "execution_count": 18,
   "metadata": {},
   "outputs": [],
   "source": [
    "import warnings"
   ]
  },
  {
   "cell_type": "code",
   "execution_count": 20,
   "metadata": {},
   "outputs": [
    {
     "name": "stdout",
     "output_type": "stream",
     "text": [
      "Best Hyperparameters: {'C': 1.0, 'max_iter': 100, 'penalty': 'l2', 'solver': 'saga'}\n",
      "Best Score: 0.842\n",
      "Accuracy Score : 84.1%\n",
      "Recall Score : 55.51%\n",
      "Precision Score : 73.12%\n",
      "F1 Score : 63.11%\n",
      "\n",
      "\n",
      "Confusion Matrix : \n",
      "[[705  50]\n",
      " [109 136]]\n"
     ]
    }
   ],
   "source": [
    "clf_LR = LogisticRegression()\n",
    "params_LR = {\n",
    "    'penalty': ['l1', 'l2', 'elasticnet'],\n",
    "    'C': [0.1, 1.0, 10.0],\n",
    "    'solver': ['lbfgs', 'liblinear', 'newton-cholesky', 'saga'],\n",
    "    'max_iter': [100,200,300,500]\n",
    "    # 'multi_class': ['auto', 'ovr', 'multinomial']\n",
    "}\n",
    "\n",
    "with warnings.catch_warnings():\n",
    "    warnings.filterwarnings(\"ignore\")\n",
    "    # Fit the classifier\n",
    "    \n",
    "    grid_search_LR = GridSearchCV(clf_LR,params_LR);\n",
    "    grid_search_LR.fit(X_train,y_train)\n",
    "\n",
    "print(\"Best Hyperparameters:\", grid_search_LR.best_params_)\n",
    "print(\"Best Score:\", grid_search_LR.best_score_)\n",
    "\n",
    "best_model_LR = grid_search_LR.best_estimator_\n",
    "\n",
    "y_pred_LR2 = best_model_LR.predict(X_test)\n",
    "evaluation(y_test,y_pred_LR2)"
   ]
  },
  {
   "cell_type": "code",
   "execution_count": 21,
   "metadata": {},
   "outputs": [
    {
     "name": "stdout",
     "output_type": "stream",
     "text": [
      "Accuracy Score : 84.4%\n",
      "Recall Score : 55.1%\n",
      "Precision Score : 74.59%\n",
      "F1 Score : 63.38%\n",
      "\n",
      "\n",
      "Confusion Matrix : \n",
      "[[709  46]\n",
      " [110 135]]\n"
     ]
    },
    {
     "name": "stderr",
     "output_type": "stream",
     "text": [
      "c:\\Users\\kshit\\AppData\\Local\\Programs\\Python\\Python39\\lib\\site-packages\\sklearn\\linear_model\\_sag.py:352: ConvergenceWarning: The max_iter was reached which means the coef_ did not converge\n",
      "  warnings.warn(\n"
     ]
    }
   ],
   "source": [
    "LR2 = LogisticRegression(penalty=\"l2\",solver=\"saga\",max_iter=500)\n",
    "LR2.fit(X_train,y_train)\n",
    "y_pred_LR2 = LR2.predict(X_test)\n",
    "evaluation(y_test,y_pred_LR2)"
   ]
  },
  {
   "attachments": {},
   "cell_type": "markdown",
   "metadata": {},
   "source": [
    "# Decision Trees\n"
   ]
  },
  {
   "cell_type": "code",
   "execution_count": 22,
   "metadata": {},
   "outputs": [
    {
     "name": "stdout",
     "output_type": "stream",
     "text": [
      "Accuracy Score : 80.7%\n",
      "Recall Score : 59.59%\n",
      "Precision Score : 60.83%\n",
      "F1 Score : 60.21%\n",
      "\n",
      "\n",
      "Confusion Matrix : \n",
      "[[661  94]\n",
      " [ 99 146]]\n"
     ]
    }
   ],
   "source": [
    "from sklearn.tree import DecisionTreeClassifier\n",
    "\n",
    "DT = DecisionTreeClassifier()\n",
    "\n",
    "DT.fit(X_train,y_train)\n",
    "\n",
    "y_pred_DT = DT.predict(X_test)\n",
    "evaluation(y_test,y_pred_DT)"
   ]
  },
  {
   "cell_type": "code",
   "execution_count": 23,
   "metadata": {},
   "outputs": [
    {
     "name": "stdout",
     "output_type": "stream",
     "text": [
      "Income\n",
      " <=50K    18976\n",
      " >50K      6024\n",
      "dtype: int64\n"
     ]
    },
    {
     "data": {
      "image/png": "[encoded data removed]",
      "text/plain": [
       "<Figure size 432x288 with 1 Axes>"
      ]
     },
     "metadata": {
      "needs_background": "light"
     },
     "output_type": "display_data"
    }
   ],
   "source": [
    "y_pred_wo_income_DT = DT.predict(X_pred)\n",
    "\n",
    "print(pd.DataFrame(y_pred_wo_income_DT,columns=[\"Income\"]).replace({-1:\" <=50K\",1:\" >50K\"}).value_counts())\n",
    "sns.histplot(pd.DataFrame(y_pred_wo_income_DT,columns=[\"Income\"]).replace({-1:\" <=50K\",1:\" >50K\"})[\"Income\"]);"
   ]
  },
  {
   "attachments": {},
   "cell_type": "markdown",
   "metadata": {},
   "source": [
    "## Tuning the DT model"
   ]
  },
  {
   "cell_type": "code",
   "execution_count": 24,
   "metadata": {},
   "outputs": [
    {
     "name": "stdout",
     "output_type": "stream",
     "text": [
      "Best Hyperparameters: {'criterion': 'gini', 'max_depth': 6, 'max_features': None, 'min_samples_leaf': 2, 'min_samples_split': 2, 'splitter': 'best'}\n",
      "Best Score: 0.843\n",
      "Accuracy Score : 84.2%\n",
      "Recall Score : 52.24%\n",
      "Precision Score : 75.74%\n",
      "F1 Score : 61.84%\n",
      "\n",
      "\n",
      "Confusion Matrix : \n",
      "[[714  41]\n",
      " [117 128]]\n"
     ]
    }
   ],
   "source": [
    "clf_DT = DecisionTreeClassifier()\n",
    "\n",
    "params_DT = {\n",
    "    'max_depth': [3, 4, 5, 6, 7, 8, None],\n",
    "    'min_samples_split': [2, 3, 4],\n",
    "    'min_samples_leaf': [1, 2, 3],\n",
    "    'max_features': [None, 'sqrt', 'log2','auto'],\n",
    "    'criterion': ['gini', 'entropy'],\n",
    "    'splitter': ['best', 'random']\n",
    "}\n",
    "\n",
    "grid_search_DT = GridSearchCV(clf_DT,params_DT);\n",
    "grid_search_DT.fit(X_train,y_train)\n",
    "\n",
    "print(\"Best Hyperparameters:\", grid_search_DT.best_params_)\n",
    "print(\"Best Score:\", grid_search_DT.best_score_)\n",
    "\n",
    "best_model_DT = grid_search_DT.best_estimator_\n",
    "\n",
    "y_pred_DT2 = best_model_DT.predict(X_test)\n",
    "evaluation(y_test,y_pred_DT2)"
   ]
  },
  {
   "cell_type": "code",
   "execution_count": 25,
   "metadata": {},
   "outputs": [
    {
     "name": "stdout",
     "output_type": "stream",
     "text": [
      "Income\n",
      " <=50K    18976\n",
      " >50K      6024\n",
      "dtype: int64\n",
      "\n",
      "\n",
      "Income\n",
      " <=50K    20828\n",
      " >50K      4172\n",
      "dtype: int64\n"
     ]
    },
    {
     "data": {
      "image/png": "[encoded data removed]",
      "text/plain": [
       "<Figure size 432x288 with 1 Axes>"
      ]
     },
     "metadata": {
      "needs_background": "light"
     },
     "output_type": "display_data"
    }
   ],
   "source": [
    "y_pred_wo_income_DT2 = best_model_DT.predict(X_pred)\n",
    "\n",
    "print(pd.DataFrame(y_pred_wo_income_DT,columns=[\"Income\"]).replace({-1:\" <=50K\",1:\" >50K\"}).value_counts())\n",
    "print(\"\\n\")\n",
    "print(pd.DataFrame(y_pred_wo_income_DT2,columns=[\"Income\"]).replace({-1:\" <=50K\",1:\" >50K\"}).value_counts())\n",
    "sns.histplot(pd.DataFrame(y_pred_wo_income_DT,columns=[\"Income\"]).replace({-1:\" <=50K\",1:\" >50K\"})[\"Income\"],color=\"r\",label=\"Default Model\");\n",
    "sns.histplot(pd.DataFrame(y_pred_wo_income_DT2,columns=[\"Income\"]).replace({-1:\" <=50K\",1:\" >50K\"})[\"Income\"],color=\"b\",alpha=0.5,label=\"Tuned Model\");\n",
    "plt.legend(loc=\"best\");"
   ]
  },
  {
   "cell_type": "code",
   "execution_count": 26,
   "metadata": {},
   "outputs": [],
   "source": [
    "# tuned_model = DecisionTreeClassifier(max_depth=7,min_samples_split=2,min_samples_leaf=2,max_features=None,criterion='gini')\n",
    "# tuned_model.fit(X_train,y_train)\n",
    "# evaulation(y_test,tuned_model.predict(X_test))"
   ]
  },
  {
   "attachments": {},
   "cell_type": "markdown",
   "metadata": {},
   "source": [
    "# Random Forest"
   ]
  },
  {
   "cell_type": "code",
   "execution_count": 27,
   "metadata": {},
   "outputs": [
    {
     "name": "stdout",
     "output_type": "stream",
     "text": [
      "Accuracy Score : 83.4%\n",
      "Recall Score : 57.14%\n",
      "Precision Score : 69.65%\n",
      "F1 Score : 62.78%\n",
      "\n",
      "\n",
      "Confusion Matrix : \n",
      "[[694  61]\n",
      " [105 140]]\n"
     ]
    }
   ],
   "source": [
    "from sklearn.ensemble import RandomForestClassifier\n",
    "\n",
    "RF = RandomForestClassifier()\n",
    "\n",
    "RF.fit(X_train,y_train)\n",
    "\n",
    "y_pred_RF = RF.predict(X_test)\n",
    "evaluation(y_test,y_pred_RF)"
   ]
  },
  {
   "cell_type": "code",
   "execution_count": 28,
   "metadata": {},
   "outputs": [
    {
     "name": "stdout",
     "output_type": "stream",
     "text": [
      "Income\n",
      " <=50K    19929\n",
      " >50K      5071\n",
      "dtype: int64\n"
     ]
    },
    {
     "data": {
      "image/png": "[encoded data removed]",
      "text/plain": [
       "<Figure size 432x288 with 1 Axes>"
      ]
     },
     "metadata": {
      "needs_background": "light"
     },
     "output_type": "display_data"
    }
   ],
   "source": [
    "y_pred_wo_income_RF = RF.predict(X_pred)\n",
    "\n",
    "print(pd.DataFrame(y_pred_wo_income_RF,columns=[\"Income\"]).replace({-1:\" <=50K\",1:\" >50K\"}).value_counts())\n",
    "sns.histplot(pd.DataFrame(y_pred_wo_income_RF,columns=[\"Income\"]).replace({-1:\" <=50K\",1:\" >50K\"})[\"Income\"]);"
   ]
  },
  {
   "attachments": {},
   "cell_type": "markdown",
   "metadata": {},
   "source": [
    "## Tuning RandomForest"
   ]
  },
  {
   "cell_type": "code",
   "execution_count": 29,
   "metadata": {},
   "outputs": [
    {
     "name": "stdout",
     "output_type": "stream",
     "text": [
      "Best Hyperparameters: {'criterion': 'entropy', 'max_depth': None, 'max_features': 'log2', 'min_samples_leaf': 2, 'min_samples_split': 10, 'n_estimators': 100}\n",
      "Best Score: 0.85375\n",
      "Accuracy Score : 85.5%\n",
      "Recall Score : 58.37%\n",
      "Precision Score : 76.88%\n",
      "F1 Score : 66.36%\n",
      "\n",
      "\n",
      "Confusion Matrix : \n",
      "[[712  43]\n",
      " [102 143]]\n"
     ]
    }
   ],
   "source": [
    "clf_RF = RandomForestClassifier()\n",
    "params_RF = {\n",
    "    'n_estimators': [50,100,300],\n",
    "    'criterion': [\"gini\",\"entropy\"],\n",
    "    'max_depth': [3, 5, None],\n",
    "    'min_samples_split': [2, 5, 10],\n",
    "    'min_samples_leaf': [1, 2, 4],\n",
    "    'max_features': ['sqrt', 'log2']\n",
    "}\n",
    "\n",
    "grid_search_RF = GridSearchCV(clf_RF,params_RF)\n",
    "grid_search_RF.fit(X_train,y_train)\n",
    "\n",
    "print(\"Best Hyperparameters:\", grid_search_RF.best_params_)\n",
    "print(\"Best Score:\", grid_search_RF.best_score_)\n",
    "\n",
    "best_model_RF = grid_search_RF.best_estimator_\n",
    "\n",
    "y_pred_RF2 = best_model_RF.predict(X_test)\n",
    "evaluation(y_test,y_pred_RF2)"
   ]
  },
  {
   "cell_type": "code",
   "execution_count": 30,
   "metadata": {},
   "outputs": [
    {
     "name": "stdout",
     "output_type": "stream",
     "text": [
      "Income\n",
      " <=50K    19929\n",
      " >50K      5071\n",
      "dtype: int64\n",
      "\n",
      "\n",
      "Income\n",
      " <=50K    20371\n",
      " >50K      4629\n",
      "dtype: int64\n"
     ]
    },
    {
     "data": {
      "image/png": "[encoded data removed]",
      "text/plain": [
       "<Figure size 432x288 with 1 Axes>"
      ]
     },
     "metadata": {
      "needs_background": "light"
     },
     "output_type": "display_data"
    }
   ],
   "source": [
    "y_pred_wo_income_RF2 = best_model_RF.predict(X_pred)\n",
    "\n",
    "print(pd.DataFrame(y_pred_wo_income_RF,columns=[\"Income\"]).replace({-1:\" <=50K\",1:\" >50K\"}).value_counts())\n",
    "print(\"\\n\")\n",
    "print(pd.DataFrame(y_pred_wo_income_RF2,columns=[\"Income\"]).replace({-1:\" <=50K\",1:\" >50K\"}).value_counts())\n",
    "sns.histplot(pd.DataFrame(y_pred_wo_income_RF,columns=[\"Income\"]).replace({-1:\" <=50K\",1:\" >50K\"})[\"Income\"],color=\"r\",label=\"Default Model\");\n",
    "sns.histplot(pd.DataFrame(y_pred_wo_income_RF2,columns=[\"Income\"]).replace({-1:\" <=50K\",1:\" >50K\"})[\"Income\"],color=\"b\",alpha=0.5,label=\"Tuned Model\");\n",
    "plt.legend(loc=\"best\");"
   ]
  },
  {
   "attachments": {},
   "cell_type": "markdown",
   "metadata": {},
   "source": [
    "# SVM"
   ]
  },
  {
   "cell_type": "code",
   "execution_count": 31,
   "metadata": {},
   "outputs": [
    {
     "name": "stdout",
     "output_type": "stream",
     "text": [
      "Accuracy Score : 83.5%\n",
      "Recall Score : 48.57%\n",
      "Precision Score : 75.32%\n",
      "F1 Score : 59.06%\n",
      "\n",
      "\n",
      "Confusion Matrix : \n",
      "[[716  39]\n",
      " [126 119]]\n"
     ]
    }
   ],
   "source": [
    "from sklearn.svm import SVC\n",
    "\n",
    "SVM = SVC()\n",
    "SVM.fit(X_train,y_train)\n",
    "\n",
    "y_pred_SVM = SVM.predict(X_test)\n",
    "evaluation(y_test,y_pred_SVM)"
   ]
  },
  {
   "cell_type": "code",
   "execution_count": 32,
   "metadata": {},
   "outputs": [
    {
     "name": "stdout",
     "output_type": "stream",
     "text": [
      "Income\n",
      " <=50K    20711\n",
      " >50K      4289\n",
      "dtype: int64\n"
     ]
    },
    {
     "data": {
      "image/png": "[encoded data removed]",
      "text/plain": [
       "<Figure size 432x288 with 1 Axes>"
      ]
     },
     "metadata": {
      "needs_background": "light"
     },
     "output_type": "display_data"
    }
   ],
   "source": [
    "y_pred_wo_income_SVM = SVM.predict(X_pred)\n",
    "\n",
    "print(pd.DataFrame(y_pred_wo_income_SVM,columns=[\"Income\"]).replace({-1:\" <=50K\",1:\" >50K\"}).value_counts())\n",
    "sns.histplot(pd.DataFrame(y_pred_wo_income_SVM,columns=[\"Income\"]).replace({-1:\" <=50K\",1:\" >50K\"})[\"Income\"]);"
   ]
  },
  {
   "attachments": {},
   "cell_type": "markdown",
   "metadata": {},
   "source": [
    "## Tuning Support-Vector-Machine"
   ]
  },
  {
   "cell_type": "code",
   "execution_count": 33,
   "metadata": {},
   "outputs": [
    {
     "name": "stdout",
     "output_type": "stream",
     "text": [
      "Best Hyperparameters: {'C': 1, 'gamma': 'auto', 'kernel': 'poly'}\n",
      "Best Score: 0.84375\n",
      "Accuracy Score : 84.4%\n",
      "Recall Score : 54.29%\n",
      "Precision Score : 75.14%\n",
      "F1 Score : 63.03%\n",
      "\n",
      "\n",
      "Confusion Matrix : \n",
      "[[711  44]\n",
      " [112 133]]\n"
     ]
    }
   ],
   "source": [
    "clf_SVM = SVC()\n",
    "params_SVM = {\n",
    "    'kernel' : ['linear', 'poly', 'rbf', 'sigmoid'],\n",
    "    'C': [0.1,1,2,4],\n",
    "    'gamma': ['scale','auto'],\n",
    "}\n",
    "\n",
    "grid_search_SVM = GridSearchCV(clf_SVM, params_SVM)\n",
    "grid_search_SVM.fit(X_train,y_train)\n",
    "\n",
    "print(\"Best Hyperparameters:\", grid_search_SVM.best_params_)\n",
    "print(\"Best Score:\", grid_search_SVM.best_score_)\n",
    "\n",
    "best_model_SVM = grid_search_SVM.best_estimator_\n",
    "\n",
    "y_pred_SVM2 = best_model_SVM.predict(X_test)\n",
    "evaluation(y_test,y_pred_SVM2)"
   ]
  },
  {
   "cell_type": "code",
   "execution_count": 34,
   "metadata": {},
   "outputs": [
    {
     "name": "stdout",
     "output_type": "stream",
     "text": [
      "Income\n",
      " <=50K    20711\n",
      " >50K      4289\n",
      "dtype: int64\n",
      "\n",
      "\n",
      "Income\n",
      " <=50K    20415\n",
      " >50K      4585\n",
      "dtype: int64\n"
     ]
    },
    {
     "data": {
      "image/png": "[encoded data removed]",
      "text/plain": [
       "<Figure size 432x288 with 1 Axes>"
      ]
     },
     "metadata": {
      "needs_background": "light"
     },
     "output_type": "display_data"
    }
   ],
   "source": [
    "y_pred_wo_income_SVM2 = best_model_SVM.predict(X_pred)\n",
    "\n",
    "print(pd.DataFrame(y_pred_wo_income_SVM,columns=[\"Income\"]).replace({-1:\" <=50K\",1:\" >50K\"}).value_counts())\n",
    "print(\"\\n\")\n",
    "print(pd.DataFrame(y_pred_wo_income_SVM2,columns=[\"Income\"]).replace({-1:\" <=50K\",1:\" >50K\"}).value_counts())\n",
    "sns.histplot(pd.DataFrame(y_pred_wo_income_SVM,columns=[\"Income\"]).replace({-1:\" <=50K\",1:\" >50K\"})[\"Income\"],color=\"r\",label=\"Default Model\");\n",
    "sns.histplot(pd.DataFrame(y_pred_wo_income_SVM2,columns=[\"Income\"]).replace({-1:\" <=50K\",1:\" >50K\"})[\"Income\"],color=\"b\",alpha=0.5,label=\"Tuned Model\");\n",
    "plt.legend(loc=\"best\");"
   ]
  },
  {
   "attachments": {},
   "cell_type": "markdown",
   "metadata": {},
   "source": [
    "# k-Nearest Neighbors (KNN)"
   ]
  },
  {
   "cell_type": "code",
   "execution_count": 35,
   "metadata": {},
   "outputs": [
    {
     "name": "stdout",
     "output_type": "stream",
     "text": [
      "Accuracy Score : 80.4%\n",
      "Recall Score : 39.59%\n",
      "Precision Score : 66.9%\n",
      "F1 Score : 49.74%\n",
      "\n",
      "\n",
      "Confusion Matrix : \n",
      "[[707  48]\n",
      " [148  97]]\n"
     ]
    }
   ],
   "source": [
    "from sklearn.neighbors import KNeighborsClassifier\n",
    "\n",
    "k = 2  # Specify the number of neighbors\n",
    "KNN = KNeighborsClassifier(n_neighbors=k)\n",
    "KNN.fit(X_train,y_train)\n",
    "\n",
    "y_pred_KNN = KNN.predict(X_test)\n",
    "evaluation(y_test,y_pred_KNN)"
   ]
  },
  {
   "cell_type": "code",
   "execution_count": 205,
   "metadata": {},
   "outputs": [
    {
     "name": "stdout",
     "output_type": "stream",
     "text": [
      "Income\n",
      " <=50K    21153\n",
      " >50K      3847\n",
      "dtype: int64\n"
     ]
    },
    {
     "data": {
      "image/png": "[encoded data removed]",
      "text/plain": [
       "<Figure size 432x288 with 1 Axes>"
      ]
     },
     "metadata": {
      "needs_background": "light"
     },
     "output_type": "display_data"
    }
   ],
   "source": [
    "y_pred_wo_income_KNN = KNN.predict(X_pred)\n",
    "\n",
    "print(pd.DataFrame(y_pred_wo_income_KNN,columns=[\"Income\"]).replace({-1:\" <=50K\",1:\" >50K\"}).value_counts())\n",
    "sns.histplot(pd.DataFrame(y_pred_wo_income_KNN,columns=[\"Income\"]).replace({-1:\" <=50K\",1:\" >50K\"})[\"Income\"]);"
   ]
  },
  {
   "attachments": {},
   "cell_type": "markdown",
   "metadata": {},
   "source": [
    "## Tuning K-Nearest Neighbour"
   ]
  },
  {
   "cell_type": "code",
   "execution_count": 210,
   "metadata": {},
   "outputs": [
    {
     "name": "stdout",
     "output_type": "stream",
     "text": [
      "Best Hyperparameters: {'leaf_size': 3, 'n_neighbors': 40}\n",
      "Best Score: 0.8332499999999999\n",
      "Accuracy Score : 83.7%\n",
      "Recall Score : 51.84%\n",
      "Precision Score : 73.84%\n",
      "F1 Score : 60.91%\n",
      "\n",
      "\n",
      "Confusion Matrix : \n",
      "[[710  45]\n",
      " [118 127]]\n"
     ]
    }
   ],
   "source": [
    "clf_KNN = KNeighborsClassifier()\n",
    "params_KNN = {\n",
    "    'n_neighbors': [5,15,25,40,60],\n",
    "    # 'weights': ['uniform', 'distance'],\n",
    "    'leaf_size': [3,4,5,7,10,20,100],\n",
    "    # 'algorithm': ['auto', 'ball_tree', 'kd_tree', 'brute']\n",
    "}\n",
    "\n",
    "grid_search_KNN = GridSearchCV(clf_KNN, params_KNN)\n",
    "grid_search_KNN.fit(X_train,y_train)\n",
    "\n",
    "print(\"Best Hyperparameters:\", grid_search_KNN.best_params_)\n",
    "print(\"Best Score:\", grid_search_KNN.best_score_)\n",
    "\n",
    "best_model_KNN = grid_search_KNN.best_estimator_\n",
    "\n",
    "y_pred_KNN2 = best_model_KNN.predict(X_test)\n",
    "evaluation(y_test,y_pred_KNN2)"
   ]
  },
  {
   "cell_type": "code",
   "execution_count": 211,
   "metadata": {},
   "outputs": [
    {
     "name": "stdout",
     "output_type": "stream",
     "text": [
      "Income\n",
      " <=50K    21153\n",
      " >50K      3847\n",
      "dtype: int64\n",
      "\n",
      "\n",
      "Income\n",
      " <=50K    20199\n",
      " >50K      4801\n",
      "dtype: int64\n"
     ]
    },
    {
     "data": {
      "image/png": "[encoded data removed]",
      "text/plain": [
       "<Figure size 432x288 with 1 Axes>"
      ]
     },
     "metadata": {
      "needs_background": "light"
     },
     "output_type": "display_data"
    }
   ],
   "source": [
    "y_pred_wo_income_KNN2 = best_model_KNN.predict(X_pred)\n",
    "\n",
    "print(pd.DataFrame(y_pred_wo_income_KNN,columns=[\"Income\"]).replace({-1:\" <=50K\",1:\" >50K\"}).value_counts())\n",
    "print(\"\\n\")\n",
    "print(pd.DataFrame(y_pred_wo_income_KNN2,columns=[\"Income\"]).replace({-1:\" <=50K\",1:\" >50K\"}).value_counts())\n",
    "sns.histplot(pd.DataFrame(y_pred_wo_income_KNN,columns=[\"Income\"]).replace({-1:\" <=50K\",1:\" >50K\"})[\"Income\"],color=\"r\",label=\"Default Model\");\n",
    "sns.histplot(pd.DataFrame(y_pred_wo_income_KNN2,columns=[\"Income\"]).replace({-1:\" <=50K\",1:\" >50K\"})[\"Income\"],color=\"b\",alpha=0.5,label=\"Tuned Model\");\n",
    "plt.legend(loc=\"best\");"
   ]
  },
  {
   "cell_type": "markdown",
   "metadata": {},
   "source": [
    "# Naive Bayes?"
   ]
  },
  {
   "cell_type": "code",
   "execution_count": null,
   "metadata": {},
   "outputs": [],
   "source": []
  },
  {
   "attachments": {},
   "cell_type": "markdown",
   "metadata": {},
   "source": [
    "# Neural Network"
   ]
  },
  {
   "cell_type": "code",
   "execution_count": 4,
   "metadata": {},
   "outputs": [],
   "source": [
    "from keras.models import Sequential\n",
    "from keras.layers.core import Dense\n",
    "import tensorflow as tf\n",
    "from keras.layers.core import Activation\n",
    "from sklearn.preprocessing import LabelEncoder"
   ]
  },
  {
   "cell_type": "code",
   "execution_count": 69,
   "metadata": {},
   "outputs": [
    {
     "data": {
      "text/html": [
       "<div>\n",
       "<style scoped>\n",
       "    .dataframe tbody tr th:only-of-type {\n",
       "        vertical-align: middle;\n",
       "    }\n",
       "\n",
       "    .dataframe tbody tr th {\n",
       "        vertical-align: top;\n",
       "    }\n",
       "\n",
       "    .dataframe thead th {\n",
       "        text-align: right;\n",
       "    }\n",
       "</style>\n",
       "<table border=\"1\" class=\"dataframe\">\n",
       "  <thead>\n",
       "    <tr style=\"text-align: right;\">\n",
       "      <th></th>\n",
       "      <th>Age</th>\n",
       "      <th>Weighing_Factor</th>\n",
       "      <th>Gains_FA</th>\n",
       "      <th>Loss_FA</th>\n",
       "      <th>Schooling</th>\n",
       "      <th>Working_Time</th>\n",
       "      <th>Employment_Type_ Federal-gov</th>\n",
       "      <th>Employment_Type_ Local-gov</th>\n",
       "      <th>Employment_Type_ Never-worked</th>\n",
       "      <th>Employment_Type_ Private</th>\n",
       "      <th>...</th>\n",
       "      <th>Partnership_ Own-child</th>\n",
       "      <th>Partnership_ Unmarried</th>\n",
       "      <th>Partnership_ Wife</th>\n",
       "      <th>Ethnicity_ Amer-Indian-Eskimo</th>\n",
       "      <th>Ethnicity_ Asian-Pac-Islander</th>\n",
       "      <th>Ethnicity_ Black</th>\n",
       "      <th>Ethnicity_ Other</th>\n",
       "      <th>Ethnicity_ White</th>\n",
       "      <th>Gender_ Female</th>\n",
       "      <th>Gender_ Male</th>\n",
       "    </tr>\n",
       "  </thead>\n",
       "  <tbody>\n",
       "    <tr>\n",
       "      <th>3413</th>\n",
       "      <td>3.555348</td>\n",
       "      <td>12.739465</td>\n",
       "      <td>8.895493</td>\n",
       "      <td>0.0</td>\n",
       "      <td>1.135322</td>\n",
       "      <td>1.589234</td>\n",
       "      <td>0</td>\n",
       "      <td>0</td>\n",
       "      <td>0</td>\n",
       "      <td>1</td>\n",
       "      <td>...</td>\n",
       "      <td>0</td>\n",
       "      <td>0</td>\n",
       "      <td>0</td>\n",
       "      <td>0</td>\n",
       "      <td>0</td>\n",
       "      <td>0</td>\n",
       "      <td>0</td>\n",
       "      <td>1</td>\n",
       "      <td>0</td>\n",
       "      <td>1</td>\n",
       "    </tr>\n",
       "    <tr>\n",
       "      <th>1610</th>\n",
       "      <td>4.077537</td>\n",
       "      <td>12.262207</td>\n",
       "      <td>0.000000</td>\n",
       "      <td>0.0</td>\n",
       "      <td>-0.808545</td>\n",
       "      <td>0.939509</td>\n",
       "      <td>0</td>\n",
       "      <td>0</td>\n",
       "      <td>0</td>\n",
       "      <td>0</td>\n",
       "      <td>...</td>\n",
       "      <td>0</td>\n",
       "      <td>0</td>\n",
       "      <td>0</td>\n",
       "      <td>0</td>\n",
       "      <td>0</td>\n",
       "      <td>0</td>\n",
       "      <td>0</td>\n",
       "      <td>1</td>\n",
       "      <td>1</td>\n",
       "      <td>0</td>\n",
       "    </tr>\n",
       "    <tr>\n",
       "      <th>3459</th>\n",
       "      <td>3.091042</td>\n",
       "      <td>12.784855</td>\n",
       "      <td>0.000000</td>\n",
       "      <td>0.0</td>\n",
       "      <td>-0.419772</td>\n",
       "      <td>-0.035080</td>\n",
       "      <td>0</td>\n",
       "      <td>0</td>\n",
       "      <td>0</td>\n",
       "      <td>0</td>\n",
       "      <td>...</td>\n",
       "      <td>0</td>\n",
       "      <td>1</td>\n",
       "      <td>0</td>\n",
       "      <td>0</td>\n",
       "      <td>0</td>\n",
       "      <td>0</td>\n",
       "      <td>0</td>\n",
       "      <td>1</td>\n",
       "      <td>1</td>\n",
       "      <td>0</td>\n",
       "    </tr>\n",
       "    <tr>\n",
       "      <th>4293</th>\n",
       "      <td>3.526361</td>\n",
       "      <td>12.238119</td>\n",
       "      <td>0.000000</td>\n",
       "      <td>0.0</td>\n",
       "      <td>-0.030998</td>\n",
       "      <td>-0.035080</td>\n",
       "      <td>0</td>\n",
       "      <td>0</td>\n",
       "      <td>0</td>\n",
       "      <td>1</td>\n",
       "      <td>...</td>\n",
       "      <td>0</td>\n",
       "      <td>0</td>\n",
       "      <td>0</td>\n",
       "      <td>0</td>\n",
       "      <td>0</td>\n",
       "      <td>0</td>\n",
       "      <td>0</td>\n",
       "      <td>1</td>\n",
       "      <td>0</td>\n",
       "      <td>1</td>\n",
       "    </tr>\n",
       "    <tr>\n",
       "      <th>1039</th>\n",
       "      <td>3.555348</td>\n",
       "      <td>12.009510</td>\n",
       "      <td>0.000000</td>\n",
       "      <td>0.0</td>\n",
       "      <td>-1.197318</td>\n",
       "      <td>-2.633982</td>\n",
       "      <td>0</td>\n",
       "      <td>0</td>\n",
       "      <td>0</td>\n",
       "      <td>0</td>\n",
       "      <td>...</td>\n",
       "      <td>0</td>\n",
       "      <td>0</td>\n",
       "      <td>1</td>\n",
       "      <td>0</td>\n",
       "      <td>0</td>\n",
       "      <td>0</td>\n",
       "      <td>0</td>\n",
       "      <td>1</td>\n",
       "      <td>1</td>\n",
       "      <td>0</td>\n",
       "    </tr>\n",
       "  </tbody>\n",
       "</table>\n",
       "<p>5 rows × 64 columns</p>\n",
       "</div>"
      ],
      "text/plain": [
       "           Age  Weighing_Factor  Gains_FA  Loss_FA  Schooling  Working_Time  \\\n",
       "3413  3.555348        12.739465  8.895493      0.0   1.135322      1.589234   \n",
       "1610  4.077537        12.262207  0.000000      0.0  -0.808545      0.939509   \n",
       "3459  3.091042        12.784855  0.000000      0.0  -0.419772     -0.035080   \n",
       "4293  3.526361        12.238119  0.000000      0.0  -0.030998     -0.035080   \n",
       "1039  3.555348        12.009510  0.000000      0.0  -1.197318     -2.633982   \n",
       "\n",
       "      Employment_Type_ Federal-gov  Employment_Type_ Local-gov  \\\n",
       "3413                             0                           0   \n",
       "1610                             0                           0   \n",
       "3459                             0                           0   \n",
       "4293                             0                           0   \n",
       "1039                             0                           0   \n",
       "\n",
       "      Employment_Type_ Never-worked  Employment_Type_ Private  ...  \\\n",
       "3413                              0                         1  ...   \n",
       "1610                              0                         0  ...   \n",
       "3459                              0                         0  ...   \n",
       "4293                              0                         1  ...   \n",
       "1039                              0                         0  ...   \n",
       "\n",
       "      Partnership_ Own-child  Partnership_ Unmarried  Partnership_ Wife  \\\n",
       "3413                       0                       0                  0   \n",
       "1610                       0                       0                  0   \n",
       "3459                       0                       1                  0   \n",
       "4293                       0                       0                  0   \n",
       "1039                       0                       0                  1   \n",
       "\n",
       "      Ethnicity_ Amer-Indian-Eskimo  Ethnicity_ Asian-Pac-Islander  \\\n",
       "3413                              0                              0   \n",
       "1610                              0                              0   \n",
       "3459                              0                              0   \n",
       "4293                              0                              0   \n",
       "1039                              0                              0   \n",
       "\n",
       "      Ethnicity_ Black  Ethnicity_ Other  Ethnicity_ White  Gender_ Female  \\\n",
       "3413                 0                 0                 1               0   \n",
       "1610                 0                 0                 1               1   \n",
       "3459                 0                 0                 1               1   \n",
       "4293                 0                 0                 1               0   \n",
       "1039                 0                 0                 1               1   \n",
       "\n",
       "      Gender_ Male  \n",
       "3413             1  \n",
       "1610             0  \n",
       "3459             0  \n",
       "4293             1  \n",
       "1039             0  \n",
       "\n",
       "[5 rows x 64 columns]"
      ]
     },
     "execution_count": 69,
     "metadata": {},
     "output_type": "execute_result"
    }
   ],
   "source": [
    "X_train.head()"
   ]
  },
  {
   "cell_type": "code",
   "execution_count": 70,
   "metadata": {},
   "outputs": [
    {
     "data": {
      "text/plain": [
       "3413    1.0\n",
       "1610   -1.0\n",
       "3459   -1.0\n",
       "4293   -1.0\n",
       "1039   -1.0\n",
       "Name: Income, dtype: float64"
      ]
     },
     "execution_count": 70,
     "metadata": {},
     "output_type": "execute_result"
    }
   ],
   "source": [
    "y_train.head()"
   ]
  },
  {
   "cell_type": "code",
   "execution_count": 71,
   "metadata": {},
   "outputs": [],
   "source": [
    "X_train_nn = X_train.to_numpy()\n",
    "y_train_nn = tf.keras.utils.to_categorical(y_train.replace({-1:2,1:1}))"
   ]
  },
  {
   "cell_type": "code",
   "execution_count": 72,
   "metadata": {},
   "outputs": [
    {
     "data": {
      "text/plain": [
       "array([[ 3.55534806, 12.73946472,  8.89549263,  0.        ,  1.13532183,\n",
       "         1.5892344 ,  0.        ,  0.        ,  0.        ,  1.        ,\n",
       "         0.        ,  0.        ,  0.        ,  0.        ,  0.        ,\n",
       "         0.        ,  0.        ,  0.        ,  0.        ,  0.        ,\n",
       "         0.        ,  0.        ,  0.        ,  1.        ,  0.        ,\n",
       "         0.        ,  0.        ,  0.        ,  0.        ,  0.        ,\n",
       "         0.        ,  0.        ,  1.        ,  0.        ,  0.        ,\n",
       "         0.        ,  0.        ,  0.        ,  0.        ,  0.        ,\n",
       "         0.        ,  0.        ,  0.        ,  0.        ,  0.        ,\n",
       "         0.        ,  0.        ,  0.        ,  1.        ,  0.        ,\n",
       "         0.        ,  1.        ,  0.        ,  0.        ,  0.        ,\n",
       "         0.        ,  0.        ,  0.        ,  0.        ,  0.        ,\n",
       "         0.        ,  1.        ,  0.        ,  1.        ],\n",
       "       [ 4.07753744, 12.2622072 ,  0.        ,  0.        , -0.80854488,\n",
       "         0.93950873,  0.        ,  0.        ,  0.        ,  0.        ,\n",
       "         0.        ,  1.        ,  0.        ,  0.        ,  0.        ,\n",
       "         0.        ,  1.        ,  0.        ,  0.        ,  0.        ,\n",
       "         0.        ,  0.        ,  0.        ,  0.        ,  0.        ,\n",
       "         0.        ,  0.        ,  0.        ,  0.        ,  0.        ,\n",
       "         1.        ,  0.        ,  0.        ,  0.        ,  0.        ,\n",
       "         0.        ,  0.        ,  0.        ,  0.        ,  0.        ,\n",
       "         0.        ,  0.        ,  0.        ,  0.        ,  0.        ,\n",
       "         0.        ,  0.        ,  0.        ,  1.        ,  0.        ,\n",
       "         0.        ,  0.        ,  1.        ,  0.        ,  0.        ,\n",
       "         0.        ,  0.        ,  0.        ,  0.        ,  0.        ,\n",
       "         0.        ,  1.        ,  1.        ,  0.        ],\n",
       "       [ 3.09104245, 12.784855  ,  0.        ,  0.        , -0.41977154,\n",
       "        -0.03507977,  0.        ,  0.        ,  0.        ,  0.        ,\n",
       "         0.        ,  0.        ,  0.        ,  0.        ,  0.        ,\n",
       "         0.        ,  0.        ,  0.        ,  0.        ,  0.        ,\n",
       "         0.        ,  0.        ,  0.        ,  0.        ,  0.        ,\n",
       "         1.        ,  0.        ,  0.        ,  0.        ,  0.        ,\n",
       "         0.        ,  0.        ,  0.        ,  0.        ,  1.        ,\n",
       "         0.        ,  0.        ,  0.        ,  0.        ,  0.        ,\n",
       "         0.        ,  0.        ,  0.        ,  0.        ,  0.        ,\n",
       "         0.        ,  0.        ,  0.        ,  0.        ,  0.        ,\n",
       "         0.        ,  0.        ,  0.        ,  0.        ,  0.        ,\n",
       "         1.        ,  0.        ,  0.        ,  0.        ,  0.        ,\n",
       "         0.        ,  1.        ,  1.        ,  0.        ],\n",
       "       [ 3.52636052, 12.23811864,  0.        ,  0.        , -0.03099819,\n",
       "        -0.03507977,  0.        ,  0.        ,  0.        ,  1.        ,\n",
       "         0.        ,  0.        ,  0.        ,  0.        ,  0.        ,\n",
       "         0.        ,  0.        ,  0.        ,  0.        ,  0.        ,\n",
       "         0.        ,  0.        ,  0.        ,  0.        ,  0.        ,\n",
       "         0.        ,  0.        ,  0.        ,  0.        ,  1.        ,\n",
       "         1.        ,  0.        ,  0.        ,  0.        ,  0.        ,\n",
       "         0.        ,  0.        ,  0.        ,  0.        ,  0.        ,\n",
       "         0.        ,  0.        ,  0.        ,  0.        ,  0.        ,\n",
       "         0.        ,  1.        ,  0.        ,  0.        ,  0.        ,\n",
       "         0.        ,  0.        ,  1.        ,  0.        ,  0.        ,\n",
       "         0.        ,  0.        ,  0.        ,  0.        ,  0.        ,\n",
       "         0.        ,  1.        ,  0.        ,  1.        ],\n",
       "       [ 3.55534806, 12.00951017,  0.        ,  0.        , -1.19731822,\n",
       "        -2.63398245,  0.        ,  0.        ,  0.        ,  0.        ,\n",
       "         0.        ,  0.        ,  0.        ,  0.        ,  0.        ,\n",
       "         1.        ,  0.        ,  0.        ,  0.        ,  0.        ,\n",
       "         0.        ,  0.        ,  0.        ,  0.        ,  0.        ,\n",
       "         0.        ,  0.        ,  0.        ,  0.        ,  0.        ,\n",
       "         0.        ,  0.        ,  1.        ,  0.        ,  0.        ,\n",
       "         0.        ,  0.        ,  0.        ,  0.        ,  0.        ,\n",
       "         0.        ,  0.        ,  0.        ,  0.        ,  0.        ,\n",
       "         0.        ,  0.        ,  0.        ,  0.        ,  0.        ,\n",
       "         0.        ,  0.        ,  0.        ,  0.        ,  0.        ,\n",
       "         0.        ,  1.        ,  0.        ,  0.        ,  0.        ,\n",
       "         0.        ,  1.        ,  1.        ,  0.        ]])"
      ]
     },
     "execution_count": 72,
     "metadata": {},
     "output_type": "execute_result"
    }
   ],
   "source": [
    "X_train_nn[0:5]"
   ]
  },
  {
   "cell_type": "code",
   "execution_count": 74,
   "metadata": {},
   "outputs": [
    {
     "data": {
      "text/plain": [
       "array([[0., 1., 0.],\n",
       "       [0., 0., 1.],\n",
       "       [0., 0., 1.],\n",
       "       [0., 0., 1.],\n",
       "       [0., 0., 1.]], dtype=float32)"
      ]
     },
     "execution_count": 74,
     "metadata": {},
     "output_type": "execute_result"
    }
   ],
   "source": [
    "y_train_nn[0:5]"
   ]
  },
  {
   "cell_type": "code",
   "execution_count": 75,
   "metadata": {},
   "outputs": [
    {
     "name": "stdout",
     "output_type": "stream",
     "text": [
      "(4000, 64)\n",
      "(4000, 3)\n"
     ]
    }
   ],
   "source": [
    "print(X_train_nn.shape)\n",
    "print(y_train_nn.shape)"
   ]
  },
  {
   "cell_type": "code",
   "execution_count": 79,
   "metadata": {},
   "outputs": [],
   "source": [
    "model = Sequential()\n",
    "\n",
    "model.add(tf.keras.Input(X_train_nn.shape[1]))\n",
    "model.add(Dense(128,activation='relu',input_shape = (64,)))\n",
    "model.add(Dense(64,activation='relu',input_shape = (128,)))\n",
    "model.add(Dense(3,activation=\"sigmoid\",input_shape = (64,)))\n",
    "\n",
    "model.compile(optimizer=\"adam\",loss=\"binary_crossentropy\",metrics=[tf.keras.metrics.CategoricalAccuracy()])"
   ]
  },
  {
   "cell_type": "code",
   "execution_count": 80,
   "metadata": {},
   "outputs": [
    {
     "name": "stdout",
     "output_type": "stream",
     "text": [
      "Model: \"sequential_7\"\n",
      "_________________________________________________________________\n",
      " Layer (type)                Output Shape              Param #   \n",
      "=================================================================\n",
      " dense_21 (Dense)            (None, 128)               8320      \n",
      "                                                                 \n",
      " dense_22 (Dense)            (None, 64)                8256      \n",
      "                                                                 \n",
      " dense_23 (Dense)            (None, 3)                 195       \n",
      "                                                                 \n",
      "=================================================================\n",
      "Total params: 16,771\n",
      "Trainable params: 16,771\n",
      "Non-trainable params: 0\n",
      "_________________________________________________________________\n"
     ]
    }
   ],
   "source": [
    "model.summary()"
   ]
  },
  {
   "cell_type": "code",
   "execution_count": 81,
   "metadata": {},
   "outputs": [
    {
     "name": "stdout",
     "output_type": "stream",
     "text": [
      "Epoch 1/30\n"
     ]
    },
    {
     "name": "stdout",
     "output_type": "stream",
     "text": [
      "1000/1000 [==============================] - 2s 2ms/step - loss: 0.2515 - categorical_accuracy: 0.8185\n",
      "Epoch 2/30\n",
      "1000/1000 [==============================] - 2s 2ms/step - loss: 0.2276 - categorical_accuracy: 0.8342\n",
      "Epoch 3/30\n",
      "1000/1000 [==============================] - 2s 2ms/step - loss: 0.2230 - categorical_accuracy: 0.8425\n",
      "Epoch 4/30\n",
      "1000/1000 [==============================] - 2s 2ms/step - loss: 0.2183 - categorical_accuracy: 0.8455\n",
      "Epoch 5/30\n",
      "1000/1000 [==============================] - 2s 2ms/step - loss: 0.2140 - categorical_accuracy: 0.8465\n",
      "Epoch 6/30\n",
      "1000/1000 [==============================] - 2s 2ms/step - loss: 0.2096 - categorical_accuracy: 0.8515\n",
      "Epoch 7/30\n",
      "1000/1000 [==============================] - 2s 2ms/step - loss: 0.2054 - categorical_accuracy: 0.8540\n",
      "Epoch 8/30\n",
      "1000/1000 [==============================] - 2s 2ms/step - loss: 0.2035 - categorical_accuracy: 0.8525\n",
      "Epoch 9/30\n",
      "1000/1000 [==============================] - 2s 2ms/step - loss: 0.1988 - categorical_accuracy: 0.8528\n",
      "Epoch 10/30\n",
      "1000/1000 [==============================] - 2s 2ms/step - loss: 0.1949 - categorical_accuracy: 0.8572\n",
      "Epoch 11/30\n",
      "1000/1000 [==============================] - 2s 2ms/step - loss: 0.1902 - categorical_accuracy: 0.8595\n",
      "Epoch 12/30\n",
      "1000/1000 [==============================] - 2s 2ms/step - loss: 0.1890 - categorical_accuracy: 0.8660\n",
      "Epoch 13/30\n",
      "1000/1000 [==============================] - 2s 2ms/step - loss: 0.1839 - categorical_accuracy: 0.8690\n",
      "Epoch 14/30\n",
      "1000/1000 [==============================] - 2s 2ms/step - loss: 0.1802 - categorical_accuracy: 0.8680\n",
      "Epoch 15/30\n",
      "1000/1000 [==============================] - 2s 2ms/step - loss: 0.1787 - categorical_accuracy: 0.8692\n",
      "Epoch 16/30\n",
      "1000/1000 [==============================] - 2s 2ms/step - loss: 0.1743 - categorical_accuracy: 0.8715\n",
      "Epoch 17/30\n",
      "1000/1000 [==============================] - 1s 1ms/step - loss: 0.1735 - categorical_accuracy: 0.8740\n",
      "Epoch 18/30\n",
      "1000/1000 [==============================] - 2s 2ms/step - loss: 0.1665 - categorical_accuracy: 0.8735\n",
      "Epoch 19/30\n",
      "1000/1000 [==============================] - 2s 2ms/step - loss: 0.1643 - categorical_accuracy: 0.8790\n",
      "Epoch 20/30\n",
      "1000/1000 [==============================] - 2s 2ms/step - loss: 0.1611 - categorical_accuracy: 0.8845\n",
      "Epoch 21/30\n",
      "1000/1000 [==============================] - 2s 2ms/step - loss: 0.1577 - categorical_accuracy: 0.8865\n",
      "Epoch 22/30\n",
      "1000/1000 [==============================] - 2s 2ms/step - loss: 0.1560 - categorical_accuracy: 0.8890\n",
      "Epoch 23/30\n",
      "1000/1000 [==============================] - 2s 2ms/step - loss: 0.1522 - categorical_accuracy: 0.8860\n",
      "Epoch 24/30\n",
      "1000/1000 [==============================] - 2s 2ms/step - loss: 0.1489 - categorical_accuracy: 0.8898\n",
      "Epoch 25/30\n",
      "1000/1000 [==============================] - 2s 2ms/step - loss: 0.1473 - categorical_accuracy: 0.8917\n",
      "Epoch 26/30\n",
      "1000/1000 [==============================] - 2s 2ms/step - loss: 0.1445 - categorical_accuracy: 0.8955\n",
      "Epoch 27/30\n",
      "1000/1000 [==============================] - 2s 2ms/step - loss: 0.1432 - categorical_accuracy: 0.8978\n",
      "Epoch 28/30\n",
      "1000/1000 [==============================] - 2s 2ms/step - loss: 0.1375 - categorical_accuracy: 0.9000\n",
      "Epoch 29/30\n",
      "1000/1000 [==============================] - 2s 2ms/step - loss: 0.1367 - categorical_accuracy: 0.8995\n",
      "Epoch 30/30\n",
      "1000/1000 [==============================] - 2s 2ms/step - loss: 0.1350 - categorical_accuracy: 0.8985\n"
     ]
    },
    {
     "data": {
      "text/plain": [
       "<keras.callbacks.History at 0x1f87dbc8ee0>"
      ]
     },
     "execution_count": 81,
     "metadata": {},
     "output_type": "execute_result"
    }
   ],
   "source": [
    "model.fit(X_train_nn,y_train_nn,epochs=30,batch_size=4)"
   ]
  },
  {
   "cell_type": "code",
   "execution_count": 82,
   "metadata": {},
   "outputs": [],
   "source": [
    "from sklearn.metrics import classification_report"
   ]
  },
  {
   "cell_type": "code",
   "execution_count": 86,
   "metadata": {},
   "outputs": [
    {
     "data": {
      "text/html": [
       "<div>\n",
       "<style scoped>\n",
       "    .dataframe tbody tr th:only-of-type {\n",
       "        vertical-align: middle;\n",
       "    }\n",
       "\n",
       "    .dataframe tbody tr th {\n",
       "        vertical-align: top;\n",
       "    }\n",
       "\n",
       "    .dataframe thead th {\n",
       "        text-align: right;\n",
       "    }\n",
       "</style>\n",
       "<table border=\"1\" class=\"dataframe\">\n",
       "  <thead>\n",
       "    <tr style=\"text-align: right;\">\n",
       "      <th></th>\n",
       "      <th>Age</th>\n",
       "      <th>Weighing_Factor</th>\n",
       "      <th>Gains_FA</th>\n",
       "      <th>Loss_FA</th>\n",
       "      <th>Schooling</th>\n",
       "      <th>Working_Time</th>\n",
       "      <th>Employment_Type_ Federal-gov</th>\n",
       "      <th>Employment_Type_ Local-gov</th>\n",
       "      <th>Employment_Type_ Never-worked</th>\n",
       "      <th>Employment_Type_ Private</th>\n",
       "      <th>...</th>\n",
       "      <th>Partnership_ Own-child</th>\n",
       "      <th>Partnership_ Unmarried</th>\n",
       "      <th>Partnership_ Wife</th>\n",
       "      <th>Ethnicity_ Amer-Indian-Eskimo</th>\n",
       "      <th>Ethnicity_ Asian-Pac-Islander</th>\n",
       "      <th>Ethnicity_ Black</th>\n",
       "      <th>Ethnicity_ Other</th>\n",
       "      <th>Ethnicity_ White</th>\n",
       "      <th>Gender_ Female</th>\n",
       "      <th>Gender_ Male</th>\n",
       "    </tr>\n",
       "  </thead>\n",
       "  <tbody>\n",
       "    <tr>\n",
       "      <th>1718</th>\n",
       "      <td>3.583519</td>\n",
       "      <td>10.321606</td>\n",
       "      <td>0.0</td>\n",
       "      <td>0.0</td>\n",
       "      <td>1.135322</td>\n",
       "      <td>0.370999</td>\n",
       "      <td>0</td>\n",
       "      <td>0</td>\n",
       "      <td>0</td>\n",
       "      <td>1</td>\n",
       "      <td>...</td>\n",
       "      <td>0</td>\n",
       "      <td>0</td>\n",
       "      <td>0</td>\n",
       "      <td>0</td>\n",
       "      <td>0</td>\n",
       "      <td>0</td>\n",
       "      <td>0</td>\n",
       "      <td>1</td>\n",
       "      <td>0</td>\n",
       "      <td>1</td>\n",
       "    </tr>\n",
       "    <tr>\n",
       "      <th>2511</th>\n",
       "      <td>4.262680</td>\n",
       "      <td>12.477420</td>\n",
       "      <td>0.0</td>\n",
       "      <td>0.0</td>\n",
       "      <td>-0.030998</td>\n",
       "      <td>-2.796414</td>\n",
       "      <td>0</td>\n",
       "      <td>0</td>\n",
       "      <td>0</td>\n",
       "      <td>1</td>\n",
       "      <td>...</td>\n",
       "      <td>0</td>\n",
       "      <td>0</td>\n",
       "      <td>0</td>\n",
       "      <td>0</td>\n",
       "      <td>0</td>\n",
       "      <td>0</td>\n",
       "      <td>0</td>\n",
       "      <td>1</td>\n",
       "      <td>1</td>\n",
       "      <td>0</td>\n",
       "    </tr>\n",
       "    <tr>\n",
       "      <th>345</th>\n",
       "      <td>3.784190</td>\n",
       "      <td>12.396263</td>\n",
       "      <td>0.0</td>\n",
       "      <td>0.0</td>\n",
       "      <td>1.135322</td>\n",
       "      <td>0.127352</td>\n",
       "      <td>0</td>\n",
       "      <td>0</td>\n",
       "      <td>0</td>\n",
       "      <td>0</td>\n",
       "      <td>...</td>\n",
       "      <td>0</td>\n",
       "      <td>0</td>\n",
       "      <td>0</td>\n",
       "      <td>0</td>\n",
       "      <td>0</td>\n",
       "      <td>0</td>\n",
       "      <td>0</td>\n",
       "      <td>1</td>\n",
       "      <td>0</td>\n",
       "      <td>1</td>\n",
       "    </tr>\n",
       "    <tr>\n",
       "      <th>2521</th>\n",
       "      <td>4.007333</td>\n",
       "      <td>12.042294</td>\n",
       "      <td>0.0</td>\n",
       "      <td>0.0</td>\n",
       "      <td>1.524095</td>\n",
       "      <td>-0.035080</td>\n",
       "      <td>0</td>\n",
       "      <td>0</td>\n",
       "      <td>0</td>\n",
       "      <td>0</td>\n",
       "      <td>...</td>\n",
       "      <td>0</td>\n",
       "      <td>0</td>\n",
       "      <td>0</td>\n",
       "      <td>0</td>\n",
       "      <td>0</td>\n",
       "      <td>0</td>\n",
       "      <td>0</td>\n",
       "      <td>1</td>\n",
       "      <td>1</td>\n",
       "      <td>0</td>\n",
       "    </tr>\n",
       "    <tr>\n",
       "      <th>54</th>\n",
       "      <td>3.871201</td>\n",
       "      <td>11.606716</td>\n",
       "      <td>0.0</td>\n",
       "      <td>0.0</td>\n",
       "      <td>-0.419772</td>\n",
       "      <td>1.589234</td>\n",
       "      <td>0</td>\n",
       "      <td>0</td>\n",
       "      <td>0</td>\n",
       "      <td>0</td>\n",
       "      <td>...</td>\n",
       "      <td>0</td>\n",
       "      <td>0</td>\n",
       "      <td>0</td>\n",
       "      <td>0</td>\n",
       "      <td>0</td>\n",
       "      <td>0</td>\n",
       "      <td>0</td>\n",
       "      <td>1</td>\n",
       "      <td>0</td>\n",
       "      <td>1</td>\n",
       "    </tr>\n",
       "  </tbody>\n",
       "</table>\n",
       "<p>5 rows × 64 columns</p>\n",
       "</div>"
      ],
      "text/plain": [
       "           Age  Weighing_Factor  Gains_FA  Loss_FA  Schooling  Working_Time  \\\n",
       "1718  3.583519        10.321606       0.0      0.0   1.135322      0.370999   \n",
       "2511  4.262680        12.477420       0.0      0.0  -0.030998     -2.796414   \n",
       "345   3.784190        12.396263       0.0      0.0   1.135322      0.127352   \n",
       "2521  4.007333        12.042294       0.0      0.0   1.524095     -0.035080   \n",
       "54    3.871201        11.606716       0.0      0.0  -0.419772      1.589234   \n",
       "\n",
       "      Employment_Type_ Federal-gov  Employment_Type_ Local-gov  \\\n",
       "1718                             0                           0   \n",
       "2511                             0                           0   \n",
       "345                              0                           0   \n",
       "2521                             0                           0   \n",
       "54                               0                           0   \n",
       "\n",
       "      Employment_Type_ Never-worked  Employment_Type_ Private  ...  \\\n",
       "1718                              0                         1  ...   \n",
       "2511                              0                         1  ...   \n",
       "345                               0                         0  ...   \n",
       "2521                              0                         0  ...   \n",
       "54                                0                         0  ...   \n",
       "\n",
       "      Partnership_ Own-child  Partnership_ Unmarried  Partnership_ Wife  \\\n",
       "1718                       0                       0                  0   \n",
       "2511                       0                       0                  0   \n",
       "345                        0                       0                  0   \n",
       "2521                       0                       0                  0   \n",
       "54                         0                       0                  0   \n",
       "\n",
       "      Ethnicity_ Amer-Indian-Eskimo  Ethnicity_ Asian-Pac-Islander  \\\n",
       "1718                              0                              0   \n",
       "2511                              0                              0   \n",
       "345                               0                              0   \n",
       "2521                              0                              0   \n",
       "54                                0                              0   \n",
       "\n",
       "      Ethnicity_ Black  Ethnicity_ Other  Ethnicity_ White  Gender_ Female  \\\n",
       "1718                 0                 0                 1               0   \n",
       "2511                 0                 0                 1               1   \n",
       "345                  0                 0                 1               0   \n",
       "2521                 0                 0                 1               1   \n",
       "54                   0                 0                 1               0   \n",
       "\n",
       "      Gender_ Male  \n",
       "1718             1  \n",
       "2511             0  \n",
       "345              1  \n",
       "2521             0  \n",
       "54               1  \n",
       "\n",
       "[5 rows x 64 columns]"
      ]
     },
     "execution_count": 86,
     "metadata": {},
     "output_type": "execute_result"
    }
   ],
   "source": [
    "X_test.head()"
   ]
  },
  {
   "cell_type": "code",
   "execution_count": 88,
   "metadata": {},
   "outputs": [
    {
     "data": {
      "text/plain": [
       "1718    1.0\n",
       "2511   -1.0\n",
       "345    -1.0\n",
       "2521   -1.0\n",
       "54     -1.0\n",
       "Name: Income, dtype: float64"
      ]
     },
     "execution_count": 88,
     "metadata": {},
     "output_type": "execute_result"
    }
   ],
   "source": [
    "y_test.head()"
   ]
  },
  {
   "cell_type": "code",
   "execution_count": 89,
   "metadata": {},
   "outputs": [
    {
     "data": {
      "text/plain": [
       "array([1., 2., 2., 2., 2.])"
      ]
     },
     "execution_count": 89,
     "metadata": {},
     "output_type": "execute_result"
    }
   ],
   "source": [
    "y_test_nn = y_test.replace({-1:2,1:1}).to_numpy()\n",
    "y_test_nn[0:5]"
   ]
  },
  {
   "cell_type": "code",
   "execution_count": 90,
   "metadata": {},
   "outputs": [
    {
     "name": "stdout",
     "output_type": "stream",
     "text": [
      "              precision    recall  f1-score   support\n",
      "\n",
      "         1.0       0.64      0.56      0.60       245\n",
      "         2.0       0.86      0.90      0.88       755\n",
      "\n",
      "    accuracy                           0.81      1000\n",
      "   macro avg       0.75      0.73      0.74      1000\n",
      "weighted avg       0.81      0.81      0.81      1000\n",
      "\n"
     ]
    }
   ],
   "source": [
    "prediction = model.predict(X_test.to_numpy())\n",
    "print(classification_report(y_test_nn,np.argmax(prediction,axis=1)))"
   ]
  },
  {
   "cell_type": "code",
   "execution_count": 148,
   "metadata": {},
   "outputs": [
    {
     "data": {
      "text/plain": [
       "array([[0.00000000e+00, 1.00000000e+00, 2.63006434e-08],\n",
       "       [0.00000000e+00, 1.36226416e-04, 9.99882460e-01],\n",
       "       [2.59336713e-15, 9.72018719e-01, 2.86515355e-02],\n",
       "       ...,\n",
       "       [1.19514602e-15, 6.34408295e-02, 9.39150453e-01],\n",
       "       [2.27122438e-17, 1.52870715e-02, 9.82439756e-01],\n",
       "       [2.38570708e-11, 1.07167959e-01, 8.66585732e-01]], dtype=float32)"
      ]
     },
     "execution_count": 148,
     "metadata": {},
     "output_type": "execute_result"
    }
   ],
   "source": [
    "predict_incomes = model.predict(X_pred)\n",
    "predict_incomes"
   ]
  },
  {
   "cell_type": "code",
   "execution_count": 200,
   "metadata": {},
   "outputs": [
    {
     "name": "stdout",
     "output_type": "stream",
     "text": [
      " <=50K    19619\n",
      " >50K      5381\n",
      "dtype: int64\n"
     ]
    },
    {
     "data": {
      "image/png": "[encoded data removed]",
      "text/plain": [
       "<Figure size 432x288 with 1 Axes>"
      ]
     },
     "metadata": {
      "needs_background": "light"
     },
     "output_type": "display_data"
    }
   ],
   "source": [
    "sns.histplot(pd.Series(np.argmax(predict_incomes,axis=1)).replace({1:\" >50K\",2: \" <=50K\"}));\n",
    "print(pd.Series(np.argmax(predict_incomes,axis=1)).replace({1:\" >50K\",2: \" <=50K\"}).value_counts())"
   ]
  },
  {
   "cell_type": "markdown",
   "metadata": {},
   "source": [
    "---"
   ]
  },
  {
   "cell_type": "code",
   "execution_count": 178,
   "metadata": {},
   "outputs": [
    {
     "data": {
      "text/html": [
       "<div>\n",
       "<style scoped>\n",
       "    .dataframe tbody tr th:only-of-type {\n",
       "        vertical-align: middle;\n",
       "    }\n",
       "\n",
       "    .dataframe tbody tr th {\n",
       "        vertical-align: top;\n",
       "    }\n",
       "\n",
       "    .dataframe thead th {\n",
       "        text-align: right;\n",
       "    }\n",
       "</style>\n",
       "<table border=\"1\" class=\"dataframe\">\n",
       "  <thead>\n",
       "    <tr style=\"text-align: right;\">\n",
       "      <th></th>\n",
       "      <th>Age</th>\n",
       "      <th>Employment_Type</th>\n",
       "      <th>Education_Level</th>\n",
       "      <th>Schooling</th>\n",
       "      <th>Marital_Status</th>\n",
       "      <th>Employment_Area</th>\n",
       "      <th>Partnership</th>\n",
       "      <th>Gender</th>\n",
       "      <th>Working_Time</th>\n",
       "      <th>Income</th>\n",
       "    </tr>\n",
       "  </thead>\n",
       "  <tbody>\n",
       "    <tr>\n",
       "      <th>0</th>\n",
       "      <td>39</td>\n",
       "      <td>State-gov</td>\n",
       "      <td>Bachelors</td>\n",
       "      <td>13</td>\n",
       "      <td>Never-married</td>\n",
       "      <td>Adm-clerical</td>\n",
       "      <td>Not-in-family</td>\n",
       "      <td>Male</td>\n",
       "      <td>40</td>\n",
       "      <td>&lt;=50K</td>\n",
       "    </tr>\n",
       "    <tr>\n",
       "      <th>1</th>\n",
       "      <td>50</td>\n",
       "      <td>Self-emp-not-inc</td>\n",
       "      <td>Bachelors</td>\n",
       "      <td>13</td>\n",
       "      <td>Married-civ-spouse</td>\n",
       "      <td>Exec-managerial</td>\n",
       "      <td>Husband</td>\n",
       "      <td>Male</td>\n",
       "      <td>13</td>\n",
       "      <td>&lt;=50K</td>\n",
       "    </tr>\n",
       "    <tr>\n",
       "      <th>2</th>\n",
       "      <td>38</td>\n",
       "      <td>Private</td>\n",
       "      <td>HS-grad</td>\n",
       "      <td>9</td>\n",
       "      <td>Divorced</td>\n",
       "      <td>Handlers-cleaners</td>\n",
       "      <td>Not-in-family</td>\n",
       "      <td>Male</td>\n",
       "      <td>40</td>\n",
       "      <td>&lt;=50K</td>\n",
       "    </tr>\n",
       "    <tr>\n",
       "      <th>3</th>\n",
       "      <td>53</td>\n",
       "      <td>Private</td>\n",
       "      <td>11th</td>\n",
       "      <td>7</td>\n",
       "      <td>Married-civ-spouse</td>\n",
       "      <td>Handlers-cleaners</td>\n",
       "      <td>Husband</td>\n",
       "      <td>Male</td>\n",
       "      <td>40</td>\n",
       "      <td>&lt;=50K</td>\n",
       "    </tr>\n",
       "    <tr>\n",
       "      <th>4</th>\n",
       "      <td>28</td>\n",
       "      <td>Private</td>\n",
       "      <td>Bachelors</td>\n",
       "      <td>13</td>\n",
       "      <td>Married-civ-spouse</td>\n",
       "      <td>Prof-specialty</td>\n",
       "      <td>Wife</td>\n",
       "      <td>Female</td>\n",
       "      <td>40</td>\n",
       "      <td>&lt;=50K</td>\n",
       "    </tr>\n",
       "  </tbody>\n",
       "</table>\n",
       "</div>"
      ],
      "text/plain": [
       "   Age    Employment_Type Education_Level  Schooling       Marital_Status  \\\n",
       "0   39          State-gov       Bachelors         13        Never-married   \n",
       "1   50   Self-emp-not-inc       Bachelors         13   Married-civ-spouse   \n",
       "2   38            Private         HS-grad          9             Divorced   \n",
       "3   53            Private            11th          7   Married-civ-spouse   \n",
       "4   28            Private       Bachelors         13   Married-civ-spouse   \n",
       "\n",
       "      Employment_Area     Partnership   Gender  Working_Time  Income  \n",
       "0        Adm-clerical   Not-in-family     Male            40   <=50K  \n",
       "1     Exec-managerial         Husband     Male            13   <=50K  \n",
       "2   Handlers-cleaners   Not-in-family     Male            40   <=50K  \n",
       "3   Handlers-cleaners         Husband     Male            40   <=50K  \n",
       "4      Prof-specialty            Wife   Female            40   <=50K  "
      ]
     },
     "execution_count": 178,
     "metadata": {},
     "output_type": "execute_result"
    }
   ],
   "source": [
    "# data = pd.read_csv(\"./data/data.csv\")\n",
    "# data = data.drop(columns=[\"Unnamed: 0\"])\n",
    "# data.head()\n",
    "data = pd.read_csv(\"data/einkommen.train\",delimiter=\",\",header=None)\n",
    "data.columns = [\"Age\",\"Employment_Type\",\"Weighing_Factor\",\"Education_Level\",\"Schooling\",\"Marital_Status\",\"Employment_Area\",\"Partnership\",\"Ethnicity\",\"Gender\",\"Gains_FA\",\"Loss_FA\",\"Working_Time\",\"Country_of_Birth\",\"Income\"]\n",
    "data = data.drop(columns = [\"Weighing_Factor\",\"Gains_FA\",\"Loss_FA\",\"Ethnicity\",\"Country_of_Birth\"])\n",
    "data.head()"
   ]
  },
  {
   "cell_type": "code",
   "execution_count": 179,
   "metadata": {},
   "outputs": [],
   "source": [
    "X = data.drop(columns=[\"Income\"])\n",
    "X.fillna(\"Missing\",inplace=True)\n",
    "y = data[[\"Income\"]]"
   ]
  },
  {
   "cell_type": "code",
   "execution_count": 180,
   "metadata": {},
   "outputs": [],
   "source": [
    "label_encoding = {}\n",
    "for index, str_column in enumerate([column for column in X.columns.tolist() if X[column].dtypes == \"O\"]):\n",
    "    globals()[f\"LE_{index}\"] = LabelEncoder()\n",
    "    X[str_column] = globals()[f\"LE_{index}\"].fit_transform(X[str_column].tolist())\n",
    "    label_encoding[str_column] = globals()[f\"LE_{index}\"] "
   ]
  },
  {
   "cell_type": "code",
   "execution_count": 181,
   "metadata": {},
   "outputs": [
    {
     "data": {
      "text/plain": [
       "{'Employment_Type': LabelEncoder(),\n",
       " 'Education_Level': LabelEncoder(),\n",
       " 'Marital_Status': LabelEncoder(),\n",
       " 'Employment_Area': LabelEncoder(),\n",
       " 'Partnership': LabelEncoder(),\n",
       " 'Gender': LabelEncoder()}"
      ]
     },
     "execution_count": 181,
     "metadata": {},
     "output_type": "execute_result"
    }
   ],
   "source": [
    "label_encoding"
   ]
  },
  {
   "cell_type": "code",
   "execution_count": 182,
   "metadata": {},
   "outputs": [
    {
     "data": {
      "text/plain": [
       "array([[0.00550192, 0.00977187, 0.00472223, 0.00721497, 0.00765462,\n",
       "        0.0007389 , 0.00267103, 0.00705873, 0.00546407],\n",
       "       [0.00705375, 0.00837589, 0.00472223, 0.00721497, 0.00382731,\n",
       "        0.0029556 , 0.        , 0.00705873, 0.00177582],\n",
       "       [0.00536085, 0.00558392, 0.00577161, 0.00499498, 0.        ,\n",
       "        0.00443339, 0.00267103, 0.00705873, 0.00546407],\n",
       "       [0.00747697, 0.00558392, 0.00052469, 0.00388498, 0.00382731,\n",
       "        0.00443339, 0.        , 0.00705873, 0.00546407],\n",
       "       [0.0039501 , 0.00558392, 0.00472223, 0.00721497, 0.00382731,\n",
       "        0.00738899, 0.01335515, 0.        , 0.00546407]])"
      ]
     },
     "execution_count": 182,
     "metadata": {},
     "output_type": "execute_result"
    }
   ],
   "source": [
    "X_nn = X.to_numpy()\n",
    "X_nn_norm = X_nn/np.linalg.norm(X_nn,axis=0)\n",
    "X_nn_norm[0:5]"
   ]
  },
  {
   "cell_type": "code",
   "execution_count": 183,
   "metadata": {},
   "outputs": [
    {
     "data": {
      "text/plain": [
       "array([[ 0.03059408,  2.15127053, -0.3368399 ,  1.13532183,  0.91970621,\n",
       "        -1.31668895, -0.27816917,  0.70339769, -0.03507977],\n",
       "       [ 0.83660133,  1.46358282, -0.3368399 ,  1.13532183, -0.40656996,\n",
       "        -0.60747407, -0.90084303,  0.70339769, -2.22790391],\n",
       "       [-0.04267931,  0.08820741,  0.18051307, -0.41977154, -1.73284612,\n",
       "        -0.13466415, -0.27816917,  0.70339769, -0.03507977],\n",
       "       [ 1.05642149,  0.08820741, -2.40625178, -1.19731822, -0.40656996,\n",
       "        -0.13466415, -0.90084303,  0.70339769, -0.03507977],\n",
       "       [-0.77541317,  0.08820741, -0.3368399 ,  1.13532183, -0.40656996,\n",
       "         0.81095569,  2.21252627, -1.42167086, -0.03507977]])"
      ]
     },
     "execution_count": 183,
     "metadata": {},
     "output_type": "execute_result"
    }
   ],
   "source": [
    "from sklearn.preprocessing import StandardScaler\n",
    "\n",
    "ss = StandardScaler()\n",
    "X_nn_ss = ss.fit_transform(X_nn)\n",
    "X_nn_ss[0:5]"
   ]
  },
  {
   "cell_type": "code",
   "execution_count": 184,
   "metadata": {},
   "outputs": [
    {
     "name": "stdout",
     "output_type": "stream",
     "text": [
      "(30000, 9)\n",
      "(30000, 9)\n"
     ]
    }
   ],
   "source": [
    "print(X_nn_norm.shape)\n",
    "print(X_nn_ss.shape)"
   ]
  },
  {
   "cell_type": "code",
   "execution_count": 185,
   "metadata": {},
   "outputs": [],
   "source": [
    "%%capture\n",
    "training_X = X_nn[:5000]\n",
    "training_y = y[:5000]\n",
    "prediction_data = X_nn[5000:]\n",
    "\n",
    "training_X_norm = X_nn_norm[:5000]\n",
    "prediction_data_norm = X_nn_ss[5000:]\n",
    "\n",
    "training_X_ss = X_nn_ss[:5000]\n",
    "prediction_data_ss = X_nn_ss[5000:]"
   ]
  },
  {
   "cell_type": "code",
   "execution_count": 186,
   "metadata": {},
   "outputs": [
    {
     "data": {
      "text/plain": [
       "0        <=50K\n",
       "1        <=50K\n",
       "2        <=50K\n",
       "3        <=50K\n",
       "4        <=50K\n",
       "         ...  \n",
       "4995     <=50K\n",
       "4996      >50K\n",
       "4997      >50K\n",
       "4998     <=50K\n",
       "4999     <=50K\n",
       "Name: Income, Length: 5000, dtype: object"
      ]
     },
     "execution_count": 186,
     "metadata": {},
     "output_type": "execute_result"
    }
   ],
   "source": [
    "training_y[\"Income\"]"
   ]
  },
  {
   "cell_type": "code",
   "execution_count": 187,
   "metadata": {},
   "outputs": [
    {
     "name": "stderr",
     "output_type": "stream",
     "text": [
      "C:\\Users\\kshit\\AppData\\Local\\Temp\\ipykernel_4968\\3514253416.py:2: SettingWithCopyWarning: \n",
      "A value is trying to be set on a copy of a slice from a DataFrame.\n",
      "Try using .loc[row_indexer,col_indexer] = value instead\n",
      "\n",
      "See the caveats in the documentation: https://pandas.pydata.org/pandas-docs/stable/user_guide/indexing.html#returning-a-view-versus-a-copy\n",
      "  training_y['Income'] = label_encoding_income.fit_transform(training_y['Income'].tolist())\n"
     ]
    }
   ],
   "source": [
    "label_encoding_income = LabelEncoder()\n",
    "training_y['Income'] = label_encoding_income.fit_transform(training_y['Income'].tolist())"
   ]
  },
  {
   "cell_type": "code",
   "execution_count": 188,
   "metadata": {},
   "outputs": [
    {
     "data": {
      "text/plain": [
       "array([' <=50K', ' >50K'], dtype='<U6')"
      ]
     },
     "execution_count": 188,
     "metadata": {},
     "output_type": "execute_result"
    }
   ],
   "source": [
    "label_encoding_income.classes_"
   ]
  },
  {
   "cell_type": "code",
   "execution_count": 125,
   "metadata": {},
   "outputs": [],
   "source": [
    "y_nn = training_y.to_numpy()"
   ]
  },
  {
   "cell_type": "code",
   "execution_count": 126,
   "metadata": {},
   "outputs": [
    {
     "data": {
      "text/plain": [
       "(30000, 9)"
      ]
     },
     "execution_count": 126,
     "metadata": {},
     "output_type": "execute_result"
    }
   ],
   "source": [
    "X_nn.shape"
   ]
  },
  {
   "cell_type": "code",
   "execution_count": 127,
   "metadata": {},
   "outputs": [
    {
     "data": {
      "text/plain": [
       "(5000, 1)"
      ]
     },
     "execution_count": 127,
     "metadata": {},
     "output_type": "execute_result"
    }
   ],
   "source": [
    "y_nn.shape"
   ]
  },
  {
   "cell_type": "code",
   "execution_count": 130,
   "metadata": {},
   "outputs": [
    {
     "name": "stdout",
     "output_type": "stream",
     "text": [
      "(5000, 9)\n",
      "(5000, 9)\n",
      "(5000, 9)\n"
     ]
    }
   ],
   "source": [
    "print(training_X.shape)\n",
    "print(training_X_norm.shape)\n",
    "print(training_X_ss.shape)"
   ]
  },
  {
   "cell_type": "code",
   "execution_count": 131,
   "metadata": {},
   "outputs": [
    {
     "data": {
      "image/png": "[encoded data removed]",
      "text/plain": [
       "<Figure size 720x720 with 9 Axes>"
      ]
     },
     "metadata": {
      "needs_background": "light"
     },
     "output_type": "display_data"
    }
   ],
   "source": [
    "fig,axes = plt.subplots(3,3,figsize=(10,10))\n",
    "sns.histplot(data=training_X[:,0], ax = axes[0,0])\n",
    "sns.histplot(data=training_X[:,1], ax = axes[0,1])\n",
    "sns.histplot(data=training_X[:,2], ax = axes[0,2])\n",
    "sns.histplot(data=training_X[:,3], ax = axes[1,0])\n",
    "sns.histplot(data=training_X[:,4], ax = axes[1,1])\n",
    "sns.histplot(data=training_X[:,5], ax = axes[1,2])\n",
    "sns.histplot(data=training_X[:,6], ax = axes[2,0])\n",
    "sns.histplot(data=training_X[:,7], ax = axes[2,1])\n",
    "sns.histplot(data=training_X[:,8], ax = axes[2,2])\n",
    "plt.tight_layout()"
   ]
  },
  {
   "cell_type": "code",
   "execution_count": 132,
   "metadata": {},
   "outputs": [
    {
     "data": {
      "image/png": "[encoded data removed]",
      "text/plain": [
       "<Figure size 720x720 with 9 Axes>"
      ]
     },
     "metadata": {
      "needs_background": "light"
     },
     "output_type": "display_data"
    }
   ],
   "source": [
    "fig,axes = plt.subplots(3,3,figsize=(10,10))\n",
    "sns.histplot(data=training_X_norm[:,0], ax = axes[0,0])\n",
    "sns.histplot(data=training_X_norm[:,1], ax = axes[0,1])\n",
    "sns.histplot(data=training_X_norm[:,2], ax = axes[0,2])\n",
    "sns.histplot(data=training_X_norm[:,3], ax = axes[1,0])\n",
    "sns.histplot(data=training_X_norm[:,4], ax = axes[1,1])\n",
    "sns.histplot(data=training_X_norm[:,5], ax = axes[1,2])\n",
    "sns.histplot(data=training_X_norm[:,6], ax = axes[2,0])\n",
    "sns.histplot(data=training_X_norm[:,7], ax = axes[2,1])\n",
    "sns.histplot(data=training_X_norm[:,8], ax = axes[2,2])\n",
    "plt.tight_layout()"
   ]
  },
  {
   "cell_type": "code",
   "execution_count": 133,
   "metadata": {},
   "outputs": [
    {
     "data": {
      "image/png": "[encoded data removed]",
      "text/plain": [
       "<Figure size 720x720 with 9 Axes>"
      ]
     },
     "metadata": {
      "needs_background": "light"
     },
     "output_type": "display_data"
    }
   ],
   "source": [
    "fig,axes = plt.subplots(3,3,figsize=(10,10))\n",
    "sns.histplot(data=training_X_ss[:,0], ax = axes[0,0])\n",
    "sns.histplot(data=training_X_ss[:,1], ax = axes[0,1])\n",
    "sns.histplot(data=training_X_ss[:,2], ax = axes[0,2])\n",
    "sns.histplot(data=training_X_ss[:,3], ax = axes[1,0])\n",
    "sns.histplot(data=training_X_ss[:,4], ax = axes[1,1])\n",
    "sns.histplot(data=training_X_ss[:,5], ax = axes[1,2])\n",
    "sns.histplot(data=training_X_ss[:,6], ax = axes[2,0])\n",
    "sns.histplot(data=training_X_ss[:,7], ax = axes[2,1])\n",
    "sns.histplot(data=training_X_ss[:,8], ax = axes[2,2])\n",
    "plt.tight_layout()"
   ]
  },
  {
   "cell_type": "code",
   "execution_count": 134,
   "metadata": {},
   "outputs": [],
   "source": [
    "from sklearn.model_selection import train_test_split\n",
    "\n",
    "X_train_nn,X_test_nn,y_train_nn,y_test_nn = train_test_split(training_X,y_nn,shuffle=True,random_state=42,test_size=0.1)\n",
    "X_train_nn_norm,X_test_nn_norm,y_train_nn_norm,y_test_nn_norm = train_test_split(training_X_norm,y_nn,shuffle=True,random_state=42,test_size=0.1)\n",
    "X_train_nn_ss,X_test_nn_ss,y_train_nn_ss,y_test_nn_ss = train_test_split(training_X_ss,y_nn,shuffle=True,random_state=42,test_size=0.1)"
   ]
  },
  {
   "cell_type": "code",
   "execution_count": 135,
   "metadata": {},
   "outputs": [
    {
     "name": "stdout",
     "output_type": "stream",
     "text": [
      "(4500, 9)\n",
      "(4500, 9)\n",
      "(4500, 9)\n"
     ]
    }
   ],
   "source": [
    "print(X_train_nn.shape)\n",
    "print(X_train_nn_norm.shape)\n",
    "print(X_train_nn_ss.shape)"
   ]
  },
  {
   "cell_type": "code",
   "execution_count": 136,
   "metadata": {},
   "outputs": [
    {
     "name": "stdout",
     "output_type": "stream",
     "text": [
      "(4500, 1)\n",
      "(4500, 1)\n",
      "(4500, 1)\n"
     ]
    }
   ],
   "source": [
    "print(y_train_nn.shape)\n",
    "print(y_train_nn_norm.shape)\n",
    "print(y_train_nn_ss.shape)"
   ]
  },
  {
   "cell_type": "code",
   "execution_count": 137,
   "metadata": {},
   "outputs": [],
   "source": [
    "model_base = Sequential()\n",
    "\n",
    "model_base.add(tf.keras.Input(X_train_nn.shape[1]))\n",
    "model_base.add(Dense(64,activation='relu',input_shape = (9,)))\n",
    "model_base.add(Dense(16,activation='relu',input_shape = (128,)))\n",
    "model_base.add(Dense(1,activation=\"sigmoid\",input_shape = (64,)))\n",
    "\n",
    "model_base.compile(optimizer=\"adam\",loss=\"binary_crossentropy\",metrics=[tf.keras.metrics.CategoricalAccuracy()])\n",
    "\n",
    "model_norm = Sequential()\n",
    "\n",
    "model_norm.add(tf.keras.Input(X_train_nn_norm.shape[1]))\n",
    "model_norm.add(Dense(64,activation='relu',input_shape = (9,)))\n",
    "model_norm.add(Dense(16,activation='relu',input_shape = (128,)))\n",
    "model_norm.add(Dense(1,activation=\"sigmoid\",input_shape = (64,)))\n",
    "\n",
    "model_norm.compile(optimizer=\"adam\",loss=\"binary_crossentropy\",metrics=[tf.keras.metrics.CategoricalAccuracy()])\n",
    "\n",
    "model_ss = Sequential()\n",
    "\n",
    "model_ss.add(tf.keras.Input(X_train_nn_ss.shape[1]))\n",
    "model_ss.add(Dense(64,activation='relu',input_shape = (9,)))\n",
    "model_ss.add(Dense(16,activation='relu',input_shape = (128,)))\n",
    "model_ss.add(Dense(1,activation=\"sigmoid\",input_shape = (64,)))\n",
    "\n",
    "model_ss.compile(optimizer=\"adam\",loss=\"binary_crossentropy\",metrics=[tf.keras.metrics.CategoricalAccuracy()])\n",
    "\n",
    "# weights = class_weight.compute_class_weight(class_weight=\"balanced\", classes=list(np.unique(y_train_nn)), y=y_train_nn)"
   ]
  },
  {
   "cell_type": "code",
   "execution_count": 138,
   "metadata": {},
   "outputs": [
    {
     "name": "stdout",
     "output_type": "stream",
     "text": [
      "Model: \"sequential_8\"\n",
      "_________________________________________________________________\n",
      " Layer (type)                Output Shape              Param #   \n",
      "=================================================================\n",
      " dense_24 (Dense)            (None, 64)                640       \n",
      "                                                                 \n",
      " dense_25 (Dense)            (None, 16)                1040      \n",
      "                                                                 \n",
      " dense_26 (Dense)            (None, 1)                 17        \n",
      "                                                                 \n",
      "=================================================================\n",
      "Total params: 1,697\n",
      "Trainable params: 1,697\n",
      "Non-trainable params: 0\n",
      "_________________________________________________________________\n"
     ]
    }
   ],
   "source": [
    "model_base.summary()"
   ]
  },
  {
   "cell_type": "code",
   "execution_count": 139,
   "metadata": {},
   "outputs": [
    {
     "name": "stdout",
     "output_type": "stream",
     "text": [
      "Model: \"sequential_9\"\n",
      "_________________________________________________________________\n",
      " Layer (type)                Output Shape              Param #   \n",
      "=================================================================\n",
      " dense_27 (Dense)            (None, 64)                640       \n",
      "                                                                 \n",
      " dense_28 (Dense)            (None, 16)                1040      \n",
      "                                                                 \n",
      " dense_29 (Dense)            (None, 1)                 17        \n",
      "                                                                 \n",
      "=================================================================\n",
      "Total params: 1,697\n",
      "Trainable params: 1,697\n",
      "Non-trainable params: 0\n",
      "_________________________________________________________________\n"
     ]
    }
   ],
   "source": [
    "model_norm.summary()"
   ]
  },
  {
   "cell_type": "code",
   "execution_count": 140,
   "metadata": {},
   "outputs": [
    {
     "name": "stdout",
     "output_type": "stream",
     "text": [
      "Model: \"sequential_10\"\n",
      "_________________________________________________________________\n",
      " Layer (type)                Output Shape              Param #   \n",
      "=================================================================\n",
      " dense_30 (Dense)            (None, 64)                640       \n",
      "                                                                 \n",
      " dense_31 (Dense)            (None, 16)                1040      \n",
      "                                                                 \n",
      " dense_32 (Dense)            (None, 1)                 17        \n",
      "                                                                 \n",
      "=================================================================\n",
      "Total params: 1,697\n",
      "Trainable params: 1,697\n",
      "Non-trainable params: 0\n",
      "_________________________________________________________________\n"
     ]
    }
   ],
   "source": [
    "model_ss.summary()"
   ]
  },
  {
   "cell_type": "code",
   "execution_count": 141,
   "metadata": {},
   "outputs": [
    {
     "data": {
      "text/plain": [
       "array([0, 1], dtype=int64)"
      ]
     },
     "execution_count": 141,
     "metadata": {},
     "output_type": "execute_result"
    }
   ],
   "source": [
    "np.unique(y_train_nn)"
   ]
  },
  {
   "cell_type": "code",
   "execution_count": 142,
   "metadata": {},
   "outputs": [
    {
     "name": "stdout",
     "output_type": "stream",
     "text": [
      "Epoch 1/30\n"
     ]
    },
    {
     "name": "stdout",
     "output_type": "stream",
     "text": [
      "1125/1125 [==============================] - 2s 2ms/step - loss: 0.5157 - categorical_accuracy: 1.0000\n",
      "Epoch 2/30\n",
      "1125/1125 [==============================] - 2s 1ms/step - loss: 0.4878 - categorical_accuracy: 1.0000\n",
      "Epoch 3/30\n",
      "1125/1125 [==============================] - 2s 2ms/step - loss: 0.4691 - categorical_accuracy: 1.0000\n",
      "Epoch 4/30\n",
      "1125/1125 [==============================] - 2s 1ms/step - loss: 0.4388 - categorical_accuracy: 1.0000\n",
      "Epoch 5/30\n",
      "1125/1125 [==============================] - 2s 1ms/step - loss: 0.4198 - categorical_accuracy: 1.0000\n",
      "Epoch 6/30\n",
      "1125/1125 [==============================] - 2s 2ms/step - loss: 0.4056 - categorical_accuracy: 1.0000\n",
      "Epoch 7/30\n",
      "1125/1125 [==============================] - 2s 2ms/step - loss: 0.3988 - categorical_accuracy: 1.0000\n",
      "Epoch 8/30\n",
      "1125/1125 [==============================] - 2s 2ms/step - loss: 0.3997 - categorical_accuracy: 1.0000\n",
      "Epoch 9/30\n",
      "1125/1125 [==============================] - 2s 2ms/step - loss: 0.3951 - categorical_accuracy: 1.0000\n",
      "Epoch 10/30\n",
      "1125/1125 [==============================] - 2s 2ms/step - loss: 0.3935 - categorical_accuracy: 1.0000\n",
      "Epoch 11/30\n",
      "1125/1125 [==============================] - 2s 2ms/step - loss: 0.3932 - categorical_accuracy: 1.0000\n",
      "Epoch 12/30\n",
      "1125/1125 [==============================] - 2s 2ms/step - loss: 0.3893 - categorical_accuracy: 1.0000\n",
      "Epoch 13/30\n",
      "1125/1125 [==============================] - 2s 2ms/step - loss: 0.3873 - categorical_accuracy: 1.0000\n",
      "Epoch 14/30\n",
      "1125/1125 [==============================] - 2s 2ms/step - loss: 0.3828 - categorical_accuracy: 1.0000\n",
      "Epoch 15/30\n",
      "1125/1125 [==============================] - 2s 2ms/step - loss: 0.3906 - categorical_accuracy: 1.0000\n",
      "Epoch 16/30\n",
      "1125/1125 [==============================] - 2s 2ms/step - loss: 0.3820 - categorical_accuracy: 1.0000\n",
      "Epoch 17/30\n",
      "1125/1125 [==============================] - 2s 2ms/step - loss: 0.3837 - categorical_accuracy: 1.0000\n",
      "Epoch 18/30\n",
      "1125/1125 [==============================] - 2s 2ms/step - loss: 0.3814 - categorical_accuracy: 1.0000\n",
      "Epoch 19/30\n",
      "1125/1125 [==============================] - 2s 2ms/step - loss: 0.3832 - categorical_accuracy: 1.0000\n",
      "Epoch 20/30\n",
      "1125/1125 [==============================] - 2s 2ms/step - loss: 0.3786 - categorical_accuracy: 1.0000\n",
      "Epoch 21/30\n",
      "1125/1125 [==============================] - 2s 2ms/step - loss: 0.3798 - categorical_accuracy: 1.0000\n",
      "Epoch 22/30\n",
      "1125/1125 [==============================] - 2s 2ms/step - loss: 0.3769 - categorical_accuracy: 1.0000\n",
      "Epoch 23/30\n",
      "1125/1125 [==============================] - 2s 2ms/step - loss: 0.3769 - categorical_accuracy: 1.0000\n",
      "Epoch 24/30\n",
      "1125/1125 [==============================] - 2s 2ms/step - loss: 0.3744 - categorical_accuracy: 1.0000\n",
      "Epoch 25/30\n",
      "1125/1125 [==============================] - 2s 2ms/step - loss: 0.3750 - categorical_accuracy: 1.0000\n",
      "Epoch 26/30\n",
      "1125/1125 [==============================] - 2s 2ms/step - loss: 0.3732 - categorical_accuracy: 1.0000\n",
      "Epoch 27/30\n",
      "1125/1125 [==============================] - 2s 2ms/step - loss: 0.3725 - categorical_accuracy: 1.0000\n",
      "Epoch 28/30\n",
      "1125/1125 [==============================] - 2s 2ms/step - loss: 0.3714 - categorical_accuracy: 1.0000\n",
      "Epoch 29/30\n",
      "1125/1125 [==============================] - 2s 2ms/step - loss: 0.3702 - categorical_accuracy: 1.0000\n",
      "Epoch 30/30\n",
      "1125/1125 [==============================] - 2s 2ms/step - loss: 0.3697 - categorical_accuracy: 1.0000\n"
     ]
    },
    {
     "data": {
      "text/plain": [
       "<keras.callbacks.History at 0x1f8128750a0>"
      ]
     },
     "execution_count": 142,
     "metadata": {},
     "output_type": "execute_result"
    }
   ],
   "source": [
    "model_base.fit(X_train_nn,y_train_nn,epochs=30,batch_size=4)"
   ]
  },
  {
   "cell_type": "code",
   "execution_count": 143,
   "metadata": {},
   "outputs": [
    {
     "name": "stdout",
     "output_type": "stream",
     "text": [
      "Epoch 1/30\n"
     ]
    },
    {
     "name": "stdout",
     "output_type": "stream",
     "text": [
      "1125/1125 [==============================] - 3s 1ms/step - loss: 0.5605 - categorical_accuracy: 1.0000\n",
      "Epoch 2/30\n",
      "1125/1125 [==============================] - 2s 2ms/step - loss: 0.5484 - categorical_accuracy: 1.0000\n",
      "Epoch 3/30\n",
      "1125/1125 [==============================] - 2s 1ms/step - loss: 0.5413 - categorical_accuracy: 1.0000\n",
      "Epoch 4/30\n",
      "1125/1125 [==============================] - 2s 1ms/step - loss: 0.5292 - categorical_accuracy: 1.0000\n",
      "Epoch 5/30\n",
      "1125/1125 [==============================] - 2s 2ms/step - loss: 0.5096 - categorical_accuracy: 1.0000\n",
      "Epoch 6/30\n",
      "1125/1125 [==============================] - 2s 1ms/step - loss: 0.4946 - categorical_accuracy: 1.0000\n",
      "Epoch 7/30\n",
      "1125/1125 [==============================] - 2s 1ms/step - loss: 0.4854 - categorical_accuracy: 1.0000\n",
      "Epoch 8/30\n",
      "1125/1125 [==============================] - 2s 1ms/step - loss: 0.4818 - categorical_accuracy: 1.0000\n",
      "Epoch 9/30\n",
      "1125/1125 [==============================] - 2s 1ms/step - loss: 0.4798 - categorical_accuracy: 1.0000\n",
      "Epoch 10/30\n",
      "1125/1125 [==============================] - 2s 2ms/step - loss: 0.4770 - categorical_accuracy: 1.0000\n",
      "Epoch 11/30\n",
      "1125/1125 [==============================] - 2s 1ms/step - loss: 0.4741 - categorical_accuracy: 1.0000\n",
      "Epoch 12/30\n",
      "1125/1125 [==============================] - 2s 1ms/step - loss: 0.4722 - categorical_accuracy: 1.0000\n",
      "Epoch 13/30\n",
      "1125/1125 [==============================] - 2s 1ms/step - loss: 0.4698 - categorical_accuracy: 1.0000\n",
      "Epoch 14/30\n",
      "1125/1125 [==============================] - 2s 2ms/step - loss: 0.4670 - categorical_accuracy: 1.0000\n",
      "Epoch 15/30\n",
      "1125/1125 [==============================] - 2s 1ms/step - loss: 0.4633 - categorical_accuracy: 1.0000\n",
      "Epoch 16/30\n",
      "1125/1125 [==============================] - 2s 1ms/step - loss: 0.4623 - categorical_accuracy: 1.0000\n",
      "Epoch 17/30\n",
      "1125/1125 [==============================] - 2s 1ms/step - loss: 0.4602 - categorical_accuracy: 1.0000\n",
      "Epoch 18/30\n",
      "1125/1125 [==============================] - 2s 1ms/step - loss: 0.4585 - categorical_accuracy: 1.0000\n",
      "Epoch 19/30\n",
      "1125/1125 [==============================] - 2s 2ms/step - loss: 0.4556 - categorical_accuracy: 1.0000\n",
      "Epoch 20/30\n",
      "1125/1125 [==============================] - 2s 2ms/step - loss: 0.4535 - categorical_accuracy: 1.0000\n",
      "Epoch 21/30\n",
      "1125/1125 [==============================] - 2s 2ms/step - loss: 0.4523 - categorical_accuracy: 1.0000\n",
      "Epoch 22/30\n",
      "1125/1125 [==============================] - 2s 2ms/step - loss: 0.4506 - categorical_accuracy: 1.0000\n",
      "Epoch 23/30\n",
      "1125/1125 [==============================] - 2s 2ms/step - loss: 0.4487 - categorical_accuracy: 1.0000\n",
      "Epoch 24/30\n",
      "1125/1125 [==============================] - 2s 2ms/step - loss: 0.4470 - categorical_accuracy: 1.0000\n",
      "Epoch 25/30\n",
      "1125/1125 [==============================] - 2s 2ms/step - loss: 0.4474 - categorical_accuracy: 1.0000\n",
      "Epoch 26/30\n",
      "1125/1125 [==============================] - 2s 2ms/step - loss: 0.4439 - categorical_accuracy: 1.0000\n",
      "Epoch 27/30\n",
      "1125/1125 [==============================] - 2s 2ms/step - loss: 0.4431 - categorical_accuracy: 1.0000\n",
      "Epoch 28/30\n",
      "1125/1125 [==============================] - 2s 2ms/step - loss: 0.4395 - categorical_accuracy: 1.0000\n",
      "Epoch 29/30\n",
      "1125/1125 [==============================] - 2s 2ms/step - loss: 0.4376 - categorical_accuracy: 1.0000\n",
      "Epoch 30/30\n",
      "1125/1125 [==============================] - 2s 2ms/step - loss: 0.4362 - categorical_accuracy: 1.0000\n"
     ]
    },
    {
     "data": {
      "text/plain": [
       "<keras.callbacks.History at 0x1f812718fd0>"
      ]
     },
     "execution_count": 143,
     "metadata": {},
     "output_type": "execute_result"
    }
   ],
   "source": [
    "model_norm.fit(X_train_nn_norm,y_train_nn_norm,epochs=30,batch_size=4)"
   ]
  },
  {
   "cell_type": "code",
   "execution_count": 144,
   "metadata": {},
   "outputs": [
    {
     "name": "stdout",
     "output_type": "stream",
     "text": [
      "Epoch 1/30\n"
     ]
    },
    {
     "name": "stdout",
     "output_type": "stream",
     "text": [
      "1125/1125 [==============================] - 3s 2ms/step - loss: 0.4025 - categorical_accuracy: 1.0000\n",
      "Epoch 2/30\n",
      "1125/1125 [==============================] - 2s 2ms/step - loss: 0.3660 - categorical_accuracy: 1.0000\n",
      "Epoch 3/30\n",
      "1125/1125 [==============================] - 2s 1ms/step - loss: 0.3603 - categorical_accuracy: 1.0000\n",
      "Epoch 4/30\n",
      "1125/1125 [==============================] - 2s 2ms/step - loss: 0.3542 - categorical_accuracy: 1.0000\n",
      "Epoch 5/30\n",
      "1125/1125 [==============================] - 2s 2ms/step - loss: 0.3533 - categorical_accuracy: 1.0000\n",
      "Epoch 6/30\n",
      "1125/1125 [==============================] - 2s 1ms/step - loss: 0.3503 - categorical_accuracy: 1.0000\n",
      "Epoch 7/30\n",
      "1125/1125 [==============================] - 2s 2ms/step - loss: 0.3473 - categorical_accuracy: 1.0000\n",
      "Epoch 8/30\n",
      "1125/1125 [==============================] - 2s 2ms/step - loss: 0.3462 - categorical_accuracy: 1.0000\n",
      "Epoch 9/30\n",
      "1125/1125 [==============================] - 2s 2ms/step - loss: 0.3433 - categorical_accuracy: 1.0000\n",
      "Epoch 10/30\n",
      "1125/1125 [==============================] - 2s 1ms/step - loss: 0.3422 - categorical_accuracy: 1.0000\n",
      "Epoch 11/30\n",
      "1125/1125 [==============================] - 2s 1ms/step - loss: 0.3403 - categorical_accuracy: 1.0000\n",
      "Epoch 12/30\n",
      "1125/1125 [==============================] - 2s 1ms/step - loss: 0.3386 - categorical_accuracy: 1.0000\n",
      "Epoch 13/30\n",
      "1125/1125 [==============================] - 2s 2ms/step - loss: 0.3364 - categorical_accuracy: 1.0000\n",
      "Epoch 14/30\n",
      "1125/1125 [==============================] - 2s 2ms/step - loss: 0.3348 - categorical_accuracy: 1.0000\n",
      "Epoch 15/30\n",
      "1125/1125 [==============================] - 2s 2ms/step - loss: 0.3343 - categorical_accuracy: 1.0000\n",
      "Epoch 16/30\n",
      "1125/1125 [==============================] - 2s 2ms/step - loss: 0.3320 - categorical_accuracy: 1.0000\n",
      "Epoch 17/30\n",
      "1125/1125 [==============================] - 2s 2ms/step - loss: 0.3296 - categorical_accuracy: 1.0000\n",
      "Epoch 18/30\n",
      "1125/1125 [==============================] - 2s 2ms/step - loss: 0.3288 - categorical_accuracy: 1.0000\n",
      "Epoch 19/30\n",
      "1125/1125 [==============================] - 2s 2ms/step - loss: 0.3285 - categorical_accuracy: 1.0000\n",
      "Epoch 20/30\n",
      "1125/1125 [==============================] - 2s 2ms/step - loss: 0.3264 - categorical_accuracy: 1.0000\n",
      "Epoch 21/30\n",
      "1125/1125 [==============================] - 2s 2ms/step - loss: 0.3244 - categorical_accuracy: 1.0000\n",
      "Epoch 22/30\n",
      "1125/1125 [==============================] - 2s 2ms/step - loss: 0.3234 - categorical_accuracy: 1.0000\n",
      "Epoch 23/30\n",
      "1125/1125 [==============================] - 2s 2ms/step - loss: 0.3206 - categorical_accuracy: 1.0000\n",
      "Epoch 24/30\n",
      "1125/1125 [==============================] - 2s 2ms/step - loss: 0.3217 - categorical_accuracy: 1.0000\n",
      "Epoch 25/30\n",
      "1125/1125 [==============================] - 2s 2ms/step - loss: 0.3185 - categorical_accuracy: 1.0000\n",
      "Epoch 26/30\n",
      "1125/1125 [==============================] - 2s 2ms/step - loss: 0.3179 - categorical_accuracy: 1.0000\n",
      "Epoch 27/30\n",
      "1125/1125 [==============================] - 2s 2ms/step - loss: 0.3182 - categorical_accuracy: 1.0000\n",
      "Epoch 28/30\n",
      "1125/1125 [==============================] - 2s 2ms/step - loss: 0.3159 - categorical_accuracy: 1.0000\n",
      "Epoch 29/30\n",
      "1125/1125 [==============================] - 2s 2ms/step - loss: 0.3128 - categorical_accuracy: 1.0000\n",
      "Epoch 30/30\n",
      "1125/1125 [==============================] - 2s 2ms/step - loss: 0.3138 - categorical_accuracy: 1.0000\n"
     ]
    },
    {
     "data": {
      "text/plain": [
       "<keras.callbacks.History at 0x1f80d1bff10>"
      ]
     },
     "execution_count": 144,
     "metadata": {},
     "output_type": "execute_result"
    }
   ],
   "source": [
    "model_ss.fit(X_train_nn_ss,y_train_nn_ss,epochs=30,batch_size=4)"
   ]
  },
  {
   "cell_type": "code",
   "execution_count": 205,
   "metadata": {},
   "outputs": [
    {
     "name": "stdout",
     "output_type": "stream",
     "text": [
      "              precision    recall  f1-score   support\n",
      "\n",
      "           0       0.87      0.90      0.89       369\n",
      "           1       0.69      0.63      0.66       131\n",
      "\n",
      "    accuracy                           0.83       500\n",
      "   macro avg       0.78      0.77      0.77       500\n",
      "weighted avg       0.83      0.83      0.83       500\n",
      "\n"
     ]
    }
   ],
   "source": [
    "prediction = model_base.predict(X_test_nn)\n",
    "print(classification_report(y_test_nn,np.round(prediction)))"
   ]
  },
  {
   "cell_type": "code",
   "execution_count": 209,
   "metadata": {},
   "outputs": [
    {
     "name": "stdout",
     "output_type": "stream",
     "text": [
      " <=50K    20073\n",
      " >50K      4927\n",
      "dtype: int64\n"
     ]
    },
    {
     "data": {
      "image/png": "[encoded data removed]",
      "text/plain": [
       "<Figure size 432x288 with 1 Axes>"
      ]
     },
     "metadata": {
      "needs_background": "light"
     },
     "output_type": "display_data"
    }
   ],
   "source": [
    "predicted_base = model_base.predict(prediction_data)\n",
    "sns.histplot(label_encoding_income.inverse_transform(np.round(predicted_base.reshape(predicted_base.shape[0])).astype(np.int64)))\n",
    "print(pd.Series(label_encoding_income.inverse_transform(np.round(predicted_base.reshape(predicted_base.shape[0])).astype(np.int64))).value_counts())"
   ]
  },
  {
   "cell_type": "code",
   "execution_count": 210,
   "metadata": {},
   "outputs": [
    {
     "name": "stdout",
     "output_type": "stream",
     "text": [
      "              precision    recall  f1-score   support\n",
      "\n",
      "           0       0.77      0.96      0.85       369\n",
      "           1       0.63      0.18      0.28       131\n",
      "\n",
      "    accuracy                           0.76       500\n",
      "   macro avg       0.70      0.57      0.57       500\n",
      "weighted avg       0.73      0.76      0.70       500\n",
      "\n"
     ]
    }
   ],
   "source": [
    "prediction = model_norm.predict(X_test_nn_norm)\n",
    "print(classification_report(y_test_nn_norm,np.round(prediction)))"
   ]
  },
  {
   "cell_type": "code",
   "execution_count": 211,
   "metadata": {},
   "outputs": [
    {
     "name": "stdout",
     "output_type": "stream",
     "text": [
      " <=50K    14283\n",
      " >50K     10717\n",
      "dtype: int64\n"
     ]
    },
    {
     "data": {
      "image/png": "[encoded data removed]",
      "text/plain": [
       "<Figure size 432x288 with 1 Axes>"
      ]
     },
     "metadata": {
      "needs_background": "light"
     },
     "output_type": "display_data"
    }
   ],
   "source": [
    "predicted_norm = model_norm.predict(prediction_data_norm)\n",
    "sns.histplot(label_encoding_income.inverse_transform(np.round(predicted_norm.reshape(predicted_norm.shape[0])).astype(np.int64)))\n",
    "print(pd.Series(label_encoding_income.inverse_transform(np.round(predicted_norm.reshape(predicted_norm.shape[0])).astype(np.int64))).value_counts())"
   ]
  },
  {
   "cell_type": "code",
   "execution_count": 212,
   "metadata": {},
   "outputs": [
    {
     "name": "stdout",
     "output_type": "stream",
     "text": [
      "              precision    recall  f1-score   support\n",
      "\n",
      "           0       0.88      0.85      0.87       369\n",
      "           1       0.62      0.69      0.65       131\n",
      "\n",
      "    accuracy                           0.81       500\n",
      "   macro avg       0.75      0.77      0.76       500\n",
      "weighted avg       0.81      0.81      0.81       500\n",
      "\n"
     ]
    }
   ],
   "source": [
    "prediction = model_ss.predict(X_test_nn_ss)\n",
    "print(classification_report(y_test_nn_ss,np.round(prediction)))"
   ]
  },
  {
   "cell_type": "code",
   "execution_count": 213,
   "metadata": {},
   "outputs": [
    {
     "name": "stdout",
     "output_type": "stream",
     "text": [
      " <=50K    18526\n",
      " >50K      6474\n",
      "dtype: int64\n"
     ]
    },
    {
     "data": {
      "image/png": "[encoded data removed]",
      "text/plain": [
       "<Figure size 432x288 with 1 Axes>"
      ]
     },
     "metadata": {
      "needs_background": "light"
     },
     "output_type": "display_data"
    }
   ],
   "source": [
    "predicted_ss = model_ss.predict(prediction_data_ss)\n",
    "sns.histplot(label_encoding_income.inverse_transform(np.round(predicted_ss.reshape(predicted_ss.shape[0])).astype(np.int64)))\n",
    "print(pd.Series(label_encoding_income.inverse_transform(np.round(predicted_ss.reshape(predicted_ss.shape[0])).astype(np.int64))).value_counts())"
   ]
  },
  {
   "cell_type": "code",
   "execution_count": null,
   "metadata": {},
   "outputs": [],
   "source": []
  }
 ],
 "metadata": {
  "kernelspec": {
   "display_name": "Python 3",
   "language": "python",
   "name": "python3"
  },
  "language_info": {
   "codemirror_mode": {
    "name": "ipython",
    "version": 3
   },
   "file_extension": ".py",
   "mimetype": "text/x-python",
   "name": "python",
   "nbconvert_exporter": "python",
   "pygments_lexer": "ipython3",
   "version": "3.9.5"
  },
  "orig_nbformat": 4
 },
 "nbformat": 4,
 "nbformat_minor": 2
}
